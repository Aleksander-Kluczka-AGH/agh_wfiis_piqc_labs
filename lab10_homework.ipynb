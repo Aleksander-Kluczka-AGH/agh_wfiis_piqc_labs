{
 "cells": [
  {
   "cell_type": "markdown",
   "metadata": {},
   "source": [
    "homework - convert scalar numbers to binary representation so that QAOA and QUBO can be applied\n",
    "\n",
    "how to convert continuous variables to binary - show me the way (hint: check how qiskit does it from latest lab)\n",
    "\n",
    "send it to gregoire.cattan@ibm.com"
   ]
  },
  {
   "cell_type": "code",
   "execution_count": null,
   "metadata": {},
   "outputs": [],
   "source": []
  }
 ],
 "metadata": {
  "language_info": {
   "name": "python"
  }
 },
 "nbformat": 4,
 "nbformat_minor": 2
}
