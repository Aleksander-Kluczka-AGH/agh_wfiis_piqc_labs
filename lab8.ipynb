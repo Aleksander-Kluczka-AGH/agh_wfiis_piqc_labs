{
  "cells": [
    {
      "cell_type": "markdown",
      "id": "5xt3DtyLEyCR",
      "metadata": {
        "id": "5xt3DtyLEyCR"
      },
      "source": [
        "This notebook illustrates the use of estimator and VQD runtime.\n",
        "\n",
        "Author: Tomasz Stopa\n",
        "\n",
        "Modified by: Gregoire Cattan"
      ]
    },
    {
      "cell_type": "code",
      "execution_count": 1,
      "id": "bymT1pTvpaj4",
      "metadata": {
        "id": "bymT1pTvpaj4"
      },
      "outputs": [
        {
          "name": "stdout",
          "output_type": "stream",
          "text": [
            "Requirement already satisfied: qiskit==0.45.1 in c:\\users\\alaga\\appdata\\local\\packages\\pythonsoftwarefoundation.python.3.11_qbz5n2kfra8p0\\localcache\\local-packages\\python311\\site-packages (0.45.1)\n",
            "Requirement already satisfied: qiskit-terra==0.45.1 in c:\\users\\alaga\\appdata\\local\\packages\\pythonsoftwarefoundation.python.3.11_qbz5n2kfra8p0\\localcache\\local-packages\\python311\\site-packages (from qiskit==0.45.1) (0.45.1)\n",
            "Requirement already satisfied: rustworkx>=0.13.0 in c:\\users\\alaga\\appdata\\local\\packages\\pythonsoftwarefoundation.python.3.11_qbz5n2kfra8p0\\localcache\\local-packages\\python311\\site-packages (from qiskit-terra==0.45.1->qiskit==0.45.1) (0.13.2)\n",
            "Requirement already satisfied: numpy<2,>=1.17 in c:\\users\\alaga\\appdata\\local\\packages\\pythonsoftwarefoundation.python.3.11_qbz5n2kfra8p0\\localcache\\local-packages\\python311\\site-packages (from qiskit-terra==0.45.1->qiskit==0.45.1) (1.23.5)\n",
            "Requirement already satisfied: ply>=3.10 in c:\\users\\alaga\\appdata\\local\\packages\\pythonsoftwarefoundation.python.3.11_qbz5n2kfra8p0\\localcache\\local-packages\\python311\\site-packages (from qiskit-terra==0.45.1->qiskit==0.45.1) (3.11)\n",
            "Requirement already satisfied: psutil>=5 in c:\\users\\alaga\\appdata\\local\\packages\\pythonsoftwarefoundation.python.3.11_qbz5n2kfra8p0\\localcache\\local-packages\\python311\\site-packages (from qiskit-terra==0.45.1->qiskit==0.45.1) (5.9.4)\n",
            "Requirement already satisfied: scipy>=1.5 in c:\\users\\alaga\\appdata\\local\\packages\\pythonsoftwarefoundation.python.3.11_qbz5n2kfra8p0\\localcache\\local-packages\\python311\\site-packages (from qiskit-terra==0.45.1->qiskit==0.45.1) (1.10.1)\n",
            "Requirement already satisfied: sympy>=1.3 in c:\\users\\alaga\\appdata\\local\\packages\\pythonsoftwarefoundation.python.3.11_qbz5n2kfra8p0\\localcache\\local-packages\\python311\\site-packages (from qiskit-terra==0.45.1->qiskit==0.45.1) (1.12)\n",
            "Requirement already satisfied: dill>=0.3 in c:\\users\\alaga\\appdata\\local\\packages\\pythonsoftwarefoundation.python.3.11_qbz5n2kfra8p0\\localcache\\local-packages\\python311\\site-packages (from qiskit-terra==0.45.1->qiskit==0.45.1) (0.3.6)\n",
            "Requirement already satisfied: python-dateutil>=2.8.0 in c:\\users\\alaga\\appdata\\local\\packages\\pythonsoftwarefoundation.python.3.11_qbz5n2kfra8p0\\localcache\\local-packages\\python311\\site-packages (from qiskit-terra==0.45.1->qiskit==0.45.1) (2.8.2)\n",
            "Requirement already satisfied: stevedore>=3.0.0 in c:\\users\\alaga\\appdata\\local\\packages\\pythonsoftwarefoundation.python.3.11_qbz5n2kfra8p0\\localcache\\local-packages\\python311\\site-packages (from qiskit-terra==0.45.1->qiskit==0.45.1) (5.1.0)\n",
            "Requirement already satisfied: six>=1.5 in c:\\users\\alaga\\appdata\\local\\packages\\pythonsoftwarefoundation.python.3.11_qbz5n2kfra8p0\\localcache\\local-packages\\python311\\site-packages (from python-dateutil>=2.8.0->qiskit-terra==0.45.1->qiskit==0.45.1) (1.16.0)\n",
            "Requirement already satisfied: pbr!=2.1.0,>=2.0.0 in c:\\users\\alaga\\appdata\\local\\packages\\pythonsoftwarefoundation.python.3.11_qbz5n2kfra8p0\\localcache\\local-packages\\python311\\site-packages (from stevedore>=3.0.0->qiskit-terra==0.45.1->qiskit==0.45.1) (6.0.0)\n",
            "Requirement already satisfied: mpmath>=0.19 in c:\\users\\alaga\\appdata\\local\\packages\\pythonsoftwarefoundation.python.3.11_qbz5n2kfra8p0\\localcache\\local-packages\\python311\\site-packages (from sympy>=1.3->qiskit-terra==0.45.1->qiskit==0.45.1) (1.3.0)\n"
          ]
        },
        {
          "name": "stderr",
          "output_type": "stream",
          "text": [
            "\n",
            "[notice] A new release of pip is available: 23.2.1 -> 23.3.2\n",
            "[notice] To update, run: C:\\Users\\alaga\\AppData\\Local\\Microsoft\\WindowsApps\\PythonSoftwareFoundation.Python.3.11_qbz5n2kfra8p0\\python.exe -m pip install --upgrade pip\n"
          ]
        },
        {
          "name": "stdout",
          "output_type": "stream",
          "text": [
            "Requirement already satisfied: qiskit_ibm_runtime==0.17.0 in c:\\users\\alaga\\appdata\\local\\packages\\pythonsoftwarefoundation.python.3.11_qbz5n2kfra8p0\\localcache\\local-packages\\python311\\site-packages (0.17.0)\n",
            "Requirement already satisfied: qiskit>=0.44.1 in c:\\users\\alaga\\appdata\\local\\packages\\pythonsoftwarefoundation.python.3.11_qbz5n2kfra8p0\\localcache\\local-packages\\python311\\site-packages (from qiskit_ibm_runtime==0.17.0) (0.45.1)\n",
            "Requirement already satisfied: requests>=2.19 in c:\\users\\alaga\\appdata\\local\\packages\\pythonsoftwarefoundation.python.3.11_qbz5n2kfra8p0\\localcache\\local-packages\\python311\\site-packages (from qiskit_ibm_runtime==0.17.0) (2.31.0)\n",
            "Requirement already satisfied: requests-ntlm>=1.1.0 in c:\\users\\alaga\\appdata\\local\\packages\\pythonsoftwarefoundation.python.3.11_qbz5n2kfra8p0\\localcache\\local-packages\\python311\\site-packages (from qiskit_ibm_runtime==0.17.0) (1.1.0)\n",
            "Requirement already satisfied: numpy>=1.13 in c:\\users\\alaga\\appdata\\local\\packages\\pythonsoftwarefoundation.python.3.11_qbz5n2kfra8p0\\localcache\\local-packages\\python311\\site-packages (from qiskit_ibm_runtime==0.17.0) (1.23.5)\n",
            "Requirement already satisfied: urllib3>=1.21.1 in c:\\users\\alaga\\appdata\\local\\packages\\pythonsoftwarefoundation.python.3.11_qbz5n2kfra8p0\\localcache\\local-packages\\python311\\site-packages (from qiskit_ibm_runtime==0.17.0) (2.1.0)\n",
            "Requirement already satisfied: python-dateutil>=2.8.0 in c:\\users\\alaga\\appdata\\local\\packages\\pythonsoftwarefoundation.python.3.11_qbz5n2kfra8p0\\localcache\\local-packages\\python311\\site-packages (from qiskit_ibm_runtime==0.17.0) (2.8.2)\n",
            "Requirement already satisfied: websocket-client>=1.5.1 in c:\\users\\alaga\\appdata\\local\\packages\\pythonsoftwarefoundation.python.3.11_qbz5n2kfra8p0\\localcache\\local-packages\\python311\\site-packages (from qiskit_ibm_runtime==0.17.0) (1.5.1)\n",
            "Requirement already satisfied: ibm-platform-services>=0.22.6 in c:\\users\\alaga\\appdata\\local\\packages\\pythonsoftwarefoundation.python.3.11_qbz5n2kfra8p0\\localcache\\local-packages\\python311\\site-packages (from qiskit_ibm_runtime==0.17.0) (0.48.1)\n",
            "Requirement already satisfied: qiskit-ibm-provider>=0.7.2 in c:\\users\\alaga\\appdata\\local\\packages\\pythonsoftwarefoundation.python.3.11_qbz5n2kfra8p0\\localcache\\local-packages\\python311\\site-packages (from qiskit_ibm_runtime==0.17.0) (0.7.3)\n",
            "Requirement already satisfied: ibm-cloud-sdk-core<4.0.0,>=3.18.1 in c:\\users\\alaga\\appdata\\local\\packages\\pythonsoftwarefoundation.python.3.11_qbz5n2kfra8p0\\localcache\\local-packages\\python311\\site-packages (from ibm-platform-services>=0.22.6->qiskit_ibm_runtime==0.17.0) (3.18.2)\n",
            "Requirement already satisfied: six>=1.5 in c:\\users\\alaga\\appdata\\local\\packages\\pythonsoftwarefoundation.python.3.11_qbz5n2kfra8p0\\localcache\\local-packages\\python311\\site-packages (from python-dateutil>=2.8.0->qiskit_ibm_runtime==0.17.0) (1.16.0)\n",
            "Requirement already satisfied: qiskit-terra==0.45.1 in c:\\users\\alaga\\appdata\\local\\packages\\pythonsoftwarefoundation.python.3.11_qbz5n2kfra8p0\\localcache\\local-packages\\python311\\site-packages (from qiskit>=0.44.1->qiskit_ibm_runtime==0.17.0) (0.45.1)\n",
            "Requirement already satisfied: rustworkx>=0.13.0 in c:\\users\\alaga\\appdata\\local\\packages\\pythonsoftwarefoundation.python.3.11_qbz5n2kfra8p0\\localcache\\local-packages\\python311\\site-packages (from qiskit-terra==0.45.1->qiskit>=0.44.1->qiskit_ibm_runtime==0.17.0) (0.13.2)\n",
            "Requirement already satisfied: ply>=3.10 in c:\\users\\alaga\\appdata\\local\\packages\\pythonsoftwarefoundation.python.3.11_qbz5n2kfra8p0\\localcache\\local-packages\\python311\\site-packages (from qiskit-terra==0.45.1->qiskit>=0.44.1->qiskit_ibm_runtime==0.17.0) (3.11)\n",
            "Requirement already satisfied: psutil>=5 in c:\\users\\alaga\\appdata\\local\\packages\\pythonsoftwarefoundation.python.3.11_qbz5n2kfra8p0\\localcache\\local-packages\\python311\\site-packages (from qiskit-terra==0.45.1->qiskit>=0.44.1->qiskit_ibm_runtime==0.17.0) (5.9.4)\n",
            "Requirement already satisfied: scipy>=1.5 in c:\\users\\alaga\\appdata\\local\\packages\\pythonsoftwarefoundation.python.3.11_qbz5n2kfra8p0\\localcache\\local-packages\\python311\\site-packages (from qiskit-terra==0.45.1->qiskit>=0.44.1->qiskit_ibm_runtime==0.17.0) (1.10.1)\n",
            "Requirement already satisfied: sympy>=1.3 in c:\\users\\alaga\\appdata\\local\\packages\\pythonsoftwarefoundation.python.3.11_qbz5n2kfra8p0\\localcache\\local-packages\\python311\\site-packages (from qiskit-terra==0.45.1->qiskit>=0.44.1->qiskit_ibm_runtime==0.17.0) (1.12)\n",
            "Requirement already satisfied: dill>=0.3 in c:\\users\\alaga\\appdata\\local\\packages\\pythonsoftwarefoundation.python.3.11_qbz5n2kfra8p0\\localcache\\local-packages\\python311\\site-packages (from qiskit-terra==0.45.1->qiskit>=0.44.1->qiskit_ibm_runtime==0.17.0) (0.3.6)\n",
            "Requirement already satisfied: stevedore>=3.0.0 in c:\\users\\alaga\\appdata\\local\\packages\\pythonsoftwarefoundation.python.3.11_qbz5n2kfra8p0\\localcache\\local-packages\\python311\\site-packages (from qiskit-terra==0.45.1->qiskit>=0.44.1->qiskit_ibm_runtime==0.17.0) (5.1.0)\n",
            "Requirement already satisfied: websockets>=10.0 in c:\\users\\alaga\\appdata\\local\\packages\\pythonsoftwarefoundation.python.3.11_qbz5n2kfra8p0\\localcache\\local-packages\\python311\\site-packages (from qiskit-ibm-provider>=0.7.2->qiskit_ibm_runtime==0.17.0) (12.0)\n",
            "Requirement already satisfied: typing-extensions>=4.3 in c:\\users\\alaga\\appdata\\local\\packages\\pythonsoftwarefoundation.python.3.11_qbz5n2kfra8p0\\localcache\\local-packages\\python311\\site-packages (from qiskit-ibm-provider>=0.7.2->qiskit_ibm_runtime==0.17.0) (4.4.0)\n",
            "Requirement already satisfied: charset-normalizer<4,>=2 in c:\\users\\alaga\\appdata\\local\\packages\\pythonsoftwarefoundation.python.3.11_qbz5n2kfra8p0\\localcache\\local-packages\\python311\\site-packages (from requests>=2.19->qiskit_ibm_runtime==0.17.0) (3.1.0)\n",
            "Requirement already satisfied: idna<4,>=2.5 in c:\\users\\alaga\\appdata\\local\\packages\\pythonsoftwarefoundation.python.3.11_qbz5n2kfra8p0\\localcache\\local-packages\\python311\\site-packages (from requests>=2.19->qiskit_ibm_runtime==0.17.0) (2.10)\n",
            "Requirement already satisfied: certifi>=2017.4.17 in c:\\users\\alaga\\appdata\\local\\packages\\pythonsoftwarefoundation.python.3.11_qbz5n2kfra8p0\\localcache\\local-packages\\python311\\site-packages (from requests>=2.19->qiskit_ibm_runtime==0.17.0) (2022.12.7)\n",
            "Requirement already satisfied: ntlm-auth>=1.0.2 in c:\\users\\alaga\\appdata\\local\\packages\\pythonsoftwarefoundation.python.3.11_qbz5n2kfra8p0\\localcache\\local-packages\\python311\\site-packages (from requests-ntlm>=1.1.0->qiskit_ibm_runtime==0.17.0) (1.5.0)\n",
            "Requirement already satisfied: cryptography>=1.3 in c:\\users\\alaga\\appdata\\local\\packages\\pythonsoftwarefoundation.python.3.11_qbz5n2kfra8p0\\localcache\\local-packages\\python311\\site-packages (from requests-ntlm>=1.1.0->qiskit_ibm_runtime==0.17.0) (39.0.2)\n",
            "Requirement already satisfied: cffi>=1.12 in c:\\users\\alaga\\appdata\\local\\packages\\pythonsoftwarefoundation.python.3.11_qbz5n2kfra8p0\\localcache\\local-packages\\python311\\site-packages (from cryptography>=1.3->requests-ntlm>=1.1.0->qiskit_ibm_runtime==0.17.0) (1.15.1)\n",
            "Requirement already satisfied: PyJWT<3.0.0,>=2.8.0 in c:\\users\\alaga\\appdata\\local\\packages\\pythonsoftwarefoundation.python.3.11_qbz5n2kfra8p0\\localcache\\local-packages\\python311\\site-packages (from ibm-cloud-sdk-core<4.0.0,>=3.18.1->ibm-platform-services>=0.22.6->qiskit_ibm_runtime==0.17.0) (2.8.0)\n",
            "Requirement already satisfied: pycparser in c:\\users\\alaga\\appdata\\local\\packages\\pythonsoftwarefoundation.python.3.11_qbz5n2kfra8p0\\localcache\\local-packages\\python311\\site-packages (from cffi>=1.12->cryptography>=1.3->requests-ntlm>=1.1.0->qiskit_ibm_runtime==0.17.0) (2.21)\n",
            "Requirement already satisfied: pbr!=2.1.0,>=2.0.0 in c:\\users\\alaga\\appdata\\local\\packages\\pythonsoftwarefoundation.python.3.11_qbz5n2kfra8p0\\localcache\\local-packages\\python311\\site-packages (from stevedore>=3.0.0->qiskit-terra==0.45.1->qiskit>=0.44.1->qiskit_ibm_runtime==0.17.0) (6.0.0)\n",
            "Requirement already satisfied: mpmath>=0.19 in c:\\users\\alaga\\appdata\\local\\packages\\pythonsoftwarefoundation.python.3.11_qbz5n2kfra8p0\\localcache\\local-packages\\python311\\site-packages (from sympy>=1.3->qiskit-terra==0.45.1->qiskit>=0.44.1->qiskit_ibm_runtime==0.17.0) (1.3.0)\n"
          ]
        },
        {
          "name": "stderr",
          "output_type": "stream",
          "text": [
            "\n",
            "[notice] A new release of pip is available: 23.2.1 -> 23.3.2\n",
            "[notice] To update, run: C:\\Users\\alaga\\AppData\\Local\\Microsoft\\WindowsApps\\PythonSoftwareFoundation.Python.3.11_qbz5n2kfra8p0\\python.exe -m pip install --upgrade pip\n"
          ]
        },
        {
          "name": "stdout",
          "output_type": "stream",
          "text": [
            "Requirement already satisfied: qiskit_ibm_provider in c:\\users\\alaga\\appdata\\local\\packages\\pythonsoftwarefoundation.python.3.11_qbz5n2kfra8p0\\localcache\\local-packages\\python311\\site-packages (0.7.3)\n",
            "Requirement already satisfied: qiskit>=0.44.1 in c:\\users\\alaga\\appdata\\local\\packages\\pythonsoftwarefoundation.python.3.11_qbz5n2kfra8p0\\localcache\\local-packages\\python311\\site-packages (from qiskit_ibm_provider) (0.45.1)\n",
            "Requirement already satisfied: requests>=2.19 in c:\\users\\alaga\\appdata\\local\\packages\\pythonsoftwarefoundation.python.3.11_qbz5n2kfra8p0\\localcache\\local-packages\\python311\\site-packages (from qiskit_ibm_provider) (2.31.0)\n",
            "Requirement already satisfied: requests-ntlm>=1.1.0 in c:\\users\\alaga\\appdata\\local\\packages\\pythonsoftwarefoundation.python.3.11_qbz5n2kfra8p0\\localcache\\local-packages\\python311\\site-packages (from qiskit_ibm_provider) (1.1.0)\n",
            "Requirement already satisfied: numpy>=1.13 in c:\\users\\alaga\\appdata\\local\\packages\\pythonsoftwarefoundation.python.3.11_qbz5n2kfra8p0\\localcache\\local-packages\\python311\\site-packages (from qiskit_ibm_provider) (1.23.5)\n",
            "Requirement already satisfied: urllib3>=1.21.1 in c:\\users\\alaga\\appdata\\local\\packages\\pythonsoftwarefoundation.python.3.11_qbz5n2kfra8p0\\localcache\\local-packages\\python311\\site-packages (from qiskit_ibm_provider) (2.1.0)\n",
            "Requirement already satisfied: python-dateutil>=2.8.0 in c:\\users\\alaga\\appdata\\local\\packages\\pythonsoftwarefoundation.python.3.11_qbz5n2kfra8p0\\localcache\\local-packages\\python311\\site-packages (from qiskit_ibm_provider) (2.8.2)\n",
            "Requirement already satisfied: websocket-client>=1.5.1 in c:\\users\\alaga\\appdata\\local\\packages\\pythonsoftwarefoundation.python.3.11_qbz5n2kfra8p0\\localcache\\local-packages\\python311\\site-packages (from qiskit_ibm_provider) (1.5.1)\n",
            "Requirement already satisfied: websockets>=10.0 in c:\\users\\alaga\\appdata\\local\\packages\\pythonsoftwarefoundation.python.3.11_qbz5n2kfra8p0\\localcache\\local-packages\\python311\\site-packages (from qiskit_ibm_provider) (12.0)\n",
            "Requirement already satisfied: typing-extensions>=4.3 in c:\\users\\alaga\\appdata\\local\\packages\\pythonsoftwarefoundation.python.3.11_qbz5n2kfra8p0\\localcache\\local-packages\\python311\\site-packages (from qiskit_ibm_provider) (4.4.0)\n",
            "Requirement already satisfied: six>=1.5 in c:\\users\\alaga\\appdata\\local\\packages\\pythonsoftwarefoundation.python.3.11_qbz5n2kfra8p0\\localcache\\local-packages\\python311\\site-packages (from python-dateutil>=2.8.0->qiskit_ibm_provider) (1.16.0)\n",
            "Requirement already satisfied: qiskit-terra==0.45.1 in c:\\users\\alaga\\appdata\\local\\packages\\pythonsoftwarefoundation.python.3.11_qbz5n2kfra8p0\\localcache\\local-packages\\python311\\site-packages (from qiskit>=0.44.1->qiskit_ibm_provider) (0.45.1)\n",
            "Requirement already satisfied: rustworkx>=0.13.0 in c:\\users\\alaga\\appdata\\local\\packages\\pythonsoftwarefoundation.python.3.11_qbz5n2kfra8p0\\localcache\\local-packages\\python311\\site-packages (from qiskit-terra==0.45.1->qiskit>=0.44.1->qiskit_ibm_provider) (0.13.2)\n",
            "Requirement already satisfied: ply>=3.10 in c:\\users\\alaga\\appdata\\local\\packages\\pythonsoftwarefoundation.python.3.11_qbz5n2kfra8p0\\localcache\\local-packages\\python311\\site-packages (from qiskit-terra==0.45.1->qiskit>=0.44.1->qiskit_ibm_provider) (3.11)\n",
            "Requirement already satisfied: psutil>=5 in c:\\users\\alaga\\appdata\\local\\packages\\pythonsoftwarefoundation.python.3.11_qbz5n2kfra8p0\\localcache\\local-packages\\python311\\site-packages (from qiskit-terra==0.45.1->qiskit>=0.44.1->qiskit_ibm_provider) (5.9.4)\n",
            "Requirement already satisfied: scipy>=1.5 in c:\\users\\alaga\\appdata\\local\\packages\\pythonsoftwarefoundation.python.3.11_qbz5n2kfra8p0\\localcache\\local-packages\\python311\\site-packages (from qiskit-terra==0.45.1->qiskit>=0.44.1->qiskit_ibm_provider) (1.10.1)\n",
            "Requirement already satisfied: sympy>=1.3 in c:\\users\\alaga\\appdata\\local\\packages\\pythonsoftwarefoundation.python.3.11_qbz5n2kfra8p0\\localcache\\local-packages\\python311\\site-packages (from qiskit-terra==0.45.1->qiskit>=0.44.1->qiskit_ibm_provider) (1.12)\n",
            "Requirement already satisfied: dill>=0.3 in c:\\users\\alaga\\appdata\\local\\packages\\pythonsoftwarefoundation.python.3.11_qbz5n2kfra8p0\\localcache\\local-packages\\python311\\site-packages (from qiskit-terra==0.45.1->qiskit>=0.44.1->qiskit_ibm_provider) (0.3.6)\n",
            "Requirement already satisfied: stevedore>=3.0.0 in c:\\users\\alaga\\appdata\\local\\packages\\pythonsoftwarefoundation.python.3.11_qbz5n2kfra8p0\\localcache\\local-packages\\python311\\site-packages (from qiskit-terra==0.45.1->qiskit>=0.44.1->qiskit_ibm_provider) (5.1.0)\n",
            "Requirement already satisfied: charset-normalizer<4,>=2 in c:\\users\\alaga\\appdata\\local\\packages\\pythonsoftwarefoundation.python.3.11_qbz5n2kfra8p0\\localcache\\local-packages\\python311\\site-packages (from requests>=2.19->qiskit_ibm_provider) (3.1.0)\n",
            "Requirement already satisfied: idna<4,>=2.5 in c:\\users\\alaga\\appdata\\local\\packages\\pythonsoftwarefoundation.python.3.11_qbz5n2kfra8p0\\localcache\\local-packages\\python311\\site-packages (from requests>=2.19->qiskit_ibm_provider) (2.10)\n",
            "Requirement already satisfied: certifi>=2017.4.17 in c:\\users\\alaga\\appdata\\local\\packages\\pythonsoftwarefoundation.python.3.11_qbz5n2kfra8p0\\localcache\\local-packages\\python311\\site-packages (from requests>=2.19->qiskit_ibm_provider) (2022.12.7)\n",
            "Requirement already satisfied: ntlm-auth>=1.0.2 in c:\\users\\alaga\\appdata\\local\\packages\\pythonsoftwarefoundation.python.3.11_qbz5n2kfra8p0\\localcache\\local-packages\\python311\\site-packages (from requests-ntlm>=1.1.0->qiskit_ibm_provider) (1.5.0)\n",
            "Requirement already satisfied: cryptography>=1.3 in c:\\users\\alaga\\appdata\\local\\packages\\pythonsoftwarefoundation.python.3.11_qbz5n2kfra8p0\\localcache\\local-packages\\python311\\site-packages (from requests-ntlm>=1.1.0->qiskit_ibm_provider) (39.0.2)\n",
            "Requirement already satisfied: cffi>=1.12 in c:\\users\\alaga\\appdata\\local\\packages\\pythonsoftwarefoundation.python.3.11_qbz5n2kfra8p0\\localcache\\local-packages\\python311\\site-packages (from cryptography>=1.3->requests-ntlm>=1.1.0->qiskit_ibm_provider) (1.15.1)\n",
            "Requirement already satisfied: pycparser in c:\\users\\alaga\\appdata\\local\\packages\\pythonsoftwarefoundation.python.3.11_qbz5n2kfra8p0\\localcache\\local-packages\\python311\\site-packages (from cffi>=1.12->cryptography>=1.3->requests-ntlm>=1.1.0->qiskit_ibm_provider) (2.21)\n",
            "Requirement already satisfied: pbr!=2.1.0,>=2.0.0 in c:\\users\\alaga\\appdata\\local\\packages\\pythonsoftwarefoundation.python.3.11_qbz5n2kfra8p0\\localcache\\local-packages\\python311\\site-packages (from stevedore>=3.0.0->qiskit-terra==0.45.1->qiskit>=0.44.1->qiskit_ibm_provider) (6.0.0)\n",
            "Requirement already satisfied: mpmath>=0.19 in c:\\users\\alaga\\appdata\\local\\packages\\pythonsoftwarefoundation.python.3.11_qbz5n2kfra8p0\\localcache\\local-packages\\python311\\site-packages (from sympy>=1.3->qiskit-terra==0.45.1->qiskit>=0.44.1->qiskit_ibm_provider) (1.3.0)\n"
          ]
        },
        {
          "name": "stderr",
          "output_type": "stream",
          "text": [
            "\n",
            "[notice] A new release of pip is available: 23.2.1 -> 23.3.2\n",
            "[notice] To update, run: C:\\Users\\alaga\\AppData\\Local\\Microsoft\\WindowsApps\\PythonSoftwareFoundation.Python.3.11_qbz5n2kfra8p0\\python.exe -m pip install --upgrade pip\n"
          ]
        }
      ],
      "source": [
        "!pip install qiskit==0.45.1\n",
        "!pip install qiskit_ibm_runtime==0.17.0\n",
        "!pip install qiskit_ibm_provider"
      ]
    },
    {
      "cell_type": "code",
      "execution_count": 11,
      "id": "d69e765a",
      "metadata": {
        "id": "d69e765a"
      },
      "outputs": [],
      "source": [
        "from qiskit.opflow import Z, I, X, Y, H\n",
        "from qiskit.quantum_info import SparsePauliOp\n",
        "from qiskit.circuit.random import random_circuit\n",
        "from qiskit.circuit.library import TwoLocal, RealAmplitudes, EfficientSU2\n",
        "\n",
        "from qiskit_ibm_runtime import Estimator\n",
        "from qiskit.algorithms.eigensolvers import NumPyEigensolver\n",
        "from qiskit.algorithms.optimizers import SPSA, SLSQP\n",
        "from qiskit_ibm_runtime import QiskitRuntimeService, Session, Estimator\n",
        "from qiskit.primitives import Sampler, Estimator\n",
        "from qiskit.algorithms.state_fidelities import ComputeUncompute\n",
        "from qiskit.algorithms.eigensolvers import VQD"
      ]
    },
    {
      "cell_type": "markdown",
      "id": "948c1374",
      "metadata": {
        "id": "948c1374"
      },
      "source": [
        "## Basic (local) usage of Estimator primitive"
      ]
    },
    {
      "cell_type": "code",
      "execution_count": 3,
      "id": "4bfed86e",
      "metadata": {
        "id": "4bfed86e"
      },
      "outputs": [],
      "source": [
        "# Define operator and circuit\n",
        "operator = SparsePauliOp(\"XY\")\n",
        "state_circuit = random_circuit(2, 2).decompose(reps=1)\n",
        "estimator = Estimator()"
      ]
    },
    {
      "cell_type": "code",
      "execution_count": 4,
      "id": "5w7rh47DDxbz",
      "metadata": {
        "colab": {
          "base_uri": "https://localhost:8080/"
        },
        "id": "5w7rh47DDxbz",
        "outputId": "afccb4f8-d39c-44bc-c16a-10e5bcf86974"
      },
      "outputs": [
        {
          "data": {
            "text/plain": [
              "EstimatorResult(values=array([0.]), metadata=[{}])"
            ]
          },
          "execution_count": 4,
          "metadata": {},
          "output_type": "execute_result"
        }
      ],
      "source": [
        "# Run estimator\n",
        "job = estimator.run(state_circuit, operator)\n",
        "job.result()"
      ]
    },
    {
      "cell_type": "markdown",
      "id": "f7f5190f",
      "metadata": {
        "id": "f7f5190f"
      },
      "source": [
        "## Estimator can accept multiple circuit+operator pairs:"
      ]
    },
    {
      "cell_type": "code",
      "execution_count": 5,
      "id": "5a5d39f2",
      "metadata": {
        "id": "5a5d39f2"
      },
      "outputs": [],
      "source": [
        "circuits = (\n",
        "    random_circuit(2, 2, seed=0).decompose(reps=1),\n",
        "    random_circuit(2, 2, seed=0).decompose(reps=1),\n",
        ")\n",
        "observables = (\n",
        "    SparsePauliOp(\"XZ\"),\n",
        "    SparsePauliOp(\"XX\"),\n",
        ")"
      ]
    },
    {
      "cell_type": "code",
      "execution_count": 6,
      "id": "33ad3fe2",
      "metadata": {
        "colab": {
          "base_uri": "https://localhost:8080/"
        },
        "id": "33ad3fe2",
        "outputId": "edb5ee99-34b7-4b9c-9e7b-71a8ca7f1785",
        "scrolled": true
      },
      "outputs": [
        {
          "data": {
            "text/plain": [
              "EstimatorResult(values=array([0.50006466, 0.25264472]), metadata=[{}, {}])"
            ]
          },
          "execution_count": 6,
          "metadata": {},
          "output_type": "execute_result"
        }
      ],
      "source": [
        "job = estimator.run(circuits, observables)\n",
        "job.result()"
      ]
    },
    {
      "cell_type": "markdown",
      "id": "cf9dada4",
      "metadata": {
        "id": "cf9dada4"
      },
      "source": [
        "## Estimator as Qiskit Runtime program"
      ]
    },
    {
      "cell_type": "code",
      "execution_count": 8,
      "id": "89c87e05",
      "metadata": {
        "colab": {
          "base_uri": "https://localhost:8080/"
        },
        "id": "89c87e05",
        "outputId": "83c0e4fe-5816-49ca-b0d7-0e123fd6d9ce"
      },
      "outputs": [
        {
          "ename": "TypeError",
          "evalue": "Estimator.__init__() takes 1 positional argument but 2 were given",
          "output_type": "error",
          "traceback": [
            "\u001b[1;31m---------------------------------------------------------------------------\u001b[0m",
            "\u001b[1;31mTypeError\u001b[0m                                 Traceback (most recent call last)",
            "Cell \u001b[1;32mIn[8], line 4\u001b[0m\n\u001b[0;32m      1\u001b[0m service \u001b[39m=\u001b[39m QiskitRuntimeService(channel\u001b[39m=\u001b[39m\u001b[39m\"\u001b[39m\u001b[39mibm_quantum\u001b[39m\u001b[39m\"\u001b[39m)\n\u001b[0;32m      3\u001b[0m \u001b[39mwith\u001b[39;00m Session(service\u001b[39m=\u001b[39mservice, backend\u001b[39m=\u001b[39m\u001b[39m\"\u001b[39m\u001b[39mibmq_qasm_simulator\u001b[39m\u001b[39m\"\u001b[39m) \u001b[39mas\u001b[39;00m session:\n\u001b[1;32m----> 4\u001b[0m     estimator \u001b[39m=\u001b[39m Estimator(session)\n\u001b[0;32m      5\u001b[0m     job \u001b[39m=\u001b[39m estimator\u001b[39m.\u001b[39mrun(state_circuit, operator)\n\u001b[0;32m      6\u001b[0m     result \u001b[39m=\u001b[39m job\u001b[39m.\u001b[39mresult()\n",
            "\u001b[1;31mTypeError\u001b[0m: Estimator.__init__() takes 1 positional argument but 2 were given"
          ]
        }
      ],
      "source": [
        "service = QiskitRuntimeService(channel=\"ibm_quantum\")\n",
        "\n",
        "with Session(service=service, backend=\"ibmq_qasm_simulator\") as session:\n",
        "    estimator = Estimator(session=session)\n",
        "    job = estimator.run(state_circuit, operator)\n",
        "    result = job.result()\n",
        "\n",
        "print(result.values[0])"
      ]
    },
    {
      "cell_type": "markdown",
      "id": "20f9e149",
      "metadata": {
        "id": "20f9e149"
      },
      "source": [
        "## Estimator for parametrized circuit"
      ]
    },
    {
      "cell_type": "code",
      "execution_count": null,
      "id": "29289503",
      "metadata": {
        "colab": {
          "base_uri": "https://localhost:8080/",
          "height": 94
        },
        "id": "29289503",
        "outputId": "9d66912d-370d-4095-eec7-f6e88e468c66"
      },
      "outputs": [
        {
          "data": {
            "text/html": [
              "<pre style=\"word-wrap: normal;white-space: pre;background: #fff0;line-height: 1.1;font-family: &quot;Courier New&quot;,Courier,monospace\">     ┌──────────┐     ┌──────────┐     ┌──────────┐\n",
              "q_0: ┤ Ry(θ[0]) ├──■──┤ Ry(θ[2]) ├──■──┤ Ry(θ[4]) ├\n",
              "     ├──────────┤┌─┴─┐├──────────┤┌─┴─┐├──────────┤\n",
              "q_1: ┤ Ry(θ[1]) ├┤ X ├┤ Ry(θ[3]) ├┤ X ├┤ Ry(θ[5]) ├\n",
              "     └──────────┘└───┘└──────────┘└───┘└──────────┘</pre>"
            ],
            "text/plain": [
              "     ┌──────────┐     ┌──────────┐     ┌──────────┐\n",
              "q_0: ┤ Ry(θ[0]) ├──■──┤ Ry(θ[2]) ├──■──┤ Ry(θ[4]) ├\n",
              "     ├──────────┤┌─┴─┐├──────────┤┌─┴─┐├──────────┤\n",
              "q_1: ┤ Ry(θ[1]) ├┤ X ├┤ Ry(θ[3]) ├┤ X ├┤ Ry(θ[5]) ├\n",
              "     └──────────┘└───┘└──────────┘└───┘└──────────┘"
            ]
          },
          "execution_count": 15,
          "metadata": {},
          "output_type": "execute_result"
        }
      ],
      "source": [
        "parametrized_circuit = RealAmplitudes(num_qubits=2, reps=2).decompose(reps=1)\n",
        "parametrized_circuit.draw()"
      ]
    },
    {
      "cell_type": "code",
      "execution_count": null,
      "id": "1bbf1237",
      "metadata": {
        "colab": {
          "base_uri": "https://localhost:8080/"
        },
        "id": "1bbf1237",
        "outputId": "1d94f26a-7d0a-4091-f25d-b0149c2b62c1"
      },
      "outputs": [
        {
          "name": "stdout",
          "output_type": "stream",
          "text": [
            "6\n"
          ]
        }
      ],
      "source": [
        "print(parametrized_circuit.num_parameters)"
      ]
    },
    {
      "cell_type": "code",
      "execution_count": null,
      "id": "77064845",
      "metadata": {
        "id": "77064845"
      },
      "outputs": [],
      "source": [
        "parameter_values = [0, 1, 2, 3, 4, 5]"
      ]
    },
    {
      "cell_type": "code",
      "execution_count": null,
      "id": "349b2a58",
      "metadata": {
        "colab": {
          "base_uri": "https://localhost:8080/"
        },
        "id": "349b2a58",
        "outputId": "51088d8a-1a4b-4133-a40a-434f03f0e5b3"
      },
      "outputs": [
        {
          "data": {
            "text/plain": [
              "array([0.])"
            ]
          },
          "execution_count": 21,
          "metadata": {},
          "output_type": "execute_result"
        }
      ],
      "source": [
        "with Session(service=service, backend=\"ibmq_qasm_simulator\") as session:\n",
        "    estimator = Estimator(session)\n",
        "    job = estimator.run(parametrized_circuit, operator, parameter_values)\n",
        "    result = job.result()\n",
        "\n",
        "result.values"
      ]
    },
    {
      "cell_type": "markdown",
      "id": "2522f8c6",
      "metadata": {
        "id": "2522f8c6"
      },
      "source": [
        "## Qiskit Runtime VQD"
      ]
    },
    {
      "cell_type": "code",
      "execution_count": 12,
      "id": "d5878e61",
      "metadata": {
        "id": "d5878e61"
      },
      "outputs": [],
      "source": [
        "from qiskit.primitives import Estimator\n",
        "\n",
        "vqd = VQD(\n",
        "    estimator=Estimator(),\n",
        "    fidelity=ComputeUncompute(sampler=Sampler()),\n",
        "    ansatz=TwoLocal(2, rotation_blocks=[\"ry\", \"rz\"], entanglement_blocks=\"cz\", reps=1),\n",
        "    optimizer=SLSQP(),\n",
        "    k=4,\n",
        "    betas=[6, 6, 6],\n",
        ")"
      ]
    },
    {
      "cell_type": "code",
      "execution_count": 27,
      "id": "1ea60511",
      "metadata": {
        "colab": {
          "base_uri": "https://localhost:8080/"
        },
        "id": "1ea60511",
        "outputId": "a8e2336e-6398-424c-c59b-2c1dc712392c"
      },
      "outputs": [
        {
          "name": "stdout",
          "output_type": "stream",
          "text": [
            "[-1.41421351 -1.41421346 -1.41421006 -1.41354047]\n"
          ]
        }
      ],
      "source": [
        "result = vqd.compute_eigenvalues(operator=X ^ X + Z ^ Z)\n",
        "vqd_values = result.optimal_values\n",
        "print(vqd_values)"
      ]
    },
    {
      "cell_type": "markdown",
      "id": "8ebbef67",
      "metadata": {
        "id": "8ebbef67"
      },
      "source": [
        "## Exercise 8.1\n",
        "Given the following Hamiltonian:"
      ]
    },
    {
      "cell_type": "code",
      "execution_count": 28,
      "id": "78bcc573",
      "metadata": {
        "id": "78bcc573"
      },
      "outputs": [],
      "source": [
        "H4 = SparsePauliOp.from_list(\n",
        "    [\n",
        "        (\"IIII\", -1.0),\n",
        "        (\"IZZI\", 0.4),\n",
        "        (\"ZIII\", -0.4),\n",
        "        (\"ZZZZ\", -0.1),\n",
        "        (\"XXIX\", 0.1),\n",
        "        (\"XXXX\", 2.0),\n",
        "        (\"IIIX\", 0.5),\n",
        "    ]\n",
        ")"
      ]
    },
    {
      "cell_type": "markdown",
      "id": "45357015",
      "metadata": {
        "id": "45357015"
      },
      "source": [
        "- Use VQD algorithm to calculate first 6 energies of a system\n",
        "- Compare the energies with classicaly calculated ones\n",
        "- Analyze the ansatz - draw it and check how many parameters it needs to have to give reasonable accuracy of energies."
      ]
    },
    {
      "cell_type": "code",
      "execution_count": 37,
      "id": "263d2b77",
      "metadata": {},
      "outputs": [],
      "source": [
        "ansatz = TwoLocal(4, rotation_blocks=[\"ry\", \"rz\"], entanglement_blocks=\"cz\", reps=1)\n",
        "\n",
        "vqd = VQD(\n",
        "    estimator=Estimator(),\n",
        "    fidelity=ComputeUncompute(sampler=Sampler()),\n",
        "    ansatz=ansatz,\n",
        "    optimizer=SLSQP(),\n",
        "    k=6,\n",
        "    betas=[6, 6, 6, 6, 6],\n",
        ")"
      ]
    },
    {
      "cell_type": "code",
      "execution_count": 38,
      "id": "660264c1",
      "metadata": {},
      "outputs": [
        {
          "name": "stdout",
          "output_type": "stream",
          "text": [
            "[-3.95155742 -3.95022134 -3.1278432  -2.95156101 -3.12784371 -2.95046278]\n"
          ]
        }
      ],
      "source": [
        "result = vqd.compute_eigenvalues(operator=H4)\n",
        "vqd_values = result.optimal_values\n",
        "print(vqd_values)"
      ]
    },
    {
      "cell_type": "code",
      "execution_count": 41,
      "id": "c3a3cb00",
      "metadata": {},
      "outputs": [
        {
          "name": "stdout",
          "output_type": "stream",
          "text": [
            "[-3.96118304 -3.96118304 -3.14009098 -3.14009098 -2.93932096 -2.93932096]\n"
          ]
        }
      ],
      "source": [
        "classical_eigenvalues = (\n",
        "    NumPyEigensolver(k=6).compute_eigenvalues(operator=H4).eigenvalues\n",
        ")\n",
        "print(classical_eigenvalues)"
      ]
    },
    {
      "cell_type": "code",
      "execution_count": 42,
      "id": "65107d16",
      "metadata": {},
      "outputs": [
        {
          "data": {
            "text/html": [
              "<pre style=\"word-wrap: normal;white-space: pre;background: #fff0;line-height: 1.1;font-family: &quot;Courier New&quot;,Courier,monospace\">     »\n",
              "q_0: »\n",
              "     »\n",
              "q_1: »\n",
              "     »\n",
              "q_2: »\n",
              "     »\n",
              "q_3: »\n",
              "     »\n",
              "«     ┌──────────────────────────────────────────────────────────────────────────────────────────────────┐\n",
              "«q_0: ┤0                                                                                                 ├\n",
              "«     │                                                                                                  │\n",
              "«q_1: ┤1                                                                                                 ├\n",
              "«     │  TwoLocal(θ[0],θ[1],θ[2],θ[3],θ[4],θ[5],θ[6],θ[7],θ[8],θ[9],θ[10],θ[11],θ[12],θ[13],θ[14],θ[15]) │\n",
              "«q_2: ┤2                                                                                                 ├\n",
              "«     │                                                                                                  │\n",
              "«q_3: ┤3                                                                                                 ├\n",
              "«     └──────────────────────────────────────────────────────────────────────────────────────────────────┘</pre>"
            ],
            "text/plain": [
              "     »\n",
              "q_0: »\n",
              "     »\n",
              "q_1: »\n",
              "     »\n",
              "q_2: »\n",
              "     »\n",
              "q_3: »\n",
              "     »\n",
              "«     ┌──────────────────────────────────────────────────────────────────────────────────────────────────┐\n",
              "«q_0: ┤0                                                                                                 ├\n",
              "«     │                                                                                                  │\n",
              "«q_1: ┤1                                                                                                 ├\n",
              "«     │  TwoLocal(θ[0],θ[1],θ[2],θ[3],θ[4],θ[5],θ[6],θ[7],θ[8],θ[9],θ[10],θ[11],θ[12],θ[13],θ[14],θ[15]) │\n",
              "«q_2: ┤2                                                                                                 ├\n",
              "«     │                                                                                                  │\n",
              "«q_3: ┤3                                                                                                 ├\n",
              "«     └──────────────────────────────────────────────────────────────────────────────────────────────────┘"
            ]
          },
          "execution_count": 42,
          "metadata": {},
          "output_type": "execute_result"
        }
      ],
      "source": [
        "ansatz.draw()"
      ]
    },
    {
      "cell_type": "markdown",
      "id": "6c188fe6",
      "metadata": {
        "id": "6c188fe6"
      },
      "source": [
        "## Homework\n",
        "Read the following Qiskit tutorial on VQE in general and it's application to simulate simple molecules in particular:\n",
        "\n",
        "https://github.com/Qiskit/textbook/blob/main/notebooks/ch-applications/vqe-molecules.ipynb"
      ]
    }
  ],
  "metadata": {
    "colab": {
      "provenance": []
    },
    "kernelspec": {
      "display_name": "Python 3 (ipykernel)",
      "language": "python",
      "name": "python3"
    },
    "language_info": {
      "codemirror_mode": {
        "name": "ipython",
        "version": 3
      },
      "file_extension": ".py",
      "mimetype": "text/x-python",
      "name": "python",
      "nbconvert_exporter": "python",
      "pygments_lexer": "ipython3",
      "version": "3.11.3"
    }
  },
  "nbformat": 4,
  "nbformat_minor": 5
}
