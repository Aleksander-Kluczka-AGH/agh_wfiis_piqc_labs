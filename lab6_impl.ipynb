{
 "cells": [
  {
   "cell_type": "code",
   "execution_count": 1,
   "metadata": {},
   "outputs": [],
   "source": [
    "from qiskit_ibm_runtime import QiskitRuntimeService, Session, Options, Sampler\n",
    "from qiskit import QuantumCircuit"
   ]
  },
  {
   "cell_type": "code",
   "execution_count": 6,
   "metadata": {},
   "outputs": [],
   "source": [
    "# Save an IBM Cloud account:\n",
    "# QiskitRuntimeService.save_account(channel=\"ibm_cloud\", token=\"MY_IBM_CLOUD_API_KEY\", instance=\"MY_IBM_CLOUD_CRN\")\n",
    "\n",
    "# Save an IBM Quantum account:\n",
    "QiskitRuntimeService.save_account(\n",
    "    channel=\"ibm_quantum\",\n",
    "    token=\"092397c1ab0eb92cd2335f151025798f3ab87b5434ea66da89e9e3b9d560302ebf8813a3eb26cf19605d6a5007a3fe7f82b330d0b715677b6fc81ea04b843af9\",\n",
    "    overwrite=True,\n",
    ")"
   ]
  },
  {
   "cell_type": "code",
   "execution_count": 9,
   "metadata": {},
   "outputs": [],
   "source": [
    "service_cloud = QiskitRuntimeService(channel=\"ibm_quantum\")"
   ]
  },
  {
   "cell_type": "code",
   "execution_count": 11,
   "metadata": {},
   "outputs": [
    {
     "data": {
      "text/plain": [
       "[<IBMBackend('ibm_osaka')>,\n",
       " <IBMBackend('ibmq_qasm_simulator')>,\n",
       " <IBMBackend('simulator_extended_stabilizer')>,\n",
       " <IBMBackend('simulator_mps')>,\n",
       " <IBMBackend('simulator_statevector')>,\n",
       " <IBMBackend('simulator_stabilizer')>,\n",
       " <IBMBackend('ibm_brisbane')>,\n",
       " <IBMBackend('ibm_kyoto')>]"
      ]
     },
     "execution_count": 11,
     "metadata": {},
     "output_type": "execute_result"
    }
   ],
   "source": [
    "service_cloud.backends()"
   ]
  },
  {
   "cell_type": "code",
   "execution_count": 12,
   "metadata": {},
   "outputs": [
    {
     "data": {
      "text/plain": [
       "<qiskit.circuit.instructionset.InstructionSet at 0x16e1b8d3580>"
      ]
     },
     "execution_count": 12,
     "metadata": {},
     "output_type": "execute_result"
    }
   ],
   "source": [
    "from qiskit.circuit.library import MCMT\n",
    "\n",
    "diffuser = QuantumCircuit(4, name=\"diffuser\")\n",
    "diffuser.h([0, 1, 2, 3])\n",
    "diffuser.x([0, 1, 2, 3])\n",
    "diffuser.barrier()\n",
    "diffuser.h(3)\n",
    "diffuser.mcx([0, 1, 2], 3)\n",
    "diffuser.h(3)\n",
    "diffuser.barrier()\n",
    "diffuser.x([0, 1, 2, 3])\n",
    "diffuser.h([0, 1, 2, 3])\n",
    "diffuser.draw()\n",
    "\n",
    "oracle = QuantumCircuit(4, name=\"oracle\")\n",
    "oracle.x(1)\n",
    "oracle.x(2)\n",
    "# oracle.mcp(math.pi / 2, [0, 1, 2], 3)\n",
    "mcz = MCMT(\"cz\", 3, 1)\n",
    "oracle.compose(mcz, [0, 1, 2, 3], inplace=True)\n",
    "oracle.x(1)\n",
    "oracle.x(2)\n",
    "\n",
    "\n",
    "grover = QuantumCircuit(4, 4)\n",
    "grover.h([0, 1, 2, 3])\n",
    "\n",
    "for i in range(2):\n",
    "    grover.append(oracle, [0, 1, 2, 3])\n",
    "    grover.append(diffuser, [0, 1, 2, 3])\n",
    "grover.measure([0, 1, 2, 3], [0, 1, 2, 3])"
   ]
  },
  {
   "cell_type": "code",
   "execution_count": 13,
   "metadata": {},
   "outputs": [
    {
     "name": "stdout",
     "output_type": "stream",
     "text": [
      "Job ID is clu5bj1054sir2br63m0\n",
      "Job result is SamplerResult(quasi_dists=[{11: 0.0048828125, 1: 0.0087890625, 2: 0.00390625, 8: 0.005859375, 3: 0.0068359375, 0: 0.0068359375, 7: 0.0078125, 10: 0.001953125, 15: 0.0068359375, 9: 0.9150390625, 5: 0.0048828125, 12: 0.0029296875, 14: 0.00390625, 13: 0.009765625, 4: 0.0048828125, 6: 0.0048828125}], metadata=[{'shots': 1024, 'circuit_metadata': {}}])\n"
     ]
    }
   ],
   "source": [
    "options = Options(optimization_level=1)\n",
    "options.execution.shots = 1024\n",
    "\n",
    "with Session(service=service_cloud, backend=\"ibmq_qasm_simulator\") as session:\n",
    "    sampler = Sampler(session=session, options=options)\n",
    "    job = sampler.run(circuits=grover)\n",
    "    result = job.result()\n",
    "    print(f\"Job ID is {job.job_id()}\")\n",
    "    print(f\"Job result is {result}\")\n",
    "\n",
    "    #  More executions (of Sampler and/or Estimator) can go here to leverage the session"
   ]
  },
  {
   "cell_type": "code",
   "execution_count": 14,
   "metadata": {},
   "outputs": [
    {
     "name": "stdout",
     "output_type": "stream",
     "text": [
      " > Quasi probability distribution: {11: 0.0048828125, 1: 0.0087890625, 2: 0.00390625, 8: 0.005859375, 3: 0.0068359375, 0: 0.0068359375, 7: 0.0078125, 10: 0.001953125, 15: 0.0068359375, 9: 0.9150390625, 5: 0.0048828125, 12: 0.0029296875, 14: 0.00390625, 13: 0.009765625, 4: 0.0048828125, 6: 0.0048828125}\n",
      " > Metadata: {'shots': 1024, 'circuit_metadata': {}}\n"
     ]
    }
   ],
   "source": [
    "print(f\" > Quasi probability distribution: {result.quasi_dists[0]}\")\n",
    "print(f\" > Metadata: {result.metadata[0]}\")"
   ]
  },
  {
   "cell_type": "code",
   "execution_count": 15,
   "metadata": {},
   "outputs": [
    {
     "name": "stdout",
     "output_type": "stream",
     "text": [
      "clu5bn8iidfp3m82g2v0\n",
      "SamplerResult(quasi_dists=[{0: 0.0107421875, 1: 0.0087890625, 2: 0.0068359375, 3: 0.005859375, 4: 0.0029296875, 5: 0.0029296875, 6: 0.0146484375, 7: 0.0078125, 8: 0.0048828125, 9: 0.904296875, 10: 0.00390625, 11: 0.0048828125, 12: 0.0087890625, 13: 0.0029296875, 14: 0.005859375, 15: 0.00390625}], metadata=[{'shots': 1024, 'circuit_metadata': {}, 'readout_mitigation_overhead': 1.0, 'readout_mitigation_time': 0.06370956799946725}])\n"
     ]
    }
   ],
   "source": [
    "program_inputs = {\n",
    "    \"circuits\": grover,\n",
    "    \"circuit_indices\": [0],\n",
    "}\n",
    "\n",
    "options = {\"backend\": \"ibmq_qasm_simulator\"}\n",
    "job = service_cloud.run(program_id=\"sampler\", options=options, inputs=program_inputs)\n",
    "print(job.job_id())\n",
    "\n",
    "result = job.result()\n",
    "print(result)"
   ]
  },
  {
   "cell_type": "code",
   "execution_count": 16,
   "metadata": {},
   "outputs": [
    {
     "name": "stdout",
     "output_type": "stream",
     "text": [
      "{'0000': 0.0107421875, '0001': 0.0087890625, '0010': 0.0068359375, '0011': 0.005859375, '0100': 0.0029296875, '0101': 0.0029296875, '0110': 0.0146484375, '0111': 0.0078125, '1000': 0.0048828125, '1001': 0.904296875, '1010': 0.00390625, '1011': 0.0048828125, '1100': 0.0087890625, '1101': 0.0029296875, '1110': 0.005859375, '1111': 0.00390625}\n"
     ]
    }
   ],
   "source": [
    "result_dict = result.quasi_dists[0].binary_probabilities()\n",
    "\n",
    "print(result_dict)"
   ]
  },
  {
   "cell_type": "code",
   "execution_count": 18,
   "metadata": {},
   "outputs": [
    {
     "data": {
      "image/png": "[encoded data removed]",
      "text/plain": [
       "<Figure size 700x500 with 1 Axes>"
      ]
     },
     "execution_count": 18,
     "metadata": {},
     "output_type": "execute_result"
    }
   ],
   "source": [
    "from qiskit.visualization import plot_histogram\n",
    "\n",
    "plot_histogram(result_dict)"
   ]
  },
  {
   "cell_type": "markdown",
   "metadata": {},
   "source": [
    "### Exercise 7.2"
   ]
  },
  {
   "cell_type": "code",
   "execution_count": 24,
   "metadata": {},
   "outputs": [
    {
     "name": "stdout",
     "output_type": "stream",
     "text": [
      "EstimatorResult(values=array([-1.]), metadata=[{'variance': 0.0, 'shots': 4000}])\n"
     ]
    }
   ],
   "source": [
    "from qiskit.quantum_info import SparsePauliOp\n",
    "\n",
    "from qiskit_ibm_runtime import QiskitRuntimeService, Estimator\n",
    "\n",
    "service = QiskitRuntimeService(channel=\"ibm_quantum\")\n",
    "\n",
    "psi1 = QuantumCircuit(2, name=\"psi\")\n",
    "psi1.x(1)\n",
    "\n",
    "H1 = SparsePauliOp.from_list([(\"ZZ\", 1)])\n",
    "\n",
    "with Session(service=service, backend=\"ibmq_qasm_simulator\") as session:\n",
    "    estimator = Estimator(session=session)\n",
    "\n",
    "    psi1_H1 = estimator.run(circuits=[psi1], observables=[H1])\n",
    "    print(psi1_H1.result())"
   ]
  },
  {
   "cell_type": "markdown",
   "metadata": {},
   "source": [
    "### Exercise 7.3"
   ]
  },
  {
   "cell_type": "code",
   "execution_count": 48,
   "metadata": {},
   "outputs": [
    {
     "name": "stdout",
     "output_type": "stream",
     "text": [
      "EstimatorResult(values=array([ 0.285  ,  0.23325,  0.1637 ,  0.0842 ,  0.00155, -0.0748 ,\n",
      "       -0.1669 , -0.23495, -0.282  , -0.31275]), metadata=[{'variance': 0.418933895, 'shots': 4000}, {'variance': 0.43992740750000003, 'shots': 4000}, {'variance': 0.46953595000000004, 'shots': 4000}, {'variance': 0.4926982750000001, 'shots': 4000}, {'variance': 0.49976868750000003, 'shots': 4000}, {'variance': 0.492698175, 'shots': 4000}, {'variance': 0.4680675900000001, 'shots': 4000}, {'variance': 0.4406196975000001, 'shots': 4000}, {'variance': 0.41987889500000003, 'shots': 4000}, {'variance': 0.4099134375000001, 'shots': 4000}])\n"
     ]
    }
   ],
   "source": [
    "from qiskit.quantum_info import SparsePauliOp\n",
    "from qiskit.circuit import QuantumCircuit\n",
    "import math\n",
    "\n",
    "# define your parameters\n",
    "from qiskit_ibm_runtime import QiskitRuntimeService, Estimator\n",
    "\n",
    "service = QiskitRuntimeService(channel=\"ibm_quantum\")\n",
    "\n",
    "length = 10\n",
    "circuits = []\n",
    "for i in range(length):\n",
    "    psi1 = QuantumCircuit(2, name=\"psi\")\n",
    "    psi1.ry((i + 1) / length * math.pi, 0)\n",
    "    psi1.x(1)\n",
    "    circuits.append(psi1)\n",
    "\n",
    "H1 = SparsePauliOp.from_list([(\"ZZ\", -0.3), (\"XX\", -0.5), (\"YY\", -0.4)])\n",
    "Hs = [H1] * length\n",
    "\n",
    "with Session(service=service, backend=\"ibmq_qasm_simulator\") as session:\n",
    "    estimator = Estimator(session=session)\n",
    "\n",
    "    psi1_H1 = estimator.run(\n",
    "        circuits=circuits,\n",
    "        observables=Hs,\n",
    "    )\n",
    "    print(psi1_H1.result())"
   ]
  }
 ],
 "metadata": {
  "kernelspec": {
   "display_name": "Python 3",
   "language": "python",
   "name": "python3"
  },
  "language_info": {
   "codemirror_mode": {
    "name": "ipython",
    "version": 3
   },
   "file_extension": ".py",
   "mimetype": "text/x-python",
   "name": "python",
   "nbconvert_exporter": "python",
   "pygments_lexer": "ipython3",
   "version": "3.11.3"
  }
 },
 "nbformat": 4,
 "nbformat_minor": 2
}
