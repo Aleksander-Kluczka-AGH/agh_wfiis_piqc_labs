{
 "cells": [
  {
   "cell_type": "markdown",
   "metadata": {},
   "source": [
    "### Exercise 1"
   ]
  },
  {
   "cell_type": "code",
   "execution_count": 7,
   "metadata": {},
   "outputs": [
    {
     "data": {
      "text/html": [
       "<pre style=\"word-wrap: normal;white-space: pre;background: #fff0;line-height: 1.1;font-family: &quot;Courier New&quot;,Courier,monospace\">                  \n",
       "q_0: ──────■──────\n",
       "     ┌───┐ │ ┌───┐\n",
       "q_1: ┤ X ├─■─┤ X ├\n",
       "     └───┘ │ └───┘\n",
       "q_2: ──────■──────\n",
       "                  </pre>"
      ],
      "text/plain": [
       "                  \n",
       "q_0: ──────■──────\n",
       "     ┌───┐ │ ┌───┐\n",
       "q_1: ┤ X ├─■─┤ X ├\n",
       "     └───┘ │ └───┘\n",
       "q_2: ──────■──────\n",
       "                  "
      ]
     },
     "execution_count": 7,
     "metadata": {},
     "output_type": "execute_result"
    }
   ],
   "source": [
    "from qiskit import *\n",
    "\n",
    "oracle = QuantumCircuit(3, name=\"oracle\")\n",
    "oracle.x(1)\n",
    "oracle.ccz(0, 1, 2)\n",
    "oracle.x(1)\n",
    "\n",
    "oracle.draw()\n"
   ]
  },
  {
   "cell_type": "code",
   "execution_count": 8,
   "metadata": {},
   "outputs": [
    {
     "data": {
      "text/latex": [
       "$$- |101\\rangle$$"
      ],
      "text/plain": [
       "<IPython.core.display.Latex object>"
      ]
     },
     "execution_count": 8,
     "metadata": {},
     "output_type": "execute_result"
    }
   ],
   "source": [
    "from qiskit.quantum_info import Statevector\n",
    "\n",
    "state = Statevector.from_int(5, 2**3)\n",
    "state = state.evolve(oracle)\n",
    "state.draw(\"latex\")\n"
   ]
  },
  {
   "cell_type": "code",
   "execution_count": 9,
   "metadata": {},
   "outputs": [
    {
     "data": {
      "text/html": [
       "<pre style=\"word-wrap: normal;white-space: pre;background: #fff0;line-height: 1.1;font-family: &quot;Courier New&quot;,Courier,monospace\">     ┌───┐┌───┐ ░                 ░ ┌───┐┌───┐\n",
       "q_0: ┤ H ├┤ X ├─░────────■────────░─┤ X ├┤ H ├\n",
       "     ├───┤├───┤ ░        │        ░ ├───┤├───┤\n",
       "q_1: ┤ H ├┤ X ├─░────────■────────░─┤ X ├┤ H ├\n",
       "     ├───┤├───┤ ░ ┌───┐┌─┴─┐┌───┐ ░ ├───┤├───┤\n",
       "q_2: ┤ H ├┤ X ├─░─┤ H ├┤ X ├┤ H ├─░─┤ X ├┤ H ├\n",
       "     └───┘└───┘ ░ └───┘└───┘└───┘ ░ └───┘└───┘</pre>"
      ],
      "text/plain": [
       "     ┌───┐┌───┐ ░                 ░ ┌───┐┌───┐\n",
       "q_0: ┤ H ├┤ X ├─░────────■────────░─┤ X ├┤ H ├\n",
       "     ├───┤├───┤ ░        │        ░ ├───┤├───┤\n",
       "q_1: ┤ H ├┤ X ├─░────────■────────░─┤ X ├┤ H ├\n",
       "     ├───┤├───┤ ░ ┌───┐┌─┴─┐┌───┐ ░ ├───┤├───┤\n",
       "q_2: ┤ H ├┤ X ├─░─┤ H ├┤ X ├┤ H ├─░─┤ X ├┤ H ├\n",
       "     └───┘└───┘ ░ └───┘└───┘└───┘ ░ └───┘└───┘"
      ]
     },
     "execution_count": 9,
     "metadata": {},
     "output_type": "execute_result"
    }
   ],
   "source": [
    "diffuser = QuantumCircuit(3, name=\"diffuser\")\n",
    "diffuser.h([0, 1, 2])\n",
    "diffuser.x([0, 1, 2])\n",
    "diffuser.barrier()\n",
    "diffuser.h(2)\n",
    "diffuser.ccx(0, 1, 2)\n",
    "diffuser.h(2)\n",
    "diffuser.barrier()\n",
    "diffuser.x([0, 1, 2])\n",
    "diffuser.h([0, 1, 2])\n",
    "diffuser.draw()\n"
   ]
  },
  {
   "cell_type": "code",
   "execution_count": 10,
   "metadata": {},
   "outputs": [
    {
     "data": {
      "text/html": [
       "<pre style=\"word-wrap: normal;white-space: pre;background: #fff0;line-height: 1.1;font-family: &quot;Courier New&quot;,Courier,monospace\">     ┌───┐┌─────────┐┌───────────┐┌─┐      \n",
       "q_0: ┤ H ├┤0        ├┤0          ├┤M├──────\n",
       "     ├───┤│         ││           │└╥┘┌─┐   \n",
       "q_1: ┤ H ├┤1 oracle ├┤1 diffuser ├─╫─┤M├───\n",
       "     ├───┤│         ││           │ ║ └╥┘┌─┐\n",
       "q_2: ┤ H ├┤2        ├┤2          ├─╫──╫─┤M├\n",
       "     └───┘└─────────┘└───────────┘ ║  ║ └╥┘\n",
       "c: 3/══════════════════════════════╩══╩══╩═\n",
       "                                   0  1  2 </pre>"
      ],
      "text/plain": [
       "     ┌───┐┌─────────┐┌───────────┐┌─┐      \n",
       "q_0: ┤ H ├┤0        ├┤0          ├┤M├──────\n",
       "     ├───┤│         ││           │└╥┘┌─┐   \n",
       "q_1: ┤ H ├┤1 oracle ├┤1 diffuser ├─╫─┤M├───\n",
       "     ├───┤│         ││           │ ║ └╥┘┌─┐\n",
       "q_2: ┤ H ├┤2        ├┤2          ├─╫──╫─┤M├\n",
       "     └───┘└─────────┘└───────────┘ ║  ║ └╥┘\n",
       "c: 3/══════════════════════════════╩══╩══╩═\n",
       "                                   0  1  2 "
      ]
     },
     "execution_count": 10,
     "metadata": {},
     "output_type": "execute_result"
    }
   ],
   "source": [
    "grover = QuantumCircuit(3, 3)\n",
    "grover.h([0, 1, 2])\n",
    "grover.append(oracle, [0, 1, 2])\n",
    "grover.append(diffuser, [0, 1, 2])\n",
    "grover.measure([0, 1, 2], [0, 1, 2])\n",
    "\n",
    "grover.draw()\n"
   ]
  },
  {
   "cell_type": "code",
   "execution_count": 11,
   "metadata": {},
   "outputs": [
    {
     "name": "stdout",
     "output_type": "stream",
     "text": [
      "2.221441469079183\n"
     ]
    }
   ],
   "source": [
    "import math\n",
    "\n",
    "num_iterations = math.pi * math.sqrt(8) / 4\n",
    "print(num_iterations)\n"
   ]
  },
  {
   "cell_type": "code",
   "execution_count": 12,
   "metadata": {},
   "outputs": [
    {
     "data": {
      "image/png": "[encoded data removed]",
      "text/plain": [
       "<Figure size 700x500 with 1 Axes>"
      ]
     },
     "execution_count": 12,
     "metadata": {},
     "output_type": "execute_result"
    }
   ],
   "source": [
    "from qiskit.visualization import plot_histogram\n",
    "\n",
    "grover = QuantumCircuit(3, 3)\n",
    "grover.h([0, 1, 2])\n",
    "\n",
    "for i in range(2):\n",
    "    grover.append(oracle, [0, 1, 2])\n",
    "    grover.append(diffuser, [0, 1, 2])\n",
    "\n",
    "grover.measure([0, 1, 2], [0, 1, 2])\n",
    "\n",
    "backend = Aer.get_backend(\"qasm_simulator\")\n",
    "job = execute(grover, backend, shots=1024)\n",
    "counts = job.result().get_counts()\n",
    "plot_histogram(counts)\n"
   ]
  },
  {
   "cell_type": "markdown",
   "metadata": {},
   "source": [
    "### Exercise 2"
   ]
  },
  {
   "cell_type": "code",
   "execution_count": 63,
   "metadata": {},
   "outputs": [
    {
     "data": {
      "text/html": [
       "<pre style=\"word-wrap: normal;white-space: pre;background: #fff0;line-height: 1.1;font-family: &quot;Courier New&quot;,Courier,monospace\">                  \n",
       "q_0: ──────■──────\n",
       "     ┌───┐ │ ┌───┐\n",
       "q_1: ┤ X ├─■─┤ X ├\n",
       "     ├───┤ │ ├───┤\n",
       "q_2: ┤ X ├─■─┤ X ├\n",
       "     └───┘ │ └───┘\n",
       "q_3: ──────■──────\n",
       "                  </pre>"
      ],
      "text/plain": [
       "                  \n",
       "q_0: ──────■──────\n",
       "     ┌───┐ │ ┌───┐\n",
       "q_1: ┤ X ├─■─┤ X ├\n",
       "     ├───┤ │ ├───┤\n",
       "q_2: ┤ X ├─■─┤ X ├\n",
       "     └───┘ │ └───┘\n",
       "q_3: ──────■──────\n",
       "                  "
      ]
     },
     "execution_count": 63,
     "metadata": {},
     "output_type": "execute_result"
    }
   ],
   "source": [
    "from qiskit.circuit.library import MCMT\n",
    "\n",
    "oracle = QuantumCircuit(4, name=\"oracle\")\n",
    "oracle.x(1)\n",
    "oracle.x(2)\n",
    "# oracle.mcp(math.pi / 2, [0, 1, 2], 3)\n",
    "mcz = MCMT(\"cz\", 3, 1)\n",
    "oracle.compose(mcz, [0, 1, 2, 3], inplace=True)\n",
    "oracle.x(1)\n",
    "oracle.x(2)\n",
    "\n",
    "oracle.draw()\n"
   ]
  },
  {
   "cell_type": "code",
   "execution_count": 44,
   "metadata": {},
   "outputs": [
    {
     "data": {
      "text/html": [
       "<pre style=\"word-wrap: normal;white-space: pre;background: #fff0;line-height: 1.1;font-family: &quot;Courier New&quot;,Courier,monospace\">     ┌───┐┌───┐ ░                 ░ ┌───┐┌───┐\n",
       "q_0: ┤ H ├┤ X ├─░────────■────────░─┤ X ├┤ H ├\n",
       "     ├───┤├───┤ ░        │        ░ ├───┤├───┤\n",
       "q_1: ┤ H ├┤ X ├─░────────■────────░─┤ X ├┤ H ├\n",
       "     ├───┤├───┤ ░        │        ░ ├───┤├───┤\n",
       "q_2: ┤ H ├┤ X ├─░────────■────────░─┤ X ├┤ H ├\n",
       "     ├───┤├───┤ ░ ┌───┐┌─┴─┐┌───┐ ░ ├───┤├───┤\n",
       "q_3: ┤ H ├┤ X ├─░─┤ H ├┤ X ├┤ H ├─░─┤ X ├┤ H ├\n",
       "     └───┘└───┘ ░ └───┘└───┘└───┘ ░ └───┘└───┘</pre>"
      ],
      "text/plain": [
       "     ┌───┐┌───┐ ░                 ░ ┌───┐┌───┐\n",
       "q_0: ┤ H ├┤ X ├─░────────■────────░─┤ X ├┤ H ├\n",
       "     ├───┤├───┤ ░        │        ░ ├───┤├───┤\n",
       "q_1: ┤ H ├┤ X ├─░────────■────────░─┤ X ├┤ H ├\n",
       "     ├───┤├───┤ ░        │        ░ ├───┤├───┤\n",
       "q_2: ┤ H ├┤ X ├─░────────■────────░─┤ X ├┤ H ├\n",
       "     ├───┤├───┤ ░ ┌───┐┌─┴─┐┌───┐ ░ ├───┤├───┤\n",
       "q_3: ┤ H ├┤ X ├─░─┤ H ├┤ X ├┤ H ├─░─┤ X ├┤ H ├\n",
       "     └───┘└───┘ ░ └───┘└───┘└───┘ ░ └───┘└───┘"
      ]
     },
     "execution_count": 44,
     "metadata": {},
     "output_type": "execute_result"
    }
   ],
   "source": [
    "diffuser = QuantumCircuit(4, name=\"diffuser\")\n",
    "diffuser.h([0, 1, 2, 3])\n",
    "diffuser.x([0, 1, 2, 3])\n",
    "diffuser.barrier()\n",
    "diffuser.h(3)\n",
    "diffuser.mcx([0, 1, 2], 3)\n",
    "diffuser.h(3)\n",
    "diffuser.barrier()\n",
    "diffuser.x([0, 1, 2, 3])\n",
    "diffuser.h([0, 1, 2, 3])\n",
    "diffuser.draw()\n"
   ]
  },
  {
   "cell_type": "code",
   "execution_count": 65,
   "metadata": {},
   "outputs": [
    {
     "data": {
      "image/png": "[encoded data removed]",
      "text/plain": [
       "<Figure size 700x500 with 1 Axes>"
      ]
     },
     "execution_count": 65,
     "metadata": {},
     "output_type": "execute_result"
    }
   ],
   "source": [
    "from qiskit.visualization import plot_histogram\n",
    "\n",
    "grover = QuantumCircuit(4, 4)\n",
    "grover.h([0, 1, 2, 3])\n",
    "\n",
    "for i in range(2):\n",
    "    grover.append(oracle, [0, 1, 2, 3])\n",
    "    grover.append(diffuser, [0, 1, 2, 3])\n",
    "\n",
    "grover.measure([0, 1, 2, 3], [0, 1, 2, 3])\n",
    "\n",
    "backend = Aer.get_backend(\"qasm_simulator\")\n",
    "job = execute(grover, backend, shots=1024)\n",
    "counts = job.result().get_counts()\n",
    "plot_histogram(counts)\n"
   ]
  }
 ],
 "metadata": {
  "kernelspec": {
   "display_name": "Python 3",
   "language": "python",
   "name": "python3"
  },
  "language_info": {
   "codemirror_mode": {
    "name": "ipython",
    "version": 3
   },
   "file_extension": ".py",
   "mimetype": "text/x-python",
   "name": "python",
   "nbconvert_exporter": "python",
   "pygments_lexer": "ipython3",
   "version": "3.11.3"
  }
 },
 "nbformat": 4,
 "nbformat_minor": 2
}
