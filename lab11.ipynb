{
  "cells": [
    {
      "cell_type": "markdown",
      "metadata": {
        "id": "cC8sWbkSZhWm"
      },
      "source": [
        "# Qisit ML - Supervised clustering\n",
        "\n",
        "Authors: Tomasz Stopa, Gregoire Cattan"
      ]
    },
    {
      "cell_type": "markdown",
      "metadata": {
        "id": "pBD-Bzj5Z4_F"
      },
      "source": [
        "### Setup"
      ]
    },
    {
      "cell_type": "code",
      "execution_count": 1,
      "metadata": {
        "colab": {
          "base_uri": "https://localhost:8080/"
        },
        "id": "oqGbEY_TOR4v",
        "outputId": "68f12dc7-1630-403e-cc01-810735b88f74"
      },
      "outputs": [
        {
          "name": "stdout",
          "output_type": "stream",
          "text": [
            "Requirement already satisfied: pyRiemann-qiskit in c:\\users\\alaga\\appdata\\local\\packages\\pythonsoftwarefoundation.python.3.11_qbz5n2kfra8p0\\localcache\\local-packages\\python311\\site-packages (0.1.0)\n",
            "Requirement already satisfied: numpy<1.24 in c:\\users\\alaga\\appdata\\local\\packages\\pythonsoftwarefoundation.python.3.11_qbz5n2kfra8p0\\localcache\\local-packages\\python311\\site-packages (from pyRiemann-qiskit) (1.23.5)\n",
            "Requirement already satisfied: cython in c:\\users\\alaga\\appdata\\local\\packages\\pythonsoftwarefoundation.python.3.11_qbz5n2kfra8p0\\localcache\\local-packages\\python311\\site-packages (from pyRiemann-qiskit) (3.0.8)\n",
            "Requirement already satisfied: pyriemann==0.5 in c:\\users\\alaga\\appdata\\local\\packages\\pythonsoftwarefoundation.python.3.11_qbz5n2kfra8p0\\localcache\\local-packages\\python311\\site-packages (from pyRiemann-qiskit) (0.5)\n",
            "Requirement already satisfied: qiskit-machine-learning==0.6.1 in c:\\users\\alaga\\appdata\\local\\packages\\pythonsoftwarefoundation.python.3.11_qbz5n2kfra8p0\\localcache\\local-packages\\python311\\site-packages (from pyRiemann-qiskit) (0.6.1)\n",
            "Requirement already satisfied: qiskit-ibm-provider==0.7.0 in c:\\users\\alaga\\appdata\\local\\packages\\pythonsoftwarefoundation.python.3.11_qbz5n2kfra8p0\\localcache\\local-packages\\python311\\site-packages (from pyRiemann-qiskit) (0.7.0)\n",
            "Requirement already satisfied: qiskit-optimization==0.5.0 in c:\\users\\alaga\\appdata\\local\\packages\\pythonsoftwarefoundation.python.3.11_qbz5n2kfra8p0\\localcache\\local-packages\\python311\\site-packages (from pyRiemann-qiskit) (0.5.0)\n",
            "Requirement already satisfied: qiskit-aer==0.12.2 in c:\\users\\alaga\\appdata\\local\\packages\\pythonsoftwarefoundation.python.3.11_qbz5n2kfra8p0\\localcache\\local-packages\\python311\\site-packages (from pyRiemann-qiskit) (0.12.2)\n",
            "Requirement already satisfied: cvxpy==1.3.2 in c:\\users\\alaga\\appdata\\local\\packages\\pythonsoftwarefoundation.python.3.11_qbz5n2kfra8p0\\localcache\\local-packages\\python311\\site-packages (from pyRiemann-qiskit) (1.3.2)\n",
            "Requirement already satisfied: scipy==1.10.1 in c:\\users\\alaga\\appdata\\local\\packages\\pythonsoftwarefoundation.python.3.11_qbz5n2kfra8p0\\localcache\\local-packages\\python311\\site-packages (from pyRiemann-qiskit) (1.10.1)\n",
            "Requirement already satisfied: docplex>=2.21.207 in c:\\users\\alaga\\appdata\\local\\packages\\pythonsoftwarefoundation.python.3.11_qbz5n2kfra8p0\\localcache\\local-packages\\python311\\site-packages (from pyRiemann-qiskit) (2.25.236)\n",
            "Requirement already satisfied: firebase-admin==6.2.0 in c:\\users\\alaga\\appdata\\local\\packages\\pythonsoftwarefoundation.python.3.11_qbz5n2kfra8p0\\localcache\\local-packages\\python311\\site-packages (from pyRiemann-qiskit) (6.2.0)\n",
            "Requirement already satisfied: tqdm in c:\\users\\alaga\\appdata\\local\\packages\\pythonsoftwarefoundation.python.3.11_qbz5n2kfra8p0\\localcache\\local-packages\\python311\\site-packages (from pyRiemann-qiskit) (4.65.0)\n",
            "Requirement already satisfied: osqp>=0.4.1 in c:\\users\\alaga\\appdata\\local\\packages\\pythonsoftwarefoundation.python.3.11_qbz5n2kfra8p0\\localcache\\local-packages\\python311\\site-packages (from cvxpy==1.3.2->pyRiemann-qiskit) (0.6.3)\n",
            "Requirement already satisfied: ecos>=2 in c:\\users\\alaga\\appdata\\local\\packages\\pythonsoftwarefoundation.python.3.11_qbz5n2kfra8p0\\localcache\\local-packages\\python311\\site-packages (from cvxpy==1.3.2->pyRiemann-qiskit) (2.0.12)\n",
            "Requirement already satisfied: scs>=1.1.6 in c:\\users\\alaga\\appdata\\local\\packages\\pythonsoftwarefoundation.python.3.11_qbz5n2kfra8p0\\localcache\\local-packages\\python311\\site-packages (from cvxpy==1.3.2->pyRiemann-qiskit) (3.2.4.post1)\n",
            "Requirement already satisfied: setuptools>65.5.1 in c:\\users\\alaga\\appdata\\local\\packages\\pythonsoftwarefoundation.python.3.11_qbz5n2kfra8p0\\localcache\\local-packages\\python311\\site-packages (from cvxpy==1.3.2->pyRiemann-qiskit) (69.0.3)\n",
            "Requirement already satisfied: cachecontrol>=0.12.6 in c:\\users\\alaga\\appdata\\local\\packages\\pythonsoftwarefoundation.python.3.11_qbz5n2kfra8p0\\localcache\\local-packages\\python311\\site-packages (from firebase-admin==6.2.0->pyRiemann-qiskit) (0.13.1)\n",
            "Requirement already satisfied: google-api-python-client>=1.7.8 in c:\\users\\alaga\\appdata\\local\\packages\\pythonsoftwarefoundation.python.3.11_qbz5n2kfra8p0\\localcache\\local-packages\\python311\\site-packages (from firebase-admin==6.2.0->pyRiemann-qiskit) (2.114.0)\n",
            "Requirement already satisfied: google-cloud-storage>=1.37.1 in c:\\users\\alaga\\appdata\\local\\packages\\pythonsoftwarefoundation.python.3.11_qbz5n2kfra8p0\\localcache\\local-packages\\python311\\site-packages (from firebase-admin==6.2.0->pyRiemann-qiskit) (2.14.0)\n",
            "Requirement already satisfied: pyjwt[crypto]>=2.5.0 in c:\\users\\alaga\\appdata\\local\\packages\\pythonsoftwarefoundation.python.3.11_qbz5n2kfra8p0\\localcache\\local-packages\\python311\\site-packages (from firebase-admin==6.2.0->pyRiemann-qiskit) (2.8.0)\n",
            "Requirement already satisfied: google-api-core[grpc]<3.0.0dev,>=1.22.1 in c:\\users\\alaga\\appdata\\local\\packages\\pythonsoftwarefoundation.python.3.11_qbz5n2kfra8p0\\localcache\\local-packages\\python311\\site-packages (from firebase-admin==6.2.0->pyRiemann-qiskit) (2.15.0)\n",
            "Requirement already satisfied: google-cloud-firestore>=2.9.1 in c:\\users\\alaga\\appdata\\local\\packages\\pythonsoftwarefoundation.python.3.11_qbz5n2kfra8p0\\localcache\\local-packages\\python311\\site-packages (from firebase-admin==6.2.0->pyRiemann-qiskit) (2.14.0)\n",
            "Requirement already satisfied: scikit-learn in c:\\users\\alaga\\appdata\\local\\packages\\pythonsoftwarefoundation.python.3.11_qbz5n2kfra8p0\\localcache\\local-packages\\python311\\site-packages (from pyriemann==0.5->pyRiemann-qiskit) (1.2.2)\n",
            "Requirement already satisfied: joblib in c:\\users\\alaga\\appdata\\local\\packages\\pythonsoftwarefoundation.python.3.11_qbz5n2kfra8p0\\localcache\\local-packages\\python311\\site-packages (from pyriemann==0.5->pyRiemann-qiskit) (1.2.0)\n",
            "Requirement already satisfied: qiskit-terra>=0.21.0 in c:\\users\\alaga\\appdata\\local\\packages\\pythonsoftwarefoundation.python.3.11_qbz5n2kfra8p0\\localcache\\local-packages\\python311\\site-packages (from qiskit-aer==0.12.2->pyRiemann-qiskit) (0.45.0)\n",
            "Requirement already satisfied: qiskit>=0.44.1 in c:\\users\\alaga\\appdata\\local\\packages\\pythonsoftwarefoundation.python.3.11_qbz5n2kfra8p0\\localcache\\local-packages\\python311\\site-packages (from qiskit-ibm-provider==0.7.0->pyRiemann-qiskit) (0.45.0)\n",
            "Requirement already satisfied: requests>=2.19 in c:\\users\\alaga\\appdata\\local\\packages\\pythonsoftwarefoundation.python.3.11_qbz5n2kfra8p0\\localcache\\local-packages\\python311\\site-packages (from qiskit-ibm-provider==0.7.0->pyRiemann-qiskit) (2.31.0)\n",
            "Requirement already satisfied: requests-ntlm>=1.1.0 in c:\\users\\alaga\\appdata\\local\\packages\\pythonsoftwarefoundation.python.3.11_qbz5n2kfra8p0\\localcache\\local-packages\\python311\\site-packages (from qiskit-ibm-provider==0.7.0->pyRiemann-qiskit) (1.1.0)\n",
            "Requirement already satisfied: urllib3>=1.21.1 in c:\\users\\alaga\\appdata\\local\\packages\\pythonsoftwarefoundation.python.3.11_qbz5n2kfra8p0\\localcache\\local-packages\\python311\\site-packages (from qiskit-ibm-provider==0.7.0->pyRiemann-qiskit) (2.1.0)\n",
            "Requirement already satisfied: python-dateutil>=2.8.0 in c:\\users\\alaga\\appdata\\local\\packages\\pythonsoftwarefoundation.python.3.11_qbz5n2kfra8p0\\localcache\\local-packages\\python311\\site-packages (from qiskit-ibm-provider==0.7.0->pyRiemann-qiskit) (2.8.2)\n",
            "Requirement already satisfied: websocket-client>=1.5.1 in c:\\users\\alaga\\appdata\\local\\packages\\pythonsoftwarefoundation.python.3.11_qbz5n2kfra8p0\\localcache\\local-packages\\python311\\site-packages (from qiskit-ibm-provider==0.7.0->pyRiemann-qiskit) (1.5.1)\n",
            "Requirement already satisfied: websockets>=10.0 in c:\\users\\alaga\\appdata\\local\\packages\\pythonsoftwarefoundation.python.3.11_qbz5n2kfra8p0\\localcache\\local-packages\\python311\\site-packages (from qiskit-ibm-provider==0.7.0->pyRiemann-qiskit) (12.0)\n",
            "Requirement already satisfied: typing-extensions>=4.3 in c:\\users\\alaga\\appdata\\local\\packages\\pythonsoftwarefoundation.python.3.11_qbz5n2kfra8p0\\localcache\\local-packages\\python311\\site-packages (from qiskit-ibm-provider==0.7.0->pyRiemann-qiskit) (4.4.0)\n",
            "Requirement already satisfied: psutil>=5 in c:\\users\\alaga\\appdata\\local\\packages\\pythonsoftwarefoundation.python.3.11_qbz5n2kfra8p0\\localcache\\local-packages\\python311\\site-packages (from qiskit-machine-learning==0.6.1->pyRiemann-qiskit) (5.9.4)\n",
            "Requirement already satisfied: fastdtw in c:\\users\\alaga\\appdata\\local\\packages\\pythonsoftwarefoundation.python.3.11_qbz5n2kfra8p0\\localcache\\local-packages\\python311\\site-packages (from qiskit-machine-learning==0.6.1->pyRiemann-qiskit) (0.3.4)\n",
            "Requirement already satisfied: dill>=0.3.4 in c:\\users\\alaga\\appdata\\local\\packages\\pythonsoftwarefoundation.python.3.11_qbz5n2kfra8p0\\localcache\\local-packages\\python311\\site-packages (from qiskit-machine-learning==0.6.1->pyRiemann-qiskit) (0.3.6)\n",
            "Requirement already satisfied: networkx>=2.6.3 in c:\\users\\alaga\\appdata\\local\\packages\\pythonsoftwarefoundation.python.3.11_qbz5n2kfra8p0\\localcache\\local-packages\\python311\\site-packages (from qiskit-optimization==0.5.0->pyRiemann-qiskit) (3.1)\n",
            "Requirement already satisfied: six in c:\\users\\alaga\\appdata\\local\\packages\\pythonsoftwarefoundation.python.3.11_qbz5n2kfra8p0\\localcache\\local-packages\\python311\\site-packages (from docplex>=2.21.207->pyRiemann-qiskit) (1.16.0)\n",
            "Requirement already satisfied: colorama in c:\\users\\alaga\\appdata\\local\\packages\\pythonsoftwarefoundation.python.3.11_qbz5n2kfra8p0\\localcache\\local-packages\\python311\\site-packages (from tqdm->pyRiemann-qiskit) (0.4.6)\n",
            "Requirement already satisfied: msgpack>=0.5.2 in c:\\users\\alaga\\appdata\\local\\packages\\pythonsoftwarefoundation.python.3.11_qbz5n2kfra8p0\\localcache\\local-packages\\python311\\site-packages (from cachecontrol>=0.12.6->firebase-admin==6.2.0->pyRiemann-qiskit) (1.0.7)\n",
            "Requirement already satisfied: googleapis-common-protos<2.0.dev0,>=1.56.2 in c:\\users\\alaga\\appdata\\local\\packages\\pythonsoftwarefoundation.python.3.11_qbz5n2kfra8p0\\localcache\\local-packages\\python311\\site-packages (from google-api-core[grpc]<3.0.0dev,>=1.22.1->firebase-admin==6.2.0->pyRiemann-qiskit) (1.62.0)\n",
            "Requirement already satisfied: protobuf!=3.20.0,!=3.20.1,!=4.21.0,!=4.21.1,!=4.21.2,!=4.21.3,!=4.21.4,!=4.21.5,<5.0.0.dev0,>=3.19.5 in c:\\users\\alaga\\appdata\\local\\packages\\pythonsoftwarefoundation.python.3.11_qbz5n2kfra8p0\\localcache\\local-packages\\python311\\site-packages (from google-api-core[grpc]<3.0.0dev,>=1.22.1->firebase-admin==6.2.0->pyRiemann-qiskit) (4.22.1)\n",
            "Requirement already satisfied: google-auth<3.0.dev0,>=2.14.1 in c:\\users\\alaga\\appdata\\local\\packages\\pythonsoftwarefoundation.python.3.11_qbz5n2kfra8p0\\localcache\\local-packages\\python311\\site-packages (from google-api-core[grpc]<3.0.0dev,>=1.22.1->firebase-admin==6.2.0->pyRiemann-qiskit) (2.26.2)\n",
            "Requirement already satisfied: grpcio<2.0dev,>=1.33.2 in c:\\users\\alaga\\appdata\\local\\packages\\pythonsoftwarefoundation.python.3.11_qbz5n2kfra8p0\\localcache\\local-packages\\python311\\site-packages (from google-api-core[grpc]<3.0.0dev,>=1.22.1->firebase-admin==6.2.0->pyRiemann-qiskit) (1.60.0)\n",
            "Requirement already satisfied: grpcio-status<2.0.dev0,>=1.33.2 in c:\\users\\alaga\\appdata\\local\\packages\\pythonsoftwarefoundation.python.3.11_qbz5n2kfra8p0\\localcache\\local-packages\\python311\\site-packages (from google-api-core[grpc]<3.0.0dev,>=1.22.1->firebase-admin==6.2.0->pyRiemann-qiskit) (1.60.0)\n",
            "Requirement already satisfied: httplib2<1.dev0,>=0.15.0 in c:\\users\\alaga\\appdata\\local\\packages\\pythonsoftwarefoundation.python.3.11_qbz5n2kfra8p0\\localcache\\local-packages\\python311\\site-packages (from google-api-python-client>=1.7.8->firebase-admin==6.2.0->pyRiemann-qiskit) (0.22.0)\n",
            "Requirement already satisfied: google-auth-httplib2>=0.1.0 in c:\\users\\alaga\\appdata\\local\\packages\\pythonsoftwarefoundation.python.3.11_qbz5n2kfra8p0\\localcache\\local-packages\\python311\\site-packages (from google-api-python-client>=1.7.8->firebase-admin==6.2.0->pyRiemann-qiskit) (0.2.0)\n",
            "Requirement already satisfied: uritemplate<5,>=3.0.1 in c:\\users\\alaga\\appdata\\local\\packages\\pythonsoftwarefoundation.python.3.11_qbz5n2kfra8p0\\localcache\\local-packages\\python311\\site-packages (from google-api-python-client>=1.7.8->firebase-admin==6.2.0->pyRiemann-qiskit) (4.1.1)\n",
            "Requirement already satisfied: google-cloud-core<3.0.0dev,>=1.4.1 in c:\\users\\alaga\\appdata\\local\\packages\\pythonsoftwarefoundation.python.3.11_qbz5n2kfra8p0\\localcache\\local-packages\\python311\\site-packages (from google-cloud-firestore>=2.9.1->firebase-admin==6.2.0->pyRiemann-qiskit) (2.4.1)\n",
            "Requirement already satisfied: proto-plus<2.0.0dev,>=1.22.0 in c:\\users\\alaga\\appdata\\local\\packages\\pythonsoftwarefoundation.python.3.11_qbz5n2kfra8p0\\localcache\\local-packages\\python311\\site-packages (from google-cloud-firestore>=2.9.1->firebase-admin==6.2.0->pyRiemann-qiskit) (1.23.0)\n",
            "Requirement already satisfied: google-resumable-media>=2.6.0 in c:\\users\\alaga\\appdata\\local\\packages\\pythonsoftwarefoundation.python.3.11_qbz5n2kfra8p0\\localcache\\local-packages\\python311\\site-packages (from google-cloud-storage>=1.37.1->firebase-admin==6.2.0->pyRiemann-qiskit) (2.7.0)\n",
            "Requirement already satisfied: google-crc32c<2.0dev,>=1.0 in c:\\users\\alaga\\appdata\\local\\packages\\pythonsoftwarefoundation.python.3.11_qbz5n2kfra8p0\\localcache\\local-packages\\python311\\site-packages (from google-cloud-storage>=1.37.1->firebase-admin==6.2.0->pyRiemann-qiskit) (1.5.0)\n",
            "Requirement already satisfied: qdldl in c:\\users\\alaga\\appdata\\local\\packages\\pythonsoftwarefoundation.python.3.11_qbz5n2kfra8p0\\localcache\\local-packages\\python311\\site-packages (from osqp>=0.4.1->cvxpy==1.3.2->pyRiemann-qiskit) (0.1.7.post0)\n",
            "Requirement already satisfied: cryptography>=3.4.0 in c:\\users\\alaga\\appdata\\local\\packages\\pythonsoftwarefoundation.python.3.11_qbz5n2kfra8p0\\localcache\\local-packages\\python311\\site-packages (from pyjwt[crypto]>=2.5.0->firebase-admin==6.2.0->pyRiemann-qiskit) (39.0.2)\n",
            "Requirement already satisfied: rustworkx>=0.13.0 in c:\\users\\alaga\\appdata\\local\\packages\\pythonsoftwarefoundation.python.3.11_qbz5n2kfra8p0\\localcache\\local-packages\\python311\\site-packages (from qiskit-terra>=0.21.0->qiskit-aer==0.12.2->pyRiemann-qiskit) (0.13.2)\n",
            "Requirement already satisfied: ply>=3.10 in c:\\users\\alaga\\appdata\\local\\packages\\pythonsoftwarefoundation.python.3.11_qbz5n2kfra8p0\\localcache\\local-packages\\python311\\site-packages (from qiskit-terra>=0.21.0->qiskit-aer==0.12.2->pyRiemann-qiskit) (3.11)\n",
            "Requirement already satisfied: sympy>=1.3 in c:\\users\\alaga\\appdata\\local\\packages\\pythonsoftwarefoundation.python.3.11_qbz5n2kfra8p0\\localcache\\local-packages\\python311\\site-packages (from qiskit-terra>=0.21.0->qiskit-aer==0.12.2->pyRiemann-qiskit) (1.12)\n",
            "Requirement already satisfied: stevedore>=3.0.0 in c:\\users\\alaga\\appdata\\local\\packages\\pythonsoftwarefoundation.python.3.11_qbz5n2kfra8p0\\localcache\\local-packages\\python311\\site-packages (from qiskit-terra>=0.21.0->qiskit-aer==0.12.2->pyRiemann-qiskit) (5.1.0)\n",
            "Requirement already satisfied: charset-normalizer<4,>=2 in c:\\users\\alaga\\appdata\\local\\packages\\pythonsoftwarefoundation.python.3.11_qbz5n2kfra8p0\\localcache\\local-packages\\python311\\site-packages (from requests>=2.19->qiskit-ibm-provider==0.7.0->pyRiemann-qiskit) (3.1.0)\n",
            "Requirement already satisfied: idna<4,>=2.5 in c:\\users\\alaga\\appdata\\local\\packages\\pythonsoftwarefoundation.python.3.11_qbz5n2kfra8p0\\localcache\\local-packages\\python311\\site-packages (from requests>=2.19->qiskit-ibm-provider==0.7.0->pyRiemann-qiskit) (2.10)\n",
            "Requirement already satisfied: certifi>=2017.4.17 in c:\\users\\alaga\\appdata\\local\\packages\\pythonsoftwarefoundation.python.3.11_qbz5n2kfra8p0\\localcache\\local-packages\\python311\\site-packages (from requests>=2.19->qiskit-ibm-provider==0.7.0->pyRiemann-qiskit) (2022.12.7)\n",
            "Requirement already satisfied: ntlm-auth>=1.0.2 in c:\\users\\alaga\\appdata\\local\\packages\\pythonsoftwarefoundation.python.3.11_qbz5n2kfra8p0\\localcache\\local-packages\\python311\\site-packages (from requests-ntlm>=1.1.0->qiskit-ibm-provider==0.7.0->pyRiemann-qiskit) (1.5.0)\n",
            "Requirement already satisfied: threadpoolctl>=2.0.0 in c:\\users\\alaga\\appdata\\local\\packages\\pythonsoftwarefoundation.python.3.11_qbz5n2kfra8p0\\localcache\\local-packages\\python311\\site-packages (from scikit-learn->pyriemann==0.5->pyRiemann-qiskit) (3.1.0)\n",
            "Requirement already satisfied: cffi>=1.12 in c:\\users\\alaga\\appdata\\local\\packages\\pythonsoftwarefoundation.python.3.11_qbz5n2kfra8p0\\localcache\\local-packages\\python311\\site-packages (from cryptography>=3.4.0->pyjwt[crypto]>=2.5.0->firebase-admin==6.2.0->pyRiemann-qiskit) (1.15.1)\n",
            "Requirement already satisfied: cachetools<6.0,>=2.0.0 in c:\\users\\alaga\\appdata\\local\\packages\\pythonsoftwarefoundation.python.3.11_qbz5n2kfra8p0\\localcache\\local-packages\\python311\\site-packages (from google-auth<3.0.dev0,>=2.14.1->google-api-core[grpc]<3.0.0dev,>=1.22.1->firebase-admin==6.2.0->pyRiemann-qiskit) (5.3.0)\n",
            "Requirement already satisfied: pyasn1-modules>=0.2.1 in c:\\users\\alaga\\appdata\\local\\packages\\pythonsoftwarefoundation.python.3.11_qbz5n2kfra8p0\\localcache\\local-packages\\python311\\site-packages (from google-auth<3.0.dev0,>=2.14.1->google-api-core[grpc]<3.0.0dev,>=1.22.1->firebase-admin==6.2.0->pyRiemann-qiskit) (0.2.8)\n",
            "Requirement already satisfied: rsa<5,>=3.1.4 in c:\\users\\alaga\\appdata\\local\\packages\\pythonsoftwarefoundation.python.3.11_qbz5n2kfra8p0\\localcache\\local-packages\\python311\\site-packages (from google-auth<3.0.dev0,>=2.14.1->google-api-core[grpc]<3.0.0dev,>=1.22.1->firebase-admin==6.2.0->pyRiemann-qiskit) (4.9)\n",
            "Requirement already satisfied: pyparsing!=3.0.0,!=3.0.1,!=3.0.2,!=3.0.3,<4,>=2.4.2 in c:\\users\\alaga\\appdata\\local\\packages\\pythonsoftwarefoundation.python.3.11_qbz5n2kfra8p0\\localcache\\local-packages\\python311\\site-packages (from httplib2<1.dev0,>=0.15.0->google-api-python-client>=1.7.8->firebase-admin==6.2.0->pyRiemann-qiskit) (3.0.9)\n",
            "Requirement already satisfied: pbr!=2.1.0,>=2.0.0 in c:\\users\\alaga\\appdata\\local\\packages\\pythonsoftwarefoundation.python.3.11_qbz5n2kfra8p0\\localcache\\local-packages\\python311\\site-packages (from stevedore>=3.0.0->qiskit-terra>=0.21.0->qiskit-aer==0.12.2->pyRiemann-qiskit) (6.0.0)\n",
            "Requirement already satisfied: mpmath>=0.19 in c:\\users\\alaga\\appdata\\local\\packages\\pythonsoftwarefoundation.python.3.11_qbz5n2kfra8p0\\localcache\\local-packages\\python311\\site-packages (from sympy>=1.3->qiskit-terra>=0.21.0->qiskit-aer==0.12.2->pyRiemann-qiskit) (1.3.0)\n",
            "Requirement already satisfied: pycparser in c:\\users\\alaga\\appdata\\local\\packages\\pythonsoftwarefoundation.python.3.11_qbz5n2kfra8p0\\localcache\\local-packages\\python311\\site-packages (from cffi>=1.12->cryptography>=3.4.0->pyjwt[crypto]>=2.5.0->firebase-admin==6.2.0->pyRiemann-qiskit) (2.21)\n",
            "Requirement already satisfied: pyasn1<0.5.0,>=0.4.6 in c:\\users\\alaga\\appdata\\local\\packages\\pythonsoftwarefoundation.python.3.11_qbz5n2kfra8p0\\localcache\\local-packages\\python311\\site-packages (from pyasn1-modules>=0.2.1->google-auth<3.0.dev0,>=2.14.1->google-api-core[grpc]<3.0.0dev,>=1.22.1->firebase-admin==6.2.0->pyRiemann-qiskit) (0.4.8)\n"
          ]
        },
        {
          "name": "stderr",
          "output_type": "stream",
          "text": [
            "DEPRECATION: qiskit-nature 0.5.0 has a non-standard dependency specifier qiskit-terra>=0.22.*. pip 23.3 will enforce this behaviour change. A possible replacement is to upgrade to a newer version of qiskit-nature or contact the author to suggest that they release a version with a conforming dependency specifiers. Discussion can be found at https://github.com/pypa/pip/issues/12063\n",
            "\n",
            "[notice] A new release of pip is available: 23.2.1 -> 23.3.2\n",
            "[notice] To update, run: C:\\Users\\alaga\\AppData\\Local\\Microsoft\\WindowsApps\\PythonSoftwareFoundation.Python.3.11_qbz5n2kfra8p0\\python.exe -m pip install --upgrade pip\n"
          ]
        },
        {
          "name": "stdout",
          "output_type": "stream",
          "text": [
            "Requirement already satisfied: covmatest in c:\\users\\alaga\\appdata\\local\\packages\\pythonsoftwarefoundation.python.3.11_qbz5n2kfra8p0\\localcache\\local-packages\\python311\\site-packages (0.4)\n",
            "Requirement already satisfied: alphawaves==0.4 in c:\\users\\alaga\\appdata\\local\\packages\\pythonsoftwarefoundation.python.3.11_qbz5n2kfra8p0\\localcache\\local-packages\\python311\\site-packages (from covmatest) (0.4)\n",
            "Requirement already satisfied: mne==0.24.1 in c:\\users\\alaga\\appdata\\local\\packages\\pythonsoftwarefoundation.python.3.11_qbz5n2kfra8p0\\localcache\\local-packages\\python311\\site-packages (from alphawaves==0.4->covmatest) (0.24.1)\n",
            "Requirement already satisfied: pyriemann>=0.2.6 in c:\\users\\alaga\\appdata\\local\\packages\\pythonsoftwarefoundation.python.3.11_qbz5n2kfra8p0\\localcache\\local-packages\\python311\\site-packages (from alphawaves==0.4->covmatest) (0.5)\n",
            "Requirement already satisfied: scipy>=1.8 in c:\\users\\alaga\\appdata\\local\\packages\\pythonsoftwarefoundation.python.3.11_qbz5n2kfra8p0\\localcache\\local-packages\\python311\\site-packages (from alphawaves==0.4->covmatest) (1.10.1)\n",
            "Requirement already satisfied: scikit-learn>=0.23 in c:\\users\\alaga\\appdata\\local\\packages\\pythonsoftwarefoundation.python.3.11_qbz5n2kfra8p0\\localcache\\local-packages\\python311\\site-packages (from alphawaves==0.4->covmatest) (1.2.2)\n",
            "Requirement already satisfied: matplotlib>=3.4.3 in c:\\users\\alaga\\appdata\\local\\packages\\pythonsoftwarefoundation.python.3.11_qbz5n2kfra8p0\\localcache\\local-packages\\python311\\site-packages (from alphawaves==0.4->covmatest) (3.6.2)\n",
            "Requirement already satisfied: pooch==1.6.0 in c:\\users\\alaga\\appdata\\local\\packages\\pythonsoftwarefoundation.python.3.11_qbz5n2kfra8p0\\localcache\\local-packages\\python311\\site-packages (from alphawaves==0.4->covmatest) (1.6.0)\n",
            "Requirement already satisfied: numpy>=1.15.4 in c:\\users\\alaga\\appdata\\local\\packages\\pythonsoftwarefoundation.python.3.11_qbz5n2kfra8p0\\localcache\\local-packages\\python311\\site-packages (from mne==0.24.1->alphawaves==0.4->covmatest) (1.23.5)\n",
            "Requirement already satisfied: appdirs>=1.3.0 in c:\\users\\alaga\\appdata\\local\\packages\\pythonsoftwarefoundation.python.3.11_qbz5n2kfra8p0\\localcache\\local-packages\\python311\\site-packages (from pooch==1.6.0->alphawaves==0.4->covmatest) (1.4.4)\n",
            "Requirement already satisfied: packaging>=20.0 in c:\\users\\alaga\\appdata\\local\\packages\\pythonsoftwarefoundation.python.3.11_qbz5n2kfra8p0\\localcache\\local-packages\\python311\\site-packages (from pooch==1.6.0->alphawaves==0.4->covmatest) (23.0)\n",
            "Requirement already satisfied: requests>=2.19.0 in c:\\users\\alaga\\appdata\\local\\packages\\pythonsoftwarefoundation.python.3.11_qbz5n2kfra8p0\\localcache\\local-packages\\python311\\site-packages (from pooch==1.6.0->alphawaves==0.4->covmatest) (2.31.0)\n",
            "Requirement already satisfied: contourpy>=1.0.1 in c:\\users\\alaga\\appdata\\local\\packages\\pythonsoftwarefoundation.python.3.11_qbz5n2kfra8p0\\localcache\\local-packages\\python311\\site-packages (from matplotlib>=3.4.3->alphawaves==0.4->covmatest) (1.0.6)\n",
            "Requirement already satisfied: cycler>=0.10 in c:\\users\\alaga\\appdata\\local\\packages\\pythonsoftwarefoundation.python.3.11_qbz5n2kfra8p0\\localcache\\local-packages\\python311\\site-packages (from matplotlib>=3.4.3->alphawaves==0.4->covmatest) (0.11.0)\n",
            "Requirement already satisfied: fonttools>=4.22.0 in c:\\users\\alaga\\appdata\\local\\packages\\pythonsoftwarefoundation.python.3.11_qbz5n2kfra8p0\\localcache\\local-packages\\python311\\site-packages (from matplotlib>=3.4.3->alphawaves==0.4->covmatest) (4.38.0)\n",
            "Requirement already satisfied: kiwisolver>=1.0.1 in c:\\users\\alaga\\appdata\\local\\packages\\pythonsoftwarefoundation.python.3.11_qbz5n2kfra8p0\\localcache\\local-packages\\python311\\site-packages (from matplotlib>=3.4.3->alphawaves==0.4->covmatest) (1.4.4)\n",
            "Requirement already satisfied: pillow>=6.2.0 in c:\\users\\alaga\\appdata\\local\\packages\\pythonsoftwarefoundation.python.3.11_qbz5n2kfra8p0\\localcache\\local-packages\\python311\\site-packages (from matplotlib>=3.4.3->alphawaves==0.4->covmatest) (9.3.0)\n",
            "Requirement already satisfied: pyparsing>=2.2.1 in c:\\users\\alaga\\appdata\\local\\packages\\pythonsoftwarefoundation.python.3.11_qbz5n2kfra8p0\\localcache\\local-packages\\python311\\site-packages (from matplotlib>=3.4.3->alphawaves==0.4->covmatest) (3.0.9)\n",
            "Requirement already satisfied: python-dateutil>=2.7 in c:\\users\\alaga\\appdata\\local\\packages\\pythonsoftwarefoundation.python.3.11_qbz5n2kfra8p0\\localcache\\local-packages\\python311\\site-packages (from matplotlib>=3.4.3->alphawaves==0.4->covmatest) (2.8.2)\n",
            "Requirement already satisfied: joblib in c:\\users\\alaga\\appdata\\local\\packages\\pythonsoftwarefoundation.python.3.11_qbz5n2kfra8p0\\localcache\\local-packages\\python311\\site-packages (from pyriemann>=0.2.6->alphawaves==0.4->covmatest) (1.2.0)\n",
            "Requirement already satisfied: threadpoolctl>=2.0.0 in c:\\users\\alaga\\appdata\\local\\packages\\pythonsoftwarefoundation.python.3.11_qbz5n2kfra8p0\\localcache\\local-packages\\python311\\site-packages (from scikit-learn>=0.23->alphawaves==0.4->covmatest) (3.1.0)\n",
            "Requirement already satisfied: six>=1.5 in c:\\users\\alaga\\appdata\\local\\packages\\pythonsoftwarefoundation.python.3.11_qbz5n2kfra8p0\\localcache\\local-packages\\python311\\site-packages (from python-dateutil>=2.7->matplotlib>=3.4.3->alphawaves==0.4->covmatest) (1.16.0)\n",
            "Requirement already satisfied: charset-normalizer<4,>=2 in c:\\users\\alaga\\appdata\\local\\packages\\pythonsoftwarefoundation.python.3.11_qbz5n2kfra8p0\\localcache\\local-packages\\python311\\site-packages (from requests>=2.19.0->pooch==1.6.0->alphawaves==0.4->covmatest) (3.1.0)\n",
            "Requirement already satisfied: idna<4,>=2.5 in c:\\users\\alaga\\appdata\\local\\packages\\pythonsoftwarefoundation.python.3.11_qbz5n2kfra8p0\\localcache\\local-packages\\python311\\site-packages (from requests>=2.19.0->pooch==1.6.0->alphawaves==0.4->covmatest) (2.10)\n",
            "Requirement already satisfied: urllib3<3,>=1.21.1 in c:\\users\\alaga\\appdata\\local\\packages\\pythonsoftwarefoundation.python.3.11_qbz5n2kfra8p0\\localcache\\local-packages\\python311\\site-packages (from requests>=2.19.0->pooch==1.6.0->alphawaves==0.4->covmatest) (2.1.0)\n",
            "Requirement already satisfied: certifi>=2017.4.17 in c:\\users\\alaga\\appdata\\local\\packages\\pythonsoftwarefoundation.python.3.11_qbz5n2kfra8p0\\localcache\\local-packages\\python311\\site-packages (from requests>=2.19.0->pooch==1.6.0->alphawaves==0.4->covmatest) (2022.12.7)\n"
          ]
        },
        {
          "name": "stderr",
          "output_type": "stream",
          "text": [
            "DEPRECATION: qiskit-nature 0.5.0 has a non-standard dependency specifier qiskit-terra>=0.22.*. pip 23.3 will enforce this behaviour change. A possible replacement is to upgrade to a newer version of qiskit-nature or contact the author to suggest that they release a version with a conforming dependency specifiers. Discussion can be found at https://github.com/pypa/pip/issues/12063\n",
            "\n",
            "[notice] A new release of pip is available: 23.2.1 -> 23.3.2\n",
            "[notice] To update, run: C:\\Users\\alaga\\AppData\\Local\\Microsoft\\WindowsApps\\PythonSoftwareFoundation.Python.3.11_qbz5n2kfra8p0\\python.exe -m pip install --upgrade pip\n"
          ]
        },
        {
          "name": "stdout",
          "output_type": "stream",
          "text": [
            "Requirement already satisfied: pylatexenc in c:\\users\\alaga\\appdata\\local\\packages\\pythonsoftwarefoundation.python.3.11_qbz5n2kfra8p0\\localcache\\local-packages\\python311\\site-packages (2.10)\n"
          ]
        },
        {
          "name": "stderr",
          "output_type": "stream",
          "text": [
            "DEPRECATION: qiskit-nature 0.5.0 has a non-standard dependency specifier qiskit-terra>=0.22.*. pip 23.3 will enforce this behaviour change. A possible replacement is to upgrade to a newer version of qiskit-nature or contact the author to suggest that they release a version with a conforming dependency specifiers. Discussion can be found at https://github.com/pypa/pip/issues/12063\n",
            "\n",
            "[notice] A new release of pip is available: 23.2.1 -> 23.3.2\n",
            "[notice] To update, run: C:\\Users\\alaga\\AppData\\Local\\Microsoft\\WindowsApps\\PythonSoftwareFoundation.Python.3.11_qbz5n2kfra8p0\\python.exe -m pip install --upgrade pip\n"
          ]
        }
      ],
      "source": [
        "!pip install pyRiemann-qiskit\n",
        "!pip install covmatest\n",
        "!pip install pylatexenc"
      ]
    },
    {
      "cell_type": "code",
      "execution_count": 2,
      "metadata": {
        "id": "anZgGoXQStfL"
      },
      "outputs": [
        {
          "name": "stderr",
          "output_type": "stream",
          "text": [
            "C:\\Users\\alaga\\AppData\\Local\\Packages\\PythonSoftwareFoundation.Python.3.11_qbz5n2kfra8p0\\LocalCache\\local-packages\\Python311\\site-packages\\mne\\externals\\tempita\\__init__.py:35: DeprecationWarning: 'cgi' is deprecated and slated for removal in Python 3.13\n",
            "  import cgi\n"
          ]
        }
      ],
      "source": [
        "from pyriemann_qiskit.classification import (\n",
        "    QuanticMDM,\n",
        ")\n",
        "from pyriemann.tangentspace import TangentSpace\n",
        "from qiskit.utils import QuantumInstance\n",
        "from qiskit.algorithms.optimizers import COBYLA\n",
        "from qiskit.circuit.library import ZFeatureMap\n",
        "from qiskit.circuit.library import TwoLocal\n",
        "from qiskit_machine_learning.algorithms import VQC, QSVC\n",
        "from qiskit_machine_learning.kernels.quantum_kernel import QuantumKernel\n",
        "from qiskit_aer import AerSimulator\n",
        "from sklearn.model_selection import train_test_split\n",
        "from sklearn.pipeline import make_pipeline\n",
        "from sklearn.metrics import accuracy_score\n",
        "from sklearn.preprocessing import LabelEncoder\n",
        "from covmatest import get_covmat\n",
        "from IPython.display import clear_output\n",
        "import matplotlib.pyplot as plt\n",
        "import numpy as np"
      ]
    },
    {
      "cell_type": "markdown",
      "metadata": {
        "id": "JbYIQPWbames"
      },
      "source": [
        "### Prepare data"
      ]
    },
    {
      "cell_type": "code",
      "execution_count": 3,
      "metadata": {
        "id": "71PHsHTCZWpw"
      },
      "outputs": [
        {
          "name": "stderr",
          "output_type": "stream",
          "text": [
            "Downloading data from 'https://zenodo.org/record/2348892/files/subject_03.mat' to file 'C:\\Users\\alaga\\mne_data\\MNE-alphawaves-data\\record\\2348892\\files\\subject_03.mat'.\n",
            "SHA256 hash of downloaded file: 9db2e0f7ff016c8ab0fe5a151f085ddb14a20d3fcd91ee0f9c67f736008d925c\n",
            "Use this value as the 'known_hash' argument of 'pooch.retrieve' to ensure that the file hasn't changed if it is downloaded again in the future.\n"
          ]
        }
      ],
      "source": [
        "n_matrices = 100\n",
        "n_channels = 2\n",
        "A = get_covmat(n_matrices, n_channels)\n",
        "B = get_covmat(n_matrices, n_channels) * 2\n",
        "X = np.concatenate((A, B))\n",
        "y = np.array([0] * n_matrices + [1] * n_matrices)"
      ]
    },
    {
      "cell_type": "code",
      "execution_count": 4,
      "metadata": {
        "id": "h3IfGUGpcj1K"
      },
      "outputs": [],
      "source": [
        "# Let's keep it simple without cross-validation\n",
        "X_train, X_test, y_train, y_test = train_test_split(\n",
        "    X, y, test_size=0.2, random_state=100, stratify=y\n",
        ")"
      ]
    },
    {
      "cell_type": "markdown",
      "metadata": {
        "id": "KX9J8zYNhVy-"
      },
      "source": [
        "### Classification"
      ]
    },
    {
      "cell_type": "code",
      "execution_count": 5,
      "metadata": {
        "colab": {
          "base_uri": "https://localhost:8080/",
          "height": 92
        },
        "id": "nbT1QVGWTShK",
        "outputId": "e119ff8f-c302-4192-ec60-b0dfb6368277"
      },
      "outputs": [
        {
          "name": "stdout",
          "output_type": "stream",
          "text": [
            "[QClass]  Initializing Quantum Classifier\n"
          ]
        },
        {
          "data": {
            "text/html": [
              "<style>#sk-container-id-1 {color: black;background-color: white;}#sk-container-id-1 pre{padding: 0;}#sk-container-id-1 div.sk-toggleable {background-color: white;}#sk-container-id-1 label.sk-toggleable__label {cursor: pointer;display: block;width: 100%;margin-bottom: 0;padding: 0.3em;box-sizing: border-box;text-align: center;}#sk-container-id-1 label.sk-toggleable__label-arrow:before {content: \"▸\";float: left;margin-right: 0.25em;color: #696969;}#sk-container-id-1 label.sk-toggleable__label-arrow:hover:before {color: black;}#sk-container-id-1 div.sk-estimator:hover label.sk-toggleable__label-arrow:before {color: black;}#sk-container-id-1 div.sk-toggleable__content {max-height: 0;max-width: 0;overflow: hidden;text-align: left;background-color: #f0f8ff;}#sk-container-id-1 div.sk-toggleable__content pre {margin: 0.2em;color: black;border-radius: 0.25em;background-color: #f0f8ff;}#sk-container-id-1 input.sk-toggleable__control:checked~div.sk-toggleable__content {max-height: 200px;max-width: 100%;overflow: auto;}#sk-container-id-1 input.sk-toggleable__control:checked~label.sk-toggleable__label-arrow:before {content: \"▾\";}#sk-container-id-1 div.sk-estimator input.sk-toggleable__control:checked~label.sk-toggleable__label {background-color: #d4ebff;}#sk-container-id-1 div.sk-label input.sk-toggleable__control:checked~label.sk-toggleable__label {background-color: #d4ebff;}#sk-container-id-1 input.sk-hidden--visually {border: 0;clip: rect(1px 1px 1px 1px);clip: rect(1px, 1px, 1px, 1px);height: 1px;margin: -1px;overflow: hidden;padding: 0;position: absolute;width: 1px;}#sk-container-id-1 div.sk-estimator {font-family: monospace;background-color: #f0f8ff;border: 1px dotted black;border-radius: 0.25em;box-sizing: border-box;margin-bottom: 0.5em;}#sk-container-id-1 div.sk-estimator:hover {background-color: #d4ebff;}#sk-container-id-1 div.sk-parallel-item::after {content: \"\";width: 100%;border-bottom: 1px solid gray;flex-grow: 1;}#sk-container-id-1 div.sk-label:hover label.sk-toggleable__label {background-color: #d4ebff;}#sk-container-id-1 div.sk-serial::before {content: \"\";position: absolute;border-left: 1px solid gray;box-sizing: border-box;top: 0;bottom: 0;left: 50%;z-index: 0;}#sk-container-id-1 div.sk-serial {display: flex;flex-direction: column;align-items: center;background-color: white;padding-right: 0.2em;padding-left: 0.2em;position: relative;}#sk-container-id-1 div.sk-item {position: relative;z-index: 1;}#sk-container-id-1 div.sk-parallel {display: flex;align-items: stretch;justify-content: center;background-color: white;position: relative;}#sk-container-id-1 div.sk-item::before, #sk-container-id-1 div.sk-parallel-item::before {content: \"\";position: absolute;border-left: 1px solid gray;box-sizing: border-box;top: 0;bottom: 0;left: 50%;z-index: -1;}#sk-container-id-1 div.sk-parallel-item {display: flex;flex-direction: column;z-index: 1;position: relative;background-color: white;}#sk-container-id-1 div.sk-parallel-item:first-child::after {align-self: flex-end;width: 50%;}#sk-container-id-1 div.sk-parallel-item:last-child::after {align-self: flex-start;width: 50%;}#sk-container-id-1 div.sk-parallel-item:only-child::after {width: 0;}#sk-container-id-1 div.sk-dashed-wrapped {border: 1px dashed gray;margin: 0 0.4em 0.5em 0.4em;box-sizing: border-box;padding-bottom: 0.4em;background-color: white;}#sk-container-id-1 div.sk-label label {font-family: monospace;font-weight: bold;display: inline-block;line-height: 1.2em;}#sk-container-id-1 div.sk-label-container {text-align: center;}#sk-container-id-1 div.sk-container {/* jupyter's `normalize.less` sets `[hidden] { display: none; }` but bootstrap.min.css set `[hidden] { display: none !important; }` so we also need the `!important` here to be able to override the default hidden behavior on the sphinx rendered scikit-learn.org. See: https://github.com/scikit-learn/scikit-learn/issues/21755 */display: inline-block !important;position: relative;}#sk-container-id-1 div.sk-text-repr-fallback {display: none;}</style><div id=\"sk-container-id-1\" class=\"sk-top-container\"><div class=\"sk-text-repr-fallback\"><pre>QuanticMDM(shots=100)</pre><b>In a Jupyter environment, please rerun this cell to show the HTML representation or trust the notebook. <br />On GitHub, the HTML representation is unable to render, please try loading this page with nbviewer.org.</b></div><div class=\"sk-container\" hidden><div class=\"sk-item\"><div class=\"sk-estimator sk-toggleable\"><input class=\"sk-toggleable__control sk-hidden--visually\" id=\"sk-estimator-id-1\" type=\"checkbox\" checked><label for=\"sk-estimator-id-1\" class=\"sk-toggleable__label sk-toggleable__label-arrow\">QuanticMDM</label><div class=\"sk-toggleable__content\"><pre>QuanticMDM(shots=100)</pre></div></div></div></div></div>"
            ],
            "text/plain": [
              "QuanticMDM(shots=100)"
            ]
          },
          "metadata": {},
          "output_type": "display_data"
        }
      ],
      "source": [
        "# Instantiate our pipeline (inherits from sklearn mixins)\n",
        "clf = QuanticMDM(\n",
        "    metric={\"mean\": \"logeuclid\", \"distance\": \"convex\"},\n",
        "    quantum=True,\n",
        "    verbose=True,\n",
        "    shots=100,\n",
        ")\n",
        "display(clf)"
      ]
    },
    {
      "cell_type": "code",
      "execution_count": 6,
      "metadata": {
        "colab": {
          "base_uri": "https://localhost:8080/",
          "height": 414
        },
        "id": "y86zOmolhgIP",
        "outputId": "51a59ba7-dbe4-432e-930b-80c987d04f2b"
      },
      "outputs": [
        {
          "name": "stdout",
          "output_type": "stream",
          "text": [
            "[QClass]  seed =  964740\n",
            "[QClass]  Quantum simulation will be performed\n",
            "GPU optimization disabled. No device found.\n",
            "[QClass]  Fitting:  (160, 2, 2)\n",
            "[QClass]  Feature dimension =  2\n",
            "[QClass]  Convex MDM initiating algorithm\n",
            "[QClass]  Using NaiveQAOAOptimizer\n",
            "[QClass]  Training...\n"
          ]
        },
        {
          "data": {
            "text/html": [
              "<style>#sk-container-id-2 {color: black;background-color: white;}#sk-container-id-2 pre{padding: 0;}#sk-container-id-2 div.sk-toggleable {background-color: white;}#sk-container-id-2 label.sk-toggleable__label {cursor: pointer;display: block;width: 100%;margin-bottom: 0;padding: 0.3em;box-sizing: border-box;text-align: center;}#sk-container-id-2 label.sk-toggleable__label-arrow:before {content: \"▸\";float: left;margin-right: 0.25em;color: #696969;}#sk-container-id-2 label.sk-toggleable__label-arrow:hover:before {color: black;}#sk-container-id-2 div.sk-estimator:hover label.sk-toggleable__label-arrow:before {color: black;}#sk-container-id-2 div.sk-toggleable__content {max-height: 0;max-width: 0;overflow: hidden;text-align: left;background-color: #f0f8ff;}#sk-container-id-2 div.sk-toggleable__content pre {margin: 0.2em;color: black;border-radius: 0.25em;background-color: #f0f8ff;}#sk-container-id-2 input.sk-toggleable__control:checked~div.sk-toggleable__content {max-height: 200px;max-width: 100%;overflow: auto;}#sk-container-id-2 input.sk-toggleable__control:checked~label.sk-toggleable__label-arrow:before {content: \"▾\";}#sk-container-id-2 div.sk-estimator input.sk-toggleable__control:checked~label.sk-toggleable__label {background-color: #d4ebff;}#sk-container-id-2 div.sk-label input.sk-toggleable__control:checked~label.sk-toggleable__label {background-color: #d4ebff;}#sk-container-id-2 input.sk-hidden--visually {border: 0;clip: rect(1px 1px 1px 1px);clip: rect(1px, 1px, 1px, 1px);height: 1px;margin: -1px;overflow: hidden;padding: 0;position: absolute;width: 1px;}#sk-container-id-2 div.sk-estimator {font-family: monospace;background-color: #f0f8ff;border: 1px dotted black;border-radius: 0.25em;box-sizing: border-box;margin-bottom: 0.5em;}#sk-container-id-2 div.sk-estimator:hover {background-color: #d4ebff;}#sk-container-id-2 div.sk-parallel-item::after {content: \"\";width: 100%;border-bottom: 1px solid gray;flex-grow: 1;}#sk-container-id-2 div.sk-label:hover label.sk-toggleable__label {background-color: #d4ebff;}#sk-container-id-2 div.sk-serial::before {content: \"\";position: absolute;border-left: 1px solid gray;box-sizing: border-box;top: 0;bottom: 0;left: 50%;z-index: 0;}#sk-container-id-2 div.sk-serial {display: flex;flex-direction: column;align-items: center;background-color: white;padding-right: 0.2em;padding-left: 0.2em;position: relative;}#sk-container-id-2 div.sk-item {position: relative;z-index: 1;}#sk-container-id-2 div.sk-parallel {display: flex;align-items: stretch;justify-content: center;background-color: white;position: relative;}#sk-container-id-2 div.sk-item::before, #sk-container-id-2 div.sk-parallel-item::before {content: \"\";position: absolute;border-left: 1px solid gray;box-sizing: border-box;top: 0;bottom: 0;left: 50%;z-index: -1;}#sk-container-id-2 div.sk-parallel-item {display: flex;flex-direction: column;z-index: 1;position: relative;background-color: white;}#sk-container-id-2 div.sk-parallel-item:first-child::after {align-self: flex-end;width: 50%;}#sk-container-id-2 div.sk-parallel-item:last-child::after {align-self: flex-start;width: 50%;}#sk-container-id-2 div.sk-parallel-item:only-child::after {width: 0;}#sk-container-id-2 div.sk-dashed-wrapped {border: 1px dashed gray;margin: 0 0.4em 0.5em 0.4em;box-sizing: border-box;padding-bottom: 0.4em;background-color: white;}#sk-container-id-2 div.sk-label label {font-family: monospace;font-weight: bold;display: inline-block;line-height: 1.2em;}#sk-container-id-2 div.sk-label-container {text-align: center;}#sk-container-id-2 div.sk-container {/* jupyter's `normalize.less` sets `[hidden] { display: none; }` but bootstrap.min.css set `[hidden] { display: none !important; }` so we also need the `!important` here to be able to override the default hidden behavior on the sphinx rendered scikit-learn.org. See: https://github.com/scikit-learn/scikit-learn/issues/21755 */display: inline-block !important;position: relative;}#sk-container-id-2 div.sk-text-repr-fallback {display: none;}</style><div id=\"sk-container-id-2\" class=\"sk-top-container\"><div class=\"sk-text-repr-fallback\"><pre>QuanticMDM(shots=100)</pre><b>In a Jupyter environment, please rerun this cell to show the HTML representation or trust the notebook. <br />On GitHub, the HTML representation is unable to render, please try loading this page with nbviewer.org.</b></div><div class=\"sk-container\" hidden><div class=\"sk-item\"><div class=\"sk-estimator sk-toggleable\"><input class=\"sk-toggleable__control sk-hidden--visually\" id=\"sk-estimator-id-2\" type=\"checkbox\" checked><label for=\"sk-estimator-id-2\" class=\"sk-toggleable__label sk-toggleable__label-arrow\">QuanticMDM</label><div class=\"sk-toggleable__content\"><pre>QuanticMDM(shots=100)</pre></div></div></div></div></div>"
            ],
            "text/plain": [
              "QuanticMDM(shots=100)"
            ]
          },
          "execution_count": 6,
          "metadata": {},
          "output_type": "execute_result"
        }
      ],
      "source": [
        "# TODO: Fit transformer\n",
        "clf.fit(X_train, y_train)"
      ]
    },
    {
      "cell_type": "code",
      "execution_count": 7,
      "metadata": {
        "colab": {
          "base_uri": "https://localhost:8080/"
        },
        "id": "avbvd19ehyoA",
        "outputId": "8d78e2b4-e210-4463-d8fe-b9d80283d993"
      },
      "outputs": [
        {
          "name": "stdout",
          "output_type": "stream",
          "text": [
            "[QClass]  Prediction:  (40, 2, 2)\n",
            "[QClass]  Prediction finished.\n"
          ]
        }
      ],
      "source": [
        "# TODO: get prediction\n",
        "X_pred = clf.predict(X_test)\n",
        "score = accuracy_score(y_test, X_pred)"
      ]
    },
    {
      "cell_type": "markdown",
      "metadata": {
        "id": "gzMRH2nEibLT"
      },
      "source": [
        "### Results"
      ]
    },
    {
      "cell_type": "code",
      "execution_count": 8,
      "metadata": {
        "colab": {
          "base_uri": "https://localhost:8080/"
        },
        "id": "F3OrtPlljErE",
        "outputId": "056d0476-f7cd-4bb4-e0b5-be224230f572"
      },
      "outputs": [
        {
          "name": "stdout",
          "output_type": "stream",
          "text": [
            "score = 0.8\n"
          ]
        }
      ],
      "source": [
        "# Note: use only with balanced data!\n",
        "score = accuracy_score(y_test, X_pred)\n",
        "\n",
        "# Do not pay to much attention to the score.\n",
        "# There is no cross-validation here.\n",
        "# It likely just depends on the random_state.\n",
        "print(f\"score = {score}\")"
      ]
    },
    {
      "cell_type": "markdown",
      "metadata": {
        "id": "12LogY3blk7B"
      },
      "source": [
        "### References\n",
        "\n",
        "Github Repo: https://github.com/pyRiemann/pyRiemann-qiskit\n",
        "\n",
        "API Documentation & Examples: https://pyriemann-qiskit.readthedocs.io\n",
        "\n",
        "Paper: [pyRiemann-qiskit: A Sandbox for Quantum Classification Experiments with Riemannian Geometry](https://hal.science/hal-04040814/document)\n"
      ]
    },
    {
      "cell_type": "markdown",
      "metadata": {
        "id": "CDm0Lt2dSRnY"
      },
      "source": [
        "# Qiskit ML - VQC"
      ]
    },
    {
      "cell_type": "code",
      "execution_count": 9,
      "metadata": {
        "id": "jKrmq0BZly0F"
      },
      "outputs": [],
      "source": [
        "# We will add a callback function called callback_graph.\n",
        "# This will be called for each iteration of the optimizer and will be passed\n",
        "# two parameters: the current weights and the value of the objective function at those weights.\n",
        "# For our function, we append the value of the objective function to an array so we can plot iteration\n",
        "# versus objective function value and update the graph with each iteration.\n",
        "# However, you can do whatever you want with a callback function as long as it gets the two\n",
        "# parameters mentioned passed.\n",
        "\n",
        "# create empty array for callback to store evaluations of the objective function\n",
        "objective_func_vals = []\n",
        "\n",
        "\n",
        "def callback_graph(weights, obj_func_eval):\n",
        "    clear_output(wait=True)\n",
        "    objective_func_vals.append(obj_func_eval)\n",
        "    plt.title(\"Objective function value against iteration\")\n",
        "    plt.xlabel(\"Iteration\")\n",
        "    plt.ylabel(\"Objective function value\")\n",
        "    plt.plot(range(len(objective_func_vals)), objective_func_vals)\n",
        "    plt.show()"
      ]
    },
    {
      "cell_type": "code",
      "execution_count": 10,
      "metadata": {
        "id": "MmHcWmmtexgg"
      },
      "outputs": [],
      "source": [
        "# TODO: Transform matrices to vectors\n",
        "# ts = X_test.flatten()\n",
        "# ts = []\n",
        "# for el in X_test:\n",
        "#     ts.append(el[0][0])\n",
        "# ts = np.array(ts)\n",
        "# # TODO: get vector dimension\n",
        "ts = TangentSpace(metric=\"riemann\")\n",
        "tsx = ts.fit_transform(X_train)\n",
        "feature_dim = tsx.shape[1]"
      ]
    },
    {
      "cell_type": "code",
      "execution_count": 11,
      "metadata": {
        "colab": {
          "base_uri": "https://localhost:8080/",
          "height": 255
        },
        "id": "RhoeP9Ccb19S",
        "outputId": "bf8fd4ef-12ac-42dc-d746-795c4c762c78"
      },
      "outputs": [
        {
          "data": {
            "image/png": "[encoded data removed]",
            "text/plain": [
              "<Figure size 454.719x284.278 with 1 Axes>"
            ]
          },
          "execution_count": 11,
          "metadata": {},
          "output_type": "execute_result"
        }
      ],
      "source": [
        "# instanciate FeatureMap\n",
        "feature_map = ZFeatureMap(feature_dim, reps=2)\n",
        "feature_map.decompose().draw(output=\"mpl\")"
      ]
    },
    {
      "cell_type": "code",
      "execution_count": 12,
      "metadata": {
        "colab": {
          "base_uri": "https://localhost:8080/",
          "height": 255
        },
        "id": "630LHtdYkt7D",
        "outputId": "cb705275-4bf6-4309-97e0-4bf245579030"
      },
      "outputs": [
        {
          "data": {
            "text/html": [
              "<pre style=\"word-wrap: normal;white-space: pre;background: #fff0;line-height: 1.1;font-family: &quot;Courier New&quot;,Courier,monospace\">     ┌──────────┐┌──────────┐      ┌──────────┐┌──────────┐                   »\n",
              "q_0: ┤ Ry(θ[0]) ├┤ Rz(θ[3]) ├─■──■─┤ Ry(θ[6]) ├┤ Rz(θ[9]) ├──────────────■──■─»\n",
              "     ├──────────┤├──────────┤ │  │ └──────────┘├──────────┤┌───────────┐ │  │ »\n",
              "q_1: ┤ Ry(θ[1]) ├┤ Rz(θ[4]) ├─■──┼──────■──────┤ Ry(θ[7]) ├┤ Rz(θ[10]) ├─■──┼─»\n",
              "     ├──────────┤├──────────┤    │      │      ├──────────┤├───────────┤    │ »\n",
              "q_2: ┤ Ry(θ[2]) ├┤ Rz(θ[5]) ├────■──────■──────┤ Ry(θ[8]) ├┤ Rz(θ[11]) ├────■─»\n",
              "     └──────────┘└──────────┘                  └──────────┘└───────────┘      »\n",
              "«     ┌───────────┐┌───────────┐                   ┌───────────┐┌───────────┐»\n",
              "«q_0: ┤ Ry(θ[12]) ├┤ Rz(θ[15]) ├──────────────■──■─┤ Ry(θ[18]) ├┤ Rz(θ[21]) ├»\n",
              "«     └───────────┘├───────────┤┌───────────┐ │  │ └───────────┘├───────────┤»\n",
              "«q_1: ──────■──────┤ Ry(θ[13]) ├┤ Rz(θ[16]) ├─■──┼───────■──────┤ Ry(θ[19]) ├»\n",
              "«           │      ├───────────┤├───────────┤    │       │      ├───────────┤»\n",
              "«q_2: ──────■──────┤ Ry(θ[14]) ├┤ Rz(θ[17]) ├────■───────■──────┤ Ry(θ[20]) ├»\n",
              "«                  └───────────┘└───────────┘                   └───────────┘»\n",
              "«                  \n",
              "«q_0: ─────────────\n",
              "«     ┌───────────┐\n",
              "«q_1: ┤ Rz(θ[22]) ├\n",
              "«     ├───────────┤\n",
              "«q_2: ┤ Rz(θ[23]) ├\n",
              "«     └───────────┘</pre>"
            ],
            "text/plain": [
              "     ┌──────────┐┌──────────┐      ┌──────────┐┌──────────┐                   »\n",
              "q_0: ┤ Ry(θ[0]) ├┤ Rz(θ[3]) ├─■──■─┤ Ry(θ[6]) ├┤ Rz(θ[9]) ├──────────────■──■─»\n",
              "     ├──────────┤├──────────┤ │  │ └──────────┘├──────────┤┌───────────┐ │  │ »\n",
              "q_1: ┤ Ry(θ[1]) ├┤ Rz(θ[4]) ├─■──┼──────■──────┤ Ry(θ[7]) ├┤ Rz(θ[10]) ├─■──┼─»\n",
              "     ├──────────┤├──────────┤    │      │      ├──────────┤├───────────┤    │ »\n",
              "q_2: ┤ Ry(θ[2]) ├┤ Rz(θ[5]) ├────■──────■──────┤ Ry(θ[8]) ├┤ Rz(θ[11]) ├────■─»\n",
              "     └──────────┘└──────────┘                  └──────────┘└───────────┘      »\n",
              "«     ┌───────────┐┌───────────┐                   ┌───────────┐┌───────────┐»\n",
              "«q_0: ┤ Ry(θ[12]) ├┤ Rz(θ[15]) ├──────────────■──■─┤ Ry(θ[18]) ├┤ Rz(θ[21]) ├»\n",
              "«     └───────────┘├───────────┤┌───────────┐ │  │ └───────────┘├───────────┤»\n",
              "«q_1: ──────■──────┤ Ry(θ[13]) ├┤ Rz(θ[16]) ├─■──┼───────■──────┤ Ry(θ[19]) ├»\n",
              "«           │      ├───────────┤├───────────┤    │       │      ├───────────┤»\n",
              "«q_2: ──────■──────┤ Ry(θ[14]) ├┤ Rz(θ[17]) ├────■───────■──────┤ Ry(θ[20]) ├»\n",
              "«                  └───────────┘└───────────┘                   └───────────┘»\n",
              "«                  \n",
              "«q_0: ─────────────\n",
              "«     ┌───────────┐\n",
              "«q_1: ┤ Rz(θ[22]) ├\n",
              "«     ├───────────┤\n",
              "«q_2: ┤ Rz(θ[23]) ├\n",
              "«     └───────────┘"
            ]
          },
          "execution_count": 12,
          "metadata": {},
          "output_type": "execute_result"
        }
      ],
      "source": [
        "# instanciate ansatz\n",
        "ansatz = TwoLocal(feature_map.num_qubits, [\"ry\", \"rz\"], \"cz\", reps=3)\n",
        "ansatz.decompose().draw()"
      ]
    },
    {
      "cell_type": "code",
      "execution_count": 13,
      "metadata": {
        "colab": {
          "base_uri": "https://localhost:8080/"
        },
        "id": "I_ZhgonvlEab",
        "outputId": "04485c81-9fc9-4a45-95c6-3cba23a65c2e"
      },
      "outputs": [],
      "source": [
        "quantum_instance = QuantumInstance(AerSimulator(method=\"statevector\"), shots=1024)"
      ]
    },
    {
      "cell_type": "code",
      "execution_count": 15,
      "metadata": {
        "colab": {
          "base_uri": "https://localhost:8080/",
          "height": 580
        },
        "id": "Hz5UL3LMSXUx",
        "outputId": "677232bc-3c38-4077-ba89-c401e7386ac8"
      },
      "outputs": [],
      "source": [
        "# TODO: instanciate VQC and fit the estimator\n",
        "from qiskit.primitives import Sampler\n",
        "\n",
        "vqc = VQC(\n",
        "    num_qubits=feature_dim,\n",
        "    ansatz=ansatz,\n",
        "    sampler=Sampler(),\n",
        "    quantum_instance=quantum_instance,\n",
        "    feature_map=feature_map,\n",
        ")\n",
        "vqc.fit(tsx, y_train)"
      ]
    },
    {
      "cell_type": "code",
      "execution_count": null,
      "metadata": {
        "colab": {
          "base_uri": "https://localhost:8080/"
        },
        "id": "v-FZWHtMmqvf",
        "outputId": "cc4d4831-3897-4a9a-9aa7-ed7d84af128a"
      },
      "outputs": [],
      "source": [
        "y_pred = clf.predict(X_test)\n",
        "score = accuracy_score(y_test, y_pred)\n",
        "print(f\"Score: {score:0.2f}\")"
      ]
    },
    {
      "cell_type": "markdown",
      "metadata": {
        "id": "jNlGln-5mxk2"
      },
      "source": [
        "# Qiskit ML - SVM"
      ]
    },
    {
      "cell_type": "code",
      "execution_count": null,
      "metadata": {
        "colab": {
          "base_uri": "https://localhost:8080/",
          "height": 125
        },
        "id": "o7RMrOFMm0O_",
        "outputId": "df722ae2-6a3c-41e6-9e9a-d48d4ef37260"
      },
      "outputs": [],
      "source": [
        "quantum_kernel = QuantumKernel(quantum_instance)\n",
        "svc = QSVC(\n",
        "    quantum_kernel=quantum_kernel,\n",
        "    # gamma=self.gamma,\n",
        "    # C=self.C,\n",
        "    # max_iter=70,\n",
        ")\n",
        "clf = make_pipeline(ts, svc)\n",
        "\n",
        "clf.fit(X_train, y_train)"
      ]
    },
    {
      "cell_type": "code",
      "execution_count": null,
      "metadata": {
        "colab": {
          "base_uri": "https://localhost:8080/"
        },
        "id": "BY2iqee8ngN4",
        "outputId": "9b361391-5012-417e-cb1a-24d2d294db57"
      },
      "outputs": [],
      "source": [
        "y_pred = clf.predict(X_test)\n",
        "score = accuracy_score(y_test, y_pred)\n",
        "print(f\"Score: {score:0.2f}\")\n",
        "\n",
        "# TODO: Retry with different value of gamma and C\n",
        "#       Use a grid searchCV"
      ]
    }
  ],
  "metadata": {
    "colab": {
      "provenance": []
    },
    "kernelspec": {
      "display_name": "Python 3",
      "name": "python3"
    },
    "language_info": {
      "codemirror_mode": {
        "name": "ipython",
        "version": 3
      },
      "file_extension": ".py",
      "mimetype": "text/x-python",
      "name": "python",
      "nbconvert_exporter": "python",
      "pygments_lexer": "ipython3",
      "version": "3.11.3"
    }
  },
  "nbformat": 4,
  "nbformat_minor": 0
}
