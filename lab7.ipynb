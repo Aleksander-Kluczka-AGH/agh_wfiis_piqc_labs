{
    "cells": [
      {
        "cell_type": "markdown",
        "metadata": {
          "id": "CPMD-qlE3bcB"
        },
        "source": [
          "# Quantum Teleportation\n",
          "\n",
          "This is a short tutorial on quantum teleportation.\n",
          "\n",
          "Alice and Bob have two entangled qubits.\n",
          "Alice wants to teleport the state of a secret qubit to Bob.\n",
          "\n",
          "# Instruction:\n",
          "In this notebook some of the sections has to be completed.\n",
          "\n",
          "Look for the string \"TODO\" there are 5 of them.\n"
        ]
      },
      {
        "cell_type": "markdown",
        "metadata": {
          "id": "sdg5LIy5-lLs"
        },
        "source": [
          "## Setup"
        ]
      },
      {
        "cell_type": "code",
        "execution_count": null,
        "metadata": {
          "colab": {
            "base_uri": "https://localhost:8080/"
          },
          "id": "32VmKz9R-vL6",
          "outputId": "4f637d54-484e-42a1-ea39-337f37064d20"
        },
        "outputs": [],
        "source": [
          "# Install qiskit and qiskit_aer\n",
          "# qiskit_aer is in general faster than the basic simulator inside qiskit\n",
          "!pip install qiskit==0.45.0\n",
          "!pip install qiskit[visualization]\n",
          "!pip install qiskit_aer"
        ]
      },
      {
        "cell_type": "code",
        "execution_count": 2,
        "metadata": {
          "id": "khy5kFcW_UgS"
        },
        "outputs": [],
        "source": [
          "# Required import for this notebook to work\n",
          "import numpy as np\n",
          "from qiskit import QuantumCircuit, QuantumRegister, ClassicalRegister\n",
          "from qiskit.visualization import array_to_latex, plot_bloch_multivector\n",
          "from qiskit.extensions import Initialize\n",
          "from qiskit.quantum_info import random_statevector\n",
          "from qiskit_aer import AerSimulator"
        ]
      },
      {
        "cell_type": "code",
        "execution_count": 3,
        "metadata": {
          "id": "8dTUf9YS_pZd"
        },
        "outputs": [],
        "source": [
          "# Create Alice and Bob qubits\n",
          "q1 = QuantumRegister(1, name=\"q1\")\n",
          "q2 = QuantumRegister(1, name=\"q2\")\n",
          "q_secret = QuantumRegister(1,name=\"q_secret\")"
        ]
      },
      {
        "cell_type": "code",
        "execution_count": 4,
        "metadata": {
          "id": "cPvHXb8Q_7RE"
        },
        "outputs": [],
        "source": [
          "# Create classical qubits.\n",
          "# They will contains the measured state of Alice qubits\n",
          "# (to sent over classical network to Bob)\n",
          "measure_q1 = ClassicalRegister(1, name=\"measure_q1\")\n",
          "measure_q_secret = ClassicalRegister(1, name=\"measure_q_secret\")"
        ]
      },
      {
        "cell_type": "code",
        "execution_count": 5,
        "metadata": {
          "id": "0rEL9c9kAKci"
        },
        "outputs": [],
        "source": [
          "# Put it together\n",
          "circuit = QuantumCircuit(q1, q2, q_secret, measure_q1, measure_q_secret)"
        ]
      },
      {
        "cell_type": "code",
        "execution_count": null,
        "metadata": {
          "colab": {
            "base_uri": "https://localhost:8080/",
            "height": 445
          },
          "id": "r48sgErKApsO",
          "outputId": "788f9f93-39e5-46a5-8e78-5457661c8370"
        },
        "outputs": [],
        "source": [
          "# Create secret\n",
          "random_secret = random_statevector(2)\n",
          "# Display the state vector\n",
          "display(array_to_latex(random_secret, prefix=\"|q\\_secret\\\\rangle =\"))\n",
          "# TODO: Show random_secret in the Bloch sphere"
        ]
      },
      {
        "cell_type": "code",
        "execution_count": null,
        "metadata": {
          "colab": {
            "base_uri": "https://localhost:8080/"
          },
          "id": "mPX4sAclBUo4",
          "outputId": "62e2c133-fd38-4869-e55d-fc39276299ae"
        },
        "outputs": [],
        "source": [
          "# Initialize q_secret with our random_secret\n",
          "init_gate = Initialize(random_secret)\n",
          "init_gate.label = \"init\"\n",
          "circuit.append(init_gate, [2])\n",
          "circuit.barrier()"
        ]
      },
      {
        "cell_type": "markdown",
        "metadata": {
          "id": "XFgmTzFVB2Rx"
        },
        "source": [
          "# Teleportation protocol"
        ]
      },
      {
        "cell_type": "code",
        "execution_count": null,
        "metadata": {
          "colab": {
            "base_uri": "https://localhost:8080/"
          },
          "id": "EZ3-ZDSMB4ba",
          "outputId": "6ffa69cc-9df9-415a-b47c-d6c3f13a1976"
        },
        "outputs": [],
        "source": [
          "# TODO: Entangle Alice and Bob qubits"
        ]
      },
      {
        "cell_type": "code",
        "execution_count": 9,
        "metadata": {
          "colab": {
            "base_uri": "https://localhost:8080/"
          },
          "id": "u21F3qmuCG8D",
          "outputId": "11d09e50-51c4-49c4-bd5f-4de9abbd57f8"
        },
        "outputs": [
          {
            "data": {
              "text/plain": [
                "<qiskit.circuit.instructionset.InstructionSet at 0x7c06a2582740>"
              ]
            },
            "execution_count": 9,
            "metadata": {},
            "output_type": "execute_result"
          }
        ],
        "source": [
          "# TODO: Apply CNOT and Hadamard gate as per the presentation\n",
          "circuit.barrier()"
        ]
      },
      {
        "cell_type": "code",
        "execution_count": null,
        "metadata": {
          "colab": {
            "base_uri": "https://localhost:8080/"
          },
          "id": "WtWAyypFCZj8",
          "outputId": "46ee7d00-3329-4618-8e04-232e3be515ea"
        },
        "outputs": [],
        "source": [
          "# TODO: Alice measure q1 and q_secret, and send the results to Bob\n",
          "circuit.barrier()"
        ]
      },
      {
        "cell_type": "code",
        "execution_count": null,
        "metadata": {
          "colab": {
            "base_uri": "https://localhost:8080/",
            "height": 356
          },
          "id": "N7SB-2jkCszG",
          "outputId": "64b0fd1e-9e44-4e68-b1f5-643c577d5613"
        },
        "outputs": [],
        "source": [
          "# TODO: Bob applies conditional rotation depending on Alice results\n",
          "circuit.draw(output='mpl')"
        ]
      },
      {
        "cell_type": "markdown",
        "metadata": {
          "id": "NMxQO_b8DBm_"
        },
        "source": [
          "# Simulation"
        ]
      },
      {
        "cell_type": "code",
        "execution_count": null,
        "metadata": {
          "colab": {
            "base_uri": "https://localhost:8080/",
            "height": 404
          },
          "id": "CjWhRDrFDGa4",
          "outputId": "1066c527-8769-4ce1-aab7-94f1bae85f6c"
        },
        "outputs": [],
        "source": [
          "# get statevector simulator\n",
          "sim = AerSimulator(method=\"statevector\")\n",
          "circuit.save_statevector()\n",
          "out_vector = sim.run(circuit).result().get_statevector()\n",
          "\n",
          "# display q2 (now the same as q_secret) nicely using latex\n",
          "q2_final = [v for v in np.asarray(out_vector) if not v == 0]\n",
          "display(array_to_latex(q2_final, prefix=\"|q2\\_final\\\\rangle =\"))\n",
          "\n",
          "# display the whole system (from left to right: q1, q2 and q_secret)\n",
          "# in the bloch sphere\n",
          "# You can see that there are no qubits with the same state (no-copy):\n",
          "# The state q_secret was teleported into q2,\n",
          "# but the state of Alice qubits (q1 and q_secret) is now undertemined\n",
          "# as it was measured\n",
          "plot_bloch_multivector(out_vector)"
        ]
      }
    ],
    "metadata": {
      "colab": {
        "provenance": []
      },
      "kernelspec": {
        "display_name": "Python 3",
        "name": "python3"
      },
      "language_info": {
        "name": "python"
      }
    },
    "nbformat": 4,
    "nbformat_minor": 0
  }
