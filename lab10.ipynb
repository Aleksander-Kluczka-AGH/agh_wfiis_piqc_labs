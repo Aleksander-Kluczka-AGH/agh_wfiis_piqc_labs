{
  "cells": [
    {
      "cell_type": "markdown",
      "id": "qdF-FaUQmMrK",
      "metadata": {
        "id": "qdF-FaUQmMrK"
      },
      "source": [
        "Author: Tomasz Stopa\n",
        "\n",
        "Modified by: Gregoire Cattan"
      ]
    },
    {
      "cell_type": "markdown",
      "id": "7673928d",
      "metadata": {
        "id": "7673928d"
      },
      "source": [
        "## QAOA"
      ]
    },
    {
      "cell_type": "markdown",
      "id": "c88acf20",
      "metadata": {
        "id": "c88acf20"
      },
      "source": [
        "**Original paper on QAOA by Farhi et al.:[https://arxiv.org/pdf/1411.4028.pdf](https://arxiv.org/pdf/1411.4028.pdf)**\n",
        "\n",
        "**QAOA in Qiskit textbook: https://github.com/Qiskit/textbook/blob/main/notebooks/ch-applications/qaoa.ipynb**\n",
        "\n",
        "Very good tutorial on QAOA: https://github.com/rsln-s/IEEE_QW_2020/blob/master/Hands-on.ipynb\n",
        "\n",
        "4 part video titorial on QAOA: https://www.youtube.com/playlist?list=PLn2GetlnOf-sdGdmCa_P35iC64KlH_pHo\n",
        "\n",
        "Optimization tutorials: https://qiskit.org/documentation/tutorials/optimization/index.html\n"
      ]
    },
    {
      "cell_type": "code",
      "execution_count": 1,
      "id": "MNnG-mMqmdLI",
      "metadata": {
        "colab": {
          "base_uri": "https://localhost:8080/"
        },
        "id": "MNnG-mMqmdLI",
        "outputId": "768232af-5bce-4888-81b4-ae94d62fcafc"
      },
      "outputs": [
        {
          "name": "stdout",
          "output_type": "stream",
          "text": [
            "Collecting qiskit==0.45.0\n",
            "  Obtaining dependency information for qiskit==0.45.0 from https://files.pythonhosted.org/packages/4b/0b/6b89d2b3ceceac0499d6e7487018de3064d024183cd2227746d690e095dd/qiskit-0.45.0-py3-none-any.whl.metadata\n",
            "  Using cached qiskit-0.45.0-py3-none-any.whl.metadata (12 kB)\n",
            "Collecting qiskit-terra==0.45.0 (from qiskit==0.45.0)\n",
            "  Obtaining dependency information for qiskit-terra==0.45.0 from https://files.pythonhosted.org/packages/99/f3/75fd3dbf091c1963d732c9f27d4f3143720660bff966da3ff6e1996deca7/qiskit_terra-0.45.0-cp38-abi3-win_amd64.whl.metadata\n",
            "  Using cached qiskit_terra-0.45.0-cp38-abi3-win_amd64.whl.metadata (12 kB)\n",
            "Requirement already satisfied: rustworkx>=0.13.0 in c:\\users\\alaga\\appdata\\local\\packages\\pythonsoftwarefoundation.python.3.11_qbz5n2kfra8p0\\localcache\\local-packages\\python311\\site-packages (from qiskit-terra==0.45.0->qiskit==0.45.0) (0.13.2)\n",
            "Requirement already satisfied: numpy<2,>=1.17 in c:\\users\\alaga\\appdata\\local\\packages\\pythonsoftwarefoundation.python.3.11_qbz5n2kfra8p0\\localcache\\local-packages\\python311\\site-packages (from qiskit-terra==0.45.0->qiskit==0.45.0) (1.23.5)\n",
            "Requirement already satisfied: ply>=3.10 in c:\\users\\alaga\\appdata\\local\\packages\\pythonsoftwarefoundation.python.3.11_qbz5n2kfra8p0\\localcache\\local-packages\\python311\\site-packages (from qiskit-terra==0.45.0->qiskit==0.45.0) (3.11)\n",
            "Requirement already satisfied: psutil>=5 in c:\\users\\alaga\\appdata\\local\\packages\\pythonsoftwarefoundation.python.3.11_qbz5n2kfra8p0\\localcache\\local-packages\\python311\\site-packages (from qiskit-terra==0.45.0->qiskit==0.45.0) (5.9.4)\n",
            "Requirement already satisfied: scipy>=1.5 in c:\\users\\alaga\\appdata\\local\\packages\\pythonsoftwarefoundation.python.3.11_qbz5n2kfra8p0\\localcache\\local-packages\\python311\\site-packages (from qiskit-terra==0.45.0->qiskit==0.45.0) (1.10.1)\n",
            "Requirement already satisfied: sympy>=1.3 in c:\\users\\alaga\\appdata\\local\\packages\\pythonsoftwarefoundation.python.3.11_qbz5n2kfra8p0\\localcache\\local-packages\\python311\\site-packages (from qiskit-terra==0.45.0->qiskit==0.45.0) (1.12)\n",
            "Requirement already satisfied: dill>=0.3 in c:\\users\\alaga\\appdata\\local\\packages\\pythonsoftwarefoundation.python.3.11_qbz5n2kfra8p0\\localcache\\local-packages\\python311\\site-packages (from qiskit-terra==0.45.0->qiskit==0.45.0) (0.3.6)\n",
            "Requirement already satisfied: python-dateutil>=2.8.0 in c:\\users\\alaga\\appdata\\local\\packages\\pythonsoftwarefoundation.python.3.11_qbz5n2kfra8p0\\localcache\\local-packages\\python311\\site-packages (from qiskit-terra==0.45.0->qiskit==0.45.0) (2.8.2)\n",
            "Requirement already satisfied: stevedore>=3.0.0 in c:\\users\\alaga\\appdata\\local\\packages\\pythonsoftwarefoundation.python.3.11_qbz5n2kfra8p0\\localcache\\local-packages\\python311\\site-packages (from qiskit-terra==0.45.0->qiskit==0.45.0) (5.1.0)\n",
            "Requirement already satisfied: six>=1.5 in c:\\users\\alaga\\appdata\\local\\packages\\pythonsoftwarefoundation.python.3.11_qbz5n2kfra8p0\\localcache\\local-packages\\python311\\site-packages (from python-dateutil>=2.8.0->qiskit-terra==0.45.0->qiskit==0.45.0) (1.16.0)\n",
            "Requirement already satisfied: pbr!=2.1.0,>=2.0.0 in c:\\users\\alaga\\appdata\\local\\packages\\pythonsoftwarefoundation.python.3.11_qbz5n2kfra8p0\\localcache\\local-packages\\python311\\site-packages (from stevedore>=3.0.0->qiskit-terra==0.45.0->qiskit==0.45.0) (6.0.0)\n",
            "Requirement already satisfied: mpmath>=0.19 in c:\\users\\alaga\\appdata\\local\\packages\\pythonsoftwarefoundation.python.3.11_qbz5n2kfra8p0\\localcache\\local-packages\\python311\\site-packages (from sympy>=1.3->qiskit-terra==0.45.0->qiskit==0.45.0) (1.3.0)\n",
            "Using cached qiskit-0.45.0-py3-none-any.whl (9.6 kB)\n",
            "Using cached qiskit_terra-0.45.0-cp38-abi3-win_amd64.whl (5.1 MB)\n",
            "Installing collected packages: qiskit-terra, qiskit\n",
            "  Attempting uninstall: qiskit-terra\n",
            "    Found existing installation: qiskit-terra 0.45.1\n",
            "    Uninstalling qiskit-terra-0.45.1:\n",
            "      Successfully uninstalled qiskit-terra-0.45.1\n",
            "  Attempting uninstall: qiskit\n",
            "    Found existing installation: qiskit 0.45.1\n",
            "    Uninstalling qiskit-0.45.1:\n",
            "      Successfully uninstalled qiskit-0.45.1\n",
            "Successfully installed qiskit-0.45.0 qiskit-terra-0.45.0\n"
          ]
        },
        {
          "name": "stderr",
          "output_type": "stream",
          "text": [
            "DEPRECATION: qiskit-nature 0.5.0 has a non-standard dependency specifier qiskit-terra>=0.22.*. pip 23.3 will enforce this behaviour change. A possible replacement is to upgrade to a newer version of qiskit-nature or contact the author to suggest that they release a version with a conforming dependency specifiers. Discussion can be found at https://github.com/pypa/pip/issues/12063\n",
            "\n",
            "[notice] A new release of pip is available: 23.2.1 -> 23.3.2\n",
            "[notice] To update, run: C:\\Users\\alaga\\AppData\\Local\\Microsoft\\WindowsApps\\PythonSoftwareFoundation.Python.3.11_qbz5n2kfra8p0\\python.exe -m pip install --upgrade pip\n"
          ]
        },
        {
          "name": "stdout",
          "output_type": "stream",
          "text": [
            "Collecting qiskit-optimization\n",
            "  Obtaining dependency information for qiskit-optimization from https://files.pythonhosted.org/packages/46/e1/f8cdee31db8011bb7e8f72a81f685d906da4172b2dd67435a3e64585508b/qiskit_optimization-0.6.0-py3-none-any.whl.metadata\n",
            "  Downloading qiskit_optimization-0.6.0-py3-none-any.whl.metadata (8.4 kB)\n",
            "Requirement already satisfied: qiskit>=0.44 in c:\\users\\alaga\\appdata\\local\\packages\\pythonsoftwarefoundation.python.3.11_qbz5n2kfra8p0\\localcache\\local-packages\\python311\\site-packages (from qiskit-optimization) (0.45.0)\n",
            "Collecting qiskit-algorithms>=0.2.0 (from qiskit-optimization)\n",
            "  Obtaining dependency information for qiskit-algorithms>=0.2.0 from https://files.pythonhosted.org/packages/b4/c5/30f3b74d5d46611ca58d82ef5718ba4bf0c220c960931d0261c142f412d9/qiskit_algorithms-0.2.1-py3-none-any.whl.metadata\n",
            "  Downloading qiskit_algorithms-0.2.1-py3-none-any.whl.metadata (4.1 kB)\n",
            "Requirement already satisfied: scipy>=1.9.0 in c:\\users\\alaga\\appdata\\local\\packages\\pythonsoftwarefoundation.python.3.11_qbz5n2kfra8p0\\localcache\\local-packages\\python311\\site-packages (from qiskit-optimization) (1.10.1)\n",
            "Requirement already satisfied: numpy>=1.17 in c:\\users\\alaga\\appdata\\local\\packages\\pythonsoftwarefoundation.python.3.11_qbz5n2kfra8p0\\localcache\\local-packages\\python311\\site-packages (from qiskit-optimization) (1.23.5)\n",
            "Collecting docplex!=2.24.231,>=2.21.207 (from qiskit-optimization)\n",
            "  Downloading docplex-2.25.236.tar.gz (633 kB)\n",
            "     ---------------------------------------- 0.0/633.5 kB ? eta -:--:--\n",
            "     ----- --------------------------------- 81.9/633.5 kB 2.3 MB/s eta 0:00:01\n",
            "     ------------- ------------------------ 225.3/633.5 kB 2.8 MB/s eta 0:00:01\n",
            "     ------------------------ ------------- 409.6/633.5 kB 3.2 MB/s eta 0:00:01\n",
            "     ---------------------------------- --- 573.4/633.5 kB 3.3 MB/s eta 0:00:01\n",
            "     -------------------------------------- 633.5/633.5 kB 2.9 MB/s eta 0:00:00\n",
            "  Preparing metadata (setup.py): started\n",
            "  Preparing metadata (setup.py): finished with status 'done'\n",
            "Requirement already satisfied: setuptools>=40.1.0 in c:\\program files\\windowsapps\\pythonsoftwarefoundation.python.3.11_3.11.1008.0_x64__qbz5n2kfra8p0\\lib\\site-packages (from qiskit-optimization) (65.5.0)\n",
            "Requirement already satisfied: networkx>=2.6.3 in c:\\users\\alaga\\appdata\\local\\packages\\pythonsoftwarefoundation.python.3.11_qbz5n2kfra8p0\\localcache\\local-packages\\python311\\site-packages (from qiskit-optimization) (3.1)\n",
            "Requirement already satisfied: six in c:\\users\\alaga\\appdata\\local\\packages\\pythonsoftwarefoundation.python.3.11_qbz5n2kfra8p0\\localcache\\local-packages\\python311\\site-packages (from docplex!=2.24.231,>=2.21.207->qiskit-optimization) (1.16.0)\n",
            "Requirement already satisfied: qiskit-terra==0.45.0 in c:\\users\\alaga\\appdata\\local\\packages\\pythonsoftwarefoundation.python.3.11_qbz5n2kfra8p0\\localcache\\local-packages\\python311\\site-packages (from qiskit>=0.44->qiskit-optimization) (0.45.0)\n",
            "Requirement already satisfied: rustworkx>=0.13.0 in c:\\users\\alaga\\appdata\\local\\packages\\pythonsoftwarefoundation.python.3.11_qbz5n2kfra8p0\\localcache\\local-packages\\python311\\site-packages (from qiskit-terra==0.45.0->qiskit>=0.44->qiskit-optimization) (0.13.2)\n",
            "Requirement already satisfied: ply>=3.10 in c:\\users\\alaga\\appdata\\local\\packages\\pythonsoftwarefoundation.python.3.11_qbz5n2kfra8p0\\localcache\\local-packages\\python311\\site-packages (from qiskit-terra==0.45.0->qiskit>=0.44->qiskit-optimization) (3.11)\n",
            "Requirement already satisfied: psutil>=5 in c:\\users\\alaga\\appdata\\local\\packages\\pythonsoftwarefoundation.python.3.11_qbz5n2kfra8p0\\localcache\\local-packages\\python311\\site-packages (from qiskit-terra==0.45.0->qiskit>=0.44->qiskit-optimization) (5.9.4)\n",
            "Requirement already satisfied: sympy>=1.3 in c:\\users\\alaga\\appdata\\local\\packages\\pythonsoftwarefoundation.python.3.11_qbz5n2kfra8p0\\localcache\\local-packages\\python311\\site-packages (from qiskit-terra==0.45.0->qiskit>=0.44->qiskit-optimization) (1.12)\n",
            "Requirement already satisfied: dill>=0.3 in c:\\users\\alaga\\appdata\\local\\packages\\pythonsoftwarefoundation.python.3.11_qbz5n2kfra8p0\\localcache\\local-packages\\python311\\site-packages (from qiskit-terra==0.45.0->qiskit>=0.44->qiskit-optimization) (0.3.6)\n",
            "Requirement already satisfied: python-dateutil>=2.8.0 in c:\\users\\alaga\\appdata\\local\\packages\\pythonsoftwarefoundation.python.3.11_qbz5n2kfra8p0\\localcache\\local-packages\\python311\\site-packages (from qiskit-terra==0.45.0->qiskit>=0.44->qiskit-optimization) (2.8.2)\n",
            "Requirement already satisfied: stevedore>=3.0.0 in c:\\users\\alaga\\appdata\\local\\packages\\pythonsoftwarefoundation.python.3.11_qbz5n2kfra8p0\\localcache\\local-packages\\python311\\site-packages (from qiskit-terra==0.45.0->qiskit>=0.44->qiskit-optimization) (5.1.0)\n",
            "Requirement already satisfied: pbr!=2.1.0,>=2.0.0 in c:\\users\\alaga\\appdata\\local\\packages\\pythonsoftwarefoundation.python.3.11_qbz5n2kfra8p0\\localcache\\local-packages\\python311\\site-packages (from stevedore>=3.0.0->qiskit-terra==0.45.0->qiskit>=0.44->qiskit-optimization) (6.0.0)\n",
            "Requirement already satisfied: mpmath>=0.19 in c:\\users\\alaga\\appdata\\local\\packages\\pythonsoftwarefoundation.python.3.11_qbz5n2kfra8p0\\localcache\\local-packages\\python311\\site-packages (from sympy>=1.3->qiskit-terra==0.45.0->qiskit>=0.44->qiskit-optimization) (1.3.0)\n",
            "Downloading qiskit_optimization-0.6.0-py3-none-any.whl (167 kB)\n",
            "   ---------------------------------------- 0.0/167.4 kB ? eta -:--:--\n",
            "   ---------------------------------------  163.8/167.4 kB 4.8 MB/s eta 0:00:01\n",
            "   ---------------------------------------- 167.4/167.4 kB 3.3 MB/s eta 0:00:00\n",
            "Downloading qiskit_algorithms-0.2.1-py3-none-any.whl (306 kB)\n",
            "   ---------------------------------------- 0.0/306.9 kB ? eta -:--:--\n",
            "   ------------------ --------------------- 143.4/306.9 kB 4.3 MB/s eta 0:00:01\n",
            "   -------------------------------------- - 297.0/306.9 kB 3.7 MB/s eta 0:00:01\n",
            "   ---------------------------------------- 306.9/306.9 kB 3.2 MB/s eta 0:00:00\n",
            "Building wheels for collected packages: docplex\n",
            "  Building wheel for docplex (setup.py): started\n",
            "  Building wheel for docplex (setup.py): finished with status 'done'\n",
            "  Created wheel for docplex: filename=docplex-2.25.236-py3-none-any.whl size=671402 sha256=9ec72957b3acabfc03bc661c96d44b5847205c980b081fb843ec5071ae6fc52d\n",
            "  Stored in directory: c:\\users\\alaga\\appdata\\local\\pip\\cache\\wheels\\d7\\69\\a9\\31f594a2226d1b2af8d2ddf041e976ad9aae0161d5f8f8bdf0\n",
            "Successfully built docplex\n",
            "Installing collected packages: docplex, qiskit-algorithms, qiskit-optimization\n",
            "Successfully installed docplex-2.25.236 qiskit-algorithms-0.2.1 qiskit-optimization-0.6.0\n"
          ]
        },
        {
          "name": "stderr",
          "output_type": "stream",
          "text": [
            "DEPRECATION: qiskit-nature 0.5.0 has a non-standard dependency specifier qiskit-terra>=0.22.*. pip 23.3 will enforce this behaviour change. A possible replacement is to upgrade to a newer version of qiskit-nature or contact the author to suggest that they release a version with a conforming dependency specifiers. Discussion can be found at https://github.com/pypa/pip/issues/12063\n",
            "\n",
            "[notice] A new release of pip is available: 23.2.1 -> 23.3.2\n",
            "[notice] To update, run: C:\\Users\\alaga\\AppData\\Local\\Microsoft\\WindowsApps\\PythonSoftwareFoundation.Python.3.11_qbz5n2kfra8p0\\python.exe -m pip install --upgrade pip\n"
          ]
        },
        {
          "name": "stdout",
          "output_type": "stream",
          "text": [
            "Requirement already satisfied: qiskit-ibm-provider in c:\\users\\alaga\\appdata\\local\\packages\\pythonsoftwarefoundation.python.3.11_qbz5n2kfra8p0\\localcache\\local-packages\\python311\\site-packages (0.7.3)\n",
            "Requirement already satisfied: qiskit>=0.44.1 in c:\\users\\alaga\\appdata\\local\\packages\\pythonsoftwarefoundation.python.3.11_qbz5n2kfra8p0\\localcache\\local-packages\\python311\\site-packages (from qiskit-ibm-provider) (0.45.0)\n",
            "Requirement already satisfied: requests>=2.19 in c:\\users\\alaga\\appdata\\local\\packages\\pythonsoftwarefoundation.python.3.11_qbz5n2kfra8p0\\localcache\\local-packages\\python311\\site-packages (from qiskit-ibm-provider) (2.31.0)\n",
            "Requirement already satisfied: requests-ntlm>=1.1.0 in c:\\users\\alaga\\appdata\\local\\packages\\pythonsoftwarefoundation.python.3.11_qbz5n2kfra8p0\\localcache\\local-packages\\python311\\site-packages (from qiskit-ibm-provider) (1.1.0)\n",
            "Requirement already satisfied: numpy>=1.13 in c:\\users\\alaga\\appdata\\local\\packages\\pythonsoftwarefoundation.python.3.11_qbz5n2kfra8p0\\localcache\\local-packages\\python311\\site-packages (from qiskit-ibm-provider) (1.23.5)\n",
            "Requirement already satisfied: urllib3>=1.21.1 in c:\\users\\alaga\\appdata\\local\\packages\\pythonsoftwarefoundation.python.3.11_qbz5n2kfra8p0\\localcache\\local-packages\\python311\\site-packages (from qiskit-ibm-provider) (2.1.0)\n",
            "Requirement already satisfied: python-dateutil>=2.8.0 in c:\\users\\alaga\\appdata\\local\\packages\\pythonsoftwarefoundation.python.3.11_qbz5n2kfra8p0\\localcache\\local-packages\\python311\\site-packages (from qiskit-ibm-provider) (2.8.2)\n",
            "Requirement already satisfied: websocket-client>=1.5.1 in c:\\users\\alaga\\appdata\\local\\packages\\pythonsoftwarefoundation.python.3.11_qbz5n2kfra8p0\\localcache\\local-packages\\python311\\site-packages (from qiskit-ibm-provider) (1.5.1)\n",
            "Requirement already satisfied: websockets>=10.0 in c:\\users\\alaga\\appdata\\local\\packages\\pythonsoftwarefoundation.python.3.11_qbz5n2kfra8p0\\localcache\\local-packages\\python311\\site-packages (from qiskit-ibm-provider) (12.0)\n",
            "Requirement already satisfied: typing-extensions>=4.3 in c:\\users\\alaga\\appdata\\local\\packages\\pythonsoftwarefoundation.python.3.11_qbz5n2kfra8p0\\localcache\\local-packages\\python311\\site-packages (from qiskit-ibm-provider) (4.4.0)\n",
            "Requirement already satisfied: six>=1.5 in c:\\users\\alaga\\appdata\\local\\packages\\pythonsoftwarefoundation.python.3.11_qbz5n2kfra8p0\\localcache\\local-packages\\python311\\site-packages (from python-dateutil>=2.8.0->qiskit-ibm-provider) (1.16.0)\n",
            "Requirement already satisfied: qiskit-terra==0.45.0 in c:\\users\\alaga\\appdata\\local\\packages\\pythonsoftwarefoundation.python.3.11_qbz5n2kfra8p0\\localcache\\local-packages\\python311\\site-packages (from qiskit>=0.44.1->qiskit-ibm-provider) (0.45.0)\n",
            "Requirement already satisfied: rustworkx>=0.13.0 in c:\\users\\alaga\\appdata\\local\\packages\\pythonsoftwarefoundation.python.3.11_qbz5n2kfra8p0\\localcache\\local-packages\\python311\\site-packages (from qiskit-terra==0.45.0->qiskit>=0.44.1->qiskit-ibm-provider) (0.13.2)\n",
            "Requirement already satisfied: ply>=3.10 in c:\\users\\alaga\\appdata\\local\\packages\\pythonsoftwarefoundation.python.3.11_qbz5n2kfra8p0\\localcache\\local-packages\\python311\\site-packages (from qiskit-terra==0.45.0->qiskit>=0.44.1->qiskit-ibm-provider) (3.11)\n",
            "Requirement already satisfied: psutil>=5 in c:\\users\\alaga\\appdata\\local\\packages\\pythonsoftwarefoundation.python.3.11_qbz5n2kfra8p0\\localcache\\local-packages\\python311\\site-packages (from qiskit-terra==0.45.0->qiskit>=0.44.1->qiskit-ibm-provider) (5.9.4)\n",
            "Requirement already satisfied: scipy>=1.5 in c:\\users\\alaga\\appdata\\local\\packages\\pythonsoftwarefoundation.python.3.11_qbz5n2kfra8p0\\localcache\\local-packages\\python311\\site-packages (from qiskit-terra==0.45.0->qiskit>=0.44.1->qiskit-ibm-provider) (1.10.1)\n",
            "Requirement already satisfied: sympy>=1.3 in c:\\users\\alaga\\appdata\\local\\packages\\pythonsoftwarefoundation.python.3.11_qbz5n2kfra8p0\\localcache\\local-packages\\python311\\site-packages (from qiskit-terra==0.45.0->qiskit>=0.44.1->qiskit-ibm-provider) (1.12)\n",
            "Requirement already satisfied: dill>=0.3 in c:\\users\\alaga\\appdata\\local\\packages\\pythonsoftwarefoundation.python.3.11_qbz5n2kfra8p0\\localcache\\local-packages\\python311\\site-packages (from qiskit-terra==0.45.0->qiskit>=0.44.1->qiskit-ibm-provider) (0.3.6)\n",
            "Requirement already satisfied: stevedore>=3.0.0 in c:\\users\\alaga\\appdata\\local\\packages\\pythonsoftwarefoundation.python.3.11_qbz5n2kfra8p0\\localcache\\local-packages\\python311\\site-packages (from qiskit-terra==0.45.0->qiskit>=0.44.1->qiskit-ibm-provider) (5.1.0)\n",
            "Requirement already satisfied: charset-normalizer<4,>=2 in c:\\users\\alaga\\appdata\\local\\packages\\pythonsoftwarefoundation.python.3.11_qbz5n2kfra8p0\\localcache\\local-packages\\python311\\site-packages (from requests>=2.19->qiskit-ibm-provider) (3.1.0)\n",
            "Requirement already satisfied: idna<4,>=2.5 in c:\\users\\alaga\\appdata\\local\\packages\\pythonsoftwarefoundation.python.3.11_qbz5n2kfra8p0\\localcache\\local-packages\\python311\\site-packages (from requests>=2.19->qiskit-ibm-provider) (2.10)\n",
            "Requirement already satisfied: certifi>=2017.4.17 in c:\\users\\alaga\\appdata\\local\\packages\\pythonsoftwarefoundation.python.3.11_qbz5n2kfra8p0\\localcache\\local-packages\\python311\\site-packages (from requests>=2.19->qiskit-ibm-provider) (2022.12.7)\n",
            "Requirement already satisfied: ntlm-auth>=1.0.2 in c:\\users\\alaga\\appdata\\local\\packages\\pythonsoftwarefoundation.python.3.11_qbz5n2kfra8p0\\localcache\\local-packages\\python311\\site-packages (from requests-ntlm>=1.1.0->qiskit-ibm-provider) (1.5.0)\n",
            "Requirement already satisfied: cryptography>=1.3 in c:\\users\\alaga\\appdata\\local\\packages\\pythonsoftwarefoundation.python.3.11_qbz5n2kfra8p0\\localcache\\local-packages\\python311\\site-packages (from requests-ntlm>=1.1.0->qiskit-ibm-provider) (39.0.2)\n",
            "Requirement already satisfied: cffi>=1.12 in c:\\users\\alaga\\appdata\\local\\packages\\pythonsoftwarefoundation.python.3.11_qbz5n2kfra8p0\\localcache\\local-packages\\python311\\site-packages (from cryptography>=1.3->requests-ntlm>=1.1.0->qiskit-ibm-provider) (1.15.1)\n",
            "Requirement already satisfied: pycparser in c:\\users\\alaga\\appdata\\local\\packages\\pythonsoftwarefoundation.python.3.11_qbz5n2kfra8p0\\localcache\\local-packages\\python311\\site-packages (from cffi>=1.12->cryptography>=1.3->requests-ntlm>=1.1.0->qiskit-ibm-provider) (2.21)\n",
            "Requirement already satisfied: pbr!=2.1.0,>=2.0.0 in c:\\users\\alaga\\appdata\\local\\packages\\pythonsoftwarefoundation.python.3.11_qbz5n2kfra8p0\\localcache\\local-packages\\python311\\site-packages (from stevedore>=3.0.0->qiskit-terra==0.45.0->qiskit>=0.44.1->qiskit-ibm-provider) (6.0.0)\n",
            "Requirement already satisfied: mpmath>=0.19 in c:\\users\\alaga\\appdata\\local\\packages\\pythonsoftwarefoundation.python.3.11_qbz5n2kfra8p0\\localcache\\local-packages\\python311\\site-packages (from sympy>=1.3->qiskit-terra==0.45.0->qiskit>=0.44.1->qiskit-ibm-provider) (1.3.0)\n"
          ]
        },
        {
          "name": "stderr",
          "output_type": "stream",
          "text": [
            "DEPRECATION: qiskit-nature 0.5.0 has a non-standard dependency specifier qiskit-terra>=0.22.*. pip 23.3 will enforce this behaviour change. A possible replacement is to upgrade to a newer version of qiskit-nature or contact the author to suggest that they release a version with a conforming dependency specifiers. Discussion can be found at https://github.com/pypa/pip/issues/12063\n",
            "\n",
            "[notice] A new release of pip is available: 23.2.1 -> 23.3.2\n",
            "[notice] To update, run: C:\\Users\\alaga\\AppData\\Local\\Microsoft\\WindowsApps\\PythonSoftwareFoundation.Python.3.11_qbz5n2kfra8p0\\python.exe -m pip install --upgrade pip\n"
          ]
        },
        {
          "name": "stdout",
          "output_type": "stream",
          "text": [
            "Requirement already satisfied: qiskit-aer in c:\\users\\alaga\\appdata\\local\\packages\\pythonsoftwarefoundation.python.3.11_qbz5n2kfra8p0\\localcache\\local-packages\\python311\\site-packages (0.13.0)\n",
            "Requirement already satisfied: qiskit>=0.44.0 in c:\\users\\alaga\\appdata\\local\\packages\\pythonsoftwarefoundation.python.3.11_qbz5n2kfra8p0\\localcache\\local-packages\\python311\\site-packages (from qiskit-aer) (0.45.0)\n",
            "Requirement already satisfied: numpy>=1.16.3 in c:\\users\\alaga\\appdata\\local\\packages\\pythonsoftwarefoundation.python.3.11_qbz5n2kfra8p0\\localcache\\local-packages\\python311\\site-packages (from qiskit-aer) (1.23.5)\n",
            "Requirement already satisfied: scipy>=1.0 in c:\\users\\alaga\\appdata\\local\\packages\\pythonsoftwarefoundation.python.3.11_qbz5n2kfra8p0\\localcache\\local-packages\\python311\\site-packages (from qiskit-aer) (1.10.1)\n",
            "Requirement already satisfied: qiskit-terra==0.45.0 in c:\\users\\alaga\\appdata\\local\\packages\\pythonsoftwarefoundation.python.3.11_qbz5n2kfra8p0\\localcache\\local-packages\\python311\\site-packages (from qiskit>=0.44.0->qiskit-aer) (0.45.0)\n",
            "Requirement already satisfied: rustworkx>=0.13.0 in c:\\users\\alaga\\appdata\\local\\packages\\pythonsoftwarefoundation.python.3.11_qbz5n2kfra8p0\\localcache\\local-packages\\python311\\site-packages (from qiskit-terra==0.45.0->qiskit>=0.44.0->qiskit-aer) (0.13.2)\n",
            "Requirement already satisfied: ply>=3.10 in c:\\users\\alaga\\appdata\\local\\packages\\pythonsoftwarefoundation.python.3.11_qbz5n2kfra8p0\\localcache\\local-packages\\python311\\site-packages (from qiskit-terra==0.45.0->qiskit>=0.44.0->qiskit-aer) (3.11)\n",
            "Requirement already satisfied: psutil>=5 in c:\\users\\alaga\\appdata\\local\\packages\\pythonsoftwarefoundation.python.3.11_qbz5n2kfra8p0\\localcache\\local-packages\\python311\\site-packages (from qiskit-terra==0.45.0->qiskit>=0.44.0->qiskit-aer) (5.9.4)\n",
            "Requirement already satisfied: sympy>=1.3 in c:\\users\\alaga\\appdata\\local\\packages\\pythonsoftwarefoundation.python.3.11_qbz5n2kfra8p0\\localcache\\local-packages\\python311\\site-packages (from qiskit-terra==0.45.0->qiskit>=0.44.0->qiskit-aer) (1.12)\n",
            "Requirement already satisfied: dill>=0.3 in c:\\users\\alaga\\appdata\\local\\packages\\pythonsoftwarefoundation.python.3.11_qbz5n2kfra8p0\\localcache\\local-packages\\python311\\site-packages (from qiskit-terra==0.45.0->qiskit>=0.44.0->qiskit-aer) (0.3.6)\n",
            "Requirement already satisfied: python-dateutil>=2.8.0 in c:\\users\\alaga\\appdata\\local\\packages\\pythonsoftwarefoundation.python.3.11_qbz5n2kfra8p0\\localcache\\local-packages\\python311\\site-packages (from qiskit-terra==0.45.0->qiskit>=0.44.0->qiskit-aer) (2.8.2)\n",
            "Requirement already satisfied: stevedore>=3.0.0 in c:\\users\\alaga\\appdata\\local\\packages\\pythonsoftwarefoundation.python.3.11_qbz5n2kfra8p0\\localcache\\local-packages\\python311\\site-packages (from qiskit-terra==0.45.0->qiskit>=0.44.0->qiskit-aer) (5.1.0)\n",
            "Requirement already satisfied: six>=1.5 in c:\\users\\alaga\\appdata\\local\\packages\\pythonsoftwarefoundation.python.3.11_qbz5n2kfra8p0\\localcache\\local-packages\\python311\\site-packages (from python-dateutil>=2.8.0->qiskit-terra==0.45.0->qiskit>=0.44.0->qiskit-aer) (1.16.0)\n",
            "Requirement already satisfied: pbr!=2.1.0,>=2.0.0 in c:\\users\\alaga\\appdata\\local\\packages\\pythonsoftwarefoundation.python.3.11_qbz5n2kfra8p0\\localcache\\local-packages\\python311\\site-packages (from stevedore>=3.0.0->qiskit-terra==0.45.0->qiskit>=0.44.0->qiskit-aer) (6.0.0)\n",
            "Requirement already satisfied: mpmath>=0.19 in c:\\users\\alaga\\appdata\\local\\packages\\pythonsoftwarefoundation.python.3.11_qbz5n2kfra8p0\\localcache\\local-packages\\python311\\site-packages (from sympy>=1.3->qiskit-terra==0.45.0->qiskit>=0.44.0->qiskit-aer) (1.3.0)\n"
          ]
        },
        {
          "name": "stderr",
          "output_type": "stream",
          "text": [
            "DEPRECATION: qiskit-nature 0.5.0 has a non-standard dependency specifier qiskit-terra>=0.22.*. pip 23.3 will enforce this behaviour change. A possible replacement is to upgrade to a newer version of qiskit-nature or contact the author to suggest that they release a version with a conforming dependency specifiers. Discussion can be found at https://github.com/pypa/pip/issues/12063\n",
            "\n",
            "[notice] A new release of pip is available: 23.2.1 -> 23.3.2\n",
            "[notice] To update, run: C:\\Users\\alaga\\AppData\\Local\\Microsoft\\WindowsApps\\PythonSoftwareFoundation.Python.3.11_qbz5n2kfra8p0\\python.exe -m pip install --upgrade pip\n"
          ]
        }
      ],
      "source": [
        "!pip install qiskit==0.45.0\n",
        "!pip install qiskit-optimization\n",
        "!pip install qiskit-ibm-provider\n",
        "!pip install qiskit-aer"
      ]
    },
    {
      "cell_type": "code",
      "execution_count": 2,
      "id": "iEUQ55d1ZnOJ",
      "metadata": {
        "colab": {
          "base_uri": "https://localhost:8080/"
        },
        "id": "iEUQ55d1ZnOJ",
        "outputId": "7adee28f-6e6d-4f70-bc21-21e08765989d"
      },
      "outputs": [
        {
          "name": "stdout",
          "output_type": "stream",
          "text": [
            "Requirement already satisfied: qiskit_algorithms in c:\\users\\alaga\\appdata\\local\\packages\\pythonsoftwarefoundation.python.3.11_qbz5n2kfra8p0\\localcache\\local-packages\\python311\\site-packages (0.2.1)\n",
            "Requirement already satisfied: qiskit-terra>=0.24 in c:\\users\\alaga\\appdata\\local\\packages\\pythonsoftwarefoundation.python.3.11_qbz5n2kfra8p0\\localcache\\local-packages\\python311\\site-packages (from qiskit_algorithms) (0.45.0)\n",
            "Requirement already satisfied: scipy>=1.4 in c:\\users\\alaga\\appdata\\local\\packages\\pythonsoftwarefoundation.python.3.11_qbz5n2kfra8p0\\localcache\\local-packages\\python311\\site-packages (from qiskit_algorithms) (1.10.1)\n",
            "Requirement already satisfied: numpy>=1.17 in c:\\users\\alaga\\appdata\\local\\packages\\pythonsoftwarefoundation.python.3.11_qbz5n2kfra8p0\\localcache\\local-packages\\python311\\site-packages (from qiskit_algorithms) (1.23.5)\n",
            "Requirement already satisfied: rustworkx>=0.13.0 in c:\\users\\alaga\\appdata\\local\\packages\\pythonsoftwarefoundation.python.3.11_qbz5n2kfra8p0\\localcache\\local-packages\\python311\\site-packages (from qiskit-terra>=0.24->qiskit_algorithms) (0.13.2)\n",
            "Requirement already satisfied: ply>=3.10 in c:\\users\\alaga\\appdata\\local\\packages\\pythonsoftwarefoundation.python.3.11_qbz5n2kfra8p0\\localcache\\local-packages\\python311\\site-packages (from qiskit-terra>=0.24->qiskit_algorithms) (3.11)\n",
            "Requirement already satisfied: psutil>=5 in c:\\users\\alaga\\appdata\\local\\packages\\pythonsoftwarefoundation.python.3.11_qbz5n2kfra8p0\\localcache\\local-packages\\python311\\site-packages (from qiskit-terra>=0.24->qiskit_algorithms) (5.9.4)\n",
            "Requirement already satisfied: sympy>=1.3 in c:\\users\\alaga\\appdata\\local\\packages\\pythonsoftwarefoundation.python.3.11_qbz5n2kfra8p0\\localcache\\local-packages\\python311\\site-packages (from qiskit-terra>=0.24->qiskit_algorithms) (1.12)\n",
            "Requirement already satisfied: dill>=0.3 in c:\\users\\alaga\\appdata\\local\\packages\\pythonsoftwarefoundation.python.3.11_qbz5n2kfra8p0\\localcache\\local-packages\\python311\\site-packages (from qiskit-terra>=0.24->qiskit_algorithms) (0.3.6)\n",
            "Requirement already satisfied: python-dateutil>=2.8.0 in c:\\users\\alaga\\appdata\\local\\packages\\pythonsoftwarefoundation.python.3.11_qbz5n2kfra8p0\\localcache\\local-packages\\python311\\site-packages (from qiskit-terra>=0.24->qiskit_algorithms) (2.8.2)\n",
            "Requirement already satisfied: stevedore>=3.0.0 in c:\\users\\alaga\\appdata\\local\\packages\\pythonsoftwarefoundation.python.3.11_qbz5n2kfra8p0\\localcache\\local-packages\\python311\\site-packages (from qiskit-terra>=0.24->qiskit_algorithms) (5.1.0)\n",
            "Requirement already satisfied: six>=1.5 in c:\\users\\alaga\\appdata\\local\\packages\\pythonsoftwarefoundation.python.3.11_qbz5n2kfra8p0\\localcache\\local-packages\\python311\\site-packages (from python-dateutil>=2.8.0->qiskit-terra>=0.24->qiskit_algorithms) (1.16.0)\n",
            "Requirement already satisfied: pbr!=2.1.0,>=2.0.0 in c:\\users\\alaga\\appdata\\local\\packages\\pythonsoftwarefoundation.python.3.11_qbz5n2kfra8p0\\localcache\\local-packages\\python311\\site-packages (from stevedore>=3.0.0->qiskit-terra>=0.24->qiskit_algorithms) (6.0.0)\n",
            "Requirement already satisfied: mpmath>=0.19 in c:\\users\\alaga\\appdata\\local\\packages\\pythonsoftwarefoundation.python.3.11_qbz5n2kfra8p0\\localcache\\local-packages\\python311\\site-packages (from sympy>=1.3->qiskit-terra>=0.24->qiskit_algorithms) (1.3.0)\n"
          ]
        },
        {
          "name": "stderr",
          "output_type": "stream",
          "text": [
            "DEPRECATION: qiskit-nature 0.5.0 has a non-standard dependency specifier qiskit-terra>=0.22.*. pip 23.3 will enforce this behaviour change. A possible replacement is to upgrade to a newer version of qiskit-nature or contact the author to suggest that they release a version with a conforming dependency specifiers. Discussion can be found at https://github.com/pypa/pip/issues/12063\n",
            "\n",
            "[notice] A new release of pip is available: 23.2.1 -> 23.3.2\n",
            "[notice] To update, run: C:\\Users\\alaga\\AppData\\Local\\Microsoft\\WindowsApps\\PythonSoftwareFoundation.Python.3.11_qbz5n2kfra8p0\\python.exe -m pip install --upgrade pip\n"
          ]
        }
      ],
      "source": [
        "!pip install qiskit_algorithms"
      ]
    },
    {
      "cell_type": "markdown",
      "id": "1913d893",
      "metadata": {
        "id": "1913d893"
      },
      "source": [
        "# WARNING! This notebook is using old implementation of QAOA\n",
        "from module `qiskit.algorithms` which is deprecated. New implementation is currently in `qiskit.algorithms.minimum_eigensolvers` (https://qiskit.org/documentation/stubs/qiskit.algorithms.minimum_eigensolvers.QAOA.html)."
      ]
    },
    {
      "cell_type": "code",
      "execution_count": 3,
      "id": "7be836cc",
      "metadata": {
        "id": "7be836cc"
      },
      "outputs": [],
      "source": [
        "import numpy as np\n",
        "import networkx as nx  # tool to handle general Graphs\n",
        "\n",
        "from mpl_toolkits.mplot3d import Axes3D\n",
        "import matplotlib.pyplot as plt\n",
        "from matplotlib import cm\n",
        "from matplotlib.ticker import LinearLocator, FormatStrFormatter\n",
        "\n",
        "from qiskit import (\n",
        "    BasicAer,\n",
        "    IBMQ,\n",
        "    execute,\n",
        "    QuantumRegister,\n",
        "    ClassicalRegister,\n",
        "    QuantumCircuit,\n",
        "    transpile,\n",
        "    assemble,\n",
        ")\n",
        "from qiskit_ibm_provider import least_busy\n",
        "from qiskit.tools.monitor import job_monitor\n",
        "from qiskit.visualization import plot_histogram\n",
        "\n",
        "from qiskit.utils.algorithm_globals import algorithm_globals\n",
        "from qiskit.utils import QuantumInstance\n",
        "from qiskit_optimization.algorithms import MinimumEigenOptimizer, CobylaOptimizer\n",
        "from qiskit_algorithms.optimizers import SPSA, COBYLA\n",
        "from qiskit_algorithms import QAOA\n",
        "# from qiskit.algorithms.minimum_eigensolvers import QAOA"
      ]
    },
    {
      "cell_type": "markdown",
      "id": "f80eedc5",
      "metadata": {
        "id": "f80eedc5"
      },
      "source": [
        "### We start by defining quadratic program:"
      ]
    },
    {
      "cell_type": "code",
      "execution_count": 4,
      "id": "60763743",
      "metadata": {
        "id": "60763743"
      },
      "outputs": [],
      "source": [
        "from qiskit_optimization import QuadraticProgram"
      ]
    },
    {
      "cell_type": "code",
      "execution_count": 5,
      "id": "c98a0f65",
      "metadata": {
        "colab": {
          "base_uri": "https://localhost:8080/"
        },
        "id": "c98a0f65",
        "outputId": "4959c773-777e-47f1-fcc4-4b16c0862526"
      },
      "outputs": [
        {
          "name": "stdout",
          "output_type": "stream",
          "text": [
            "\\ This file has been generated by DOcplex\n",
            "\\ ENCODING=ISO-8859-1\n",
            "\\Problem name: CPLEX\n",
            "\n",
            "Maximize\n",
            " obj: 2 x + y + z\n",
            "Subject To\n",
            " xyz_leq: x + y + z <= 5.500000000000\n",
            " xyz_geq: x + y + z >= 2.500000000000\n",
            "\n",
            "Bounds\n",
            " 0 <= x <= 1\n",
            " 0 <= y <= 1\n",
            " 0 <= z <= 1\n",
            "\n",
            "Binaries\n",
            " x y z\n",
            "End\n",
            "\n"
          ]
        }
      ],
      "source": [
        "qp = QuadraticProgram()\n",
        "qp.binary_var(\"x\")\n",
        "qp.binary_var(\"y\")\n",
        "qp.binary_var(\"z\")\n",
        "\n",
        "qp.maximize(linear={\"x\": 2, \"y\": 1, \"z\": 1})\n",
        "qp.linear_constraint(\n",
        "    linear={\"x\": 1, \"y\": 1, \"z\": 1}, sense=\"LE\", rhs=5.5, name=\"xyz_leq\"\n",
        ")\n",
        "qp.linear_constraint(\n",
        "    linear={\"x\": 1, \"y\": 1, \"z\": 1}, sense=\"GE\", rhs=2.5, name=\"xyz_geq\"\n",
        ")\n",
        "print(qp.export_as_lp_string())"
      ]
    },
    {
      "cell_type": "markdown",
      "id": "28fafeb9",
      "metadata": {
        "id": "28fafeb9"
      },
      "source": [
        "### Solving - exactly:"
      ]
    },
    {
      "cell_type": "code",
      "execution_count": 6,
      "id": "b1a2857f",
      "metadata": {
        "colab": {
          "base_uri": "https://localhost:8080/"
        },
        "id": "b1a2857f",
        "outputId": "38481b6b-3cbe-418e-e09c-c210ef08b28e"
      },
      "outputs": [
        {
          "name": "stderr",
          "output_type": "stream",
          "text": [
            "Warning: Using 100000.000000 for the penalty coefficient because a float coefficient exists in constraints. \n",
            "The value could be too small. If so, set the penalty coefficient manually.\n"
          ]
        },
        {
          "name": "stdout",
          "output_type": "stream",
          "text": [
            "fval=4.0, x=1.0, y=1.0, z=1.0, status=SUCCESS\n"
          ]
        }
      ],
      "source": [
        "from qiskit_algorithms.minimum_eigensolvers import NumPyMinimumEigensolver\n",
        "\n",
        "exact_mes = NumPyMinimumEigensolver()\n",
        "exact = MinimumEigenOptimizer(\n",
        "    exact_mes\n",
        ")  # using the exact classical numpy minimum eigen solver\n",
        "exact_result = exact.solve(qp)\n",
        "print(exact_result)"
      ]
    },
    {
      "cell_type": "markdown",
      "id": "034514ce",
      "metadata": {
        "id": "034514ce"
      },
      "source": [
        "### Solving with QAOA"
      ]
    },
    {
      "cell_type": "code",
      "execution_count": 7,
      "id": "31608f48",
      "metadata": {
        "id": "31608f48"
      },
      "outputs": [],
      "source": [
        "counts = []\n",
        "values = []"
      ]
    },
    {
      "cell_type": "code",
      "execution_count": 8,
      "id": "cbac3687",
      "metadata": {
        "id": "cbac3687"
      },
      "outputs": [],
      "source": [
        "def store_intermediate_result(eval_count, parameters, mean, std):\n",
        "    counts.append(eval_count)\n",
        "    values.append(mean)"
      ]
    },
    {
      "cell_type": "code",
      "execution_count": 9,
      "id": "81a9a753",
      "metadata": {
        "colab": {
          "base_uri": "https://localhost:8080/"
        },
        "id": "81a9a753",
        "outputId": "1ada757f-667c-465a-804d-af642097ba36"
      },
      "outputs": [
        {
          "name": "stderr",
          "output_type": "stream",
          "text": [
            "Warning: Using 100000.000000 for the penalty coefficient because a float coefficient exists in constraints. \n",
            "The value could be too small. If so, set the penalty coefficient manually.\n"
          ]
        },
        {
          "name": "stdout",
          "output_type": "stream",
          "text": [
            "fval=4.0, x=1.0, y=1.0, z=1.0, status=SUCCESS\n"
          ]
        }
      ],
      "source": [
        "from qiskit_aer import AerSimulator\n",
        "\n",
        "backend = AerSimulator(method=\"statevector\")\n",
        "from qiskit.primitives import Sampler\n",
        "\n",
        "optimizer = COBYLA()\n",
        "# optimizer = SPSA()\n",
        "\n",
        "qaoa_mes = QAOA(\n",
        "    optimizer=optimizer, sampler=Sampler(), reps=2, callback=store_intermediate_result\n",
        ")\n",
        "\n",
        "qaoa = MinimumEigenOptimizer(qaoa_mes)\n",
        "qaoa_result = qaoa.solve(qp)\n",
        "\n",
        "print(qaoa_result)"
      ]
    },
    {
      "cell_type": "code",
      "execution_count": 10,
      "id": "8eb996c3",
      "metadata": {
        "colab": {
          "base_uri": "https://localhost:8080/",
          "height": 483
        },
        "id": "8eb996c3",
        "outputId": "6c77d7f5-28bb-4029-cadb-e2b7749bcf53"
      },
      "outputs": [
        {
          "name": "stderr",
          "output_type": "stream",
          "text": [
            "C:\\Users\\alaga\\AppData\\Local\\Packages\\PythonSoftwareFoundation.Python.3.11_qbz5n2kfra8p0\\LocalCache\\local-packages\\Python311\\site-packages\\matplotlib\\cbook\\__init__.py:1369: ComplexWarning: Casting complex values to real discards the imaginary part\n",
            "  return np.asarray(x, float)\n"
          ]
        },
        {
          "data": {
            "text/plain": [
              "[<matplotlib.lines.Line2D at 0x1c79be298d0>]"
            ]
          },
          "execution_count": 10,
          "metadata": {},
          "output_type": "execute_result"
        },
        {
          "data": {
            "image/png": "[encoded data removed]",
            "text/plain": [
              "<Figure size 640x480 with 1 Axes>"
            ]
          },
          "metadata": {},
          "output_type": "display_data"
        }
      ],
      "source": [
        "plt.plot(counts, values)"
      ]
    },
    {
      "cell_type": "code",
      "execution_count": 11,
      "id": "4e870a94",
      "metadata": {
        "colab": {
          "base_uri": "https://localhost:8080/"
        },
        "id": "4e870a94",
        "outputId": "2ba93a7d-deea-45dc-f914-8e1197689e25"
      },
      "outputs": [
        {
          "data": {
            "text/plain": [
              "['x', 'y', 'z']"
            ]
          },
          "execution_count": 11,
          "metadata": {},
          "output_type": "execute_result"
        }
      ],
      "source": [
        "[var.name for var in qaoa_result.variables]"
      ]
    },
    {
      "cell_type": "code",
      "execution_count": 12,
      "id": "d8d3526f",
      "metadata": {
        "colab": {
          "base_uri": "https://localhost:8080/"
        },
        "id": "d8d3526f",
        "outputId": "d7d9864b-ee45-4e3c-ffc2-d52e2ac59960"
      },
      "outputs": [
        {
          "name": "stdout",
          "output_type": "stream",
          "text": [
            "[1. 1. 1.]\n"
          ]
        }
      ],
      "source": [
        "print(qaoa_result.x)"
      ]
    },
    {
      "cell_type": "code",
      "execution_count": 13,
      "id": "18778963",
      "metadata": {
        "colab": {
          "base_uri": "https://localhost:8080/"
        },
        "id": "18778963",
        "outputId": "2dda9a8b-9888-44d1-b3b2-129923d7c433"
      },
      "outputs": [
        {
          "name": "stdout",
          "output_type": "stream",
          "text": [
            "4.0\n"
          ]
        }
      ],
      "source": [
        "print(qaoa_result.fval)"
      ]
    },
    {
      "cell_type": "code",
      "execution_count": 14,
      "id": "4871b8c4",
      "metadata": {
        "colab": {
          "base_uri": "https://localhost:8080/"
        },
        "id": "4871b8c4",
        "outputId": "fa4d9d58-8d13-4667-b689-29ba3aebb29c"
      },
      "outputs": [
        {
          "name": "stdout",
          "output_type": "stream",
          "text": [
            "OptimizationResultStatus.SUCCESS\n"
          ]
        }
      ],
      "source": [
        "print(qaoa_result.status)"
      ]
    },
    {
      "cell_type": "code",
      "execution_count": 15,
      "id": "4ea069c8",
      "metadata": {
        "colab": {
          "base_uri": "https://localhost:8080/"
        },
        "id": "4ea069c8",
        "outputId": "ac900d2a-75d7-4a9e-ec96-d7879053ecf2"
      },
      "outputs": [
        {
          "name": "stdout",
          "output_type": "stream",
          "text": [
            "{   'aux_operators_evaluated': None,\n",
            "    'best_measurement': {   'bitstring': '010111',\n",
            "                            'probability': 0.0391952408489669,\n",
            "                            'state': 23,\n",
            "                            'value': (-37+0j)},\n",
            "    'cost_function_evals': 1000,\n",
            "    'eigenstate': {0: 0.002148813811763, 1: 0.00089875633872, 2: 8.1691057059e-05, 3: 0.004570215232198, 4: 8.1691057059e-05, 5: 0.004570215232198, 6: 0.005998248034342, 7: 0.001165311308615, 8: 0.001560909117717, 9: 0.020345189487534, 10: 0.004332064714905, 11: 0.00278756787329, 12: 0.004332064714905, 13: 0.00278756787329, 14: 0.011068347730336, 15: 0.011398833859855, 16: 0.001730300032505, 17: 0.002972970335101, 18: 0.013616917296431, 19: 0.025477768305611, 20: 0.013616917296431, 21: 0.025477768305611, 22: 0.00817423882174, 23: 0.039157016830562, 24: 0.013987192177445, 25: 0.019428953778782, 26: 0.010061194636544, 27: 0.021168339453047, 28: 0.010061194636544, 29: 0.021168339453047, 30: 0.061282129320636, 31: 0.002961272911383, 32: 0.001730300032505, 33: 0.002972970335101, 34: 0.013616917296431, 35: 0.025477768305611, 36: 0.013616917296431, 37: 0.025477768305611, 38: 0.00817423882174, 39: 0.039157016830562, 40: 0.013987192177445, 41: 0.019428953778782, 42: 0.010061194636544, 43: 0.021168339453047, 44: 0.010061194636544, 45: 0.021168339453047, 46: 0.061282129320636, 47: 0.002961272911383, 48: 0.014139420230341, 49: 0.050847973678389, 50: 0.051096283909128, 51: 0.005763099089823, 52: 0.051096283909128, 53: 0.005763099089823, 54: 0.057291606060622, 55: 0.00064098432018, 56: 0.063775637430739, 57: 0.003779107851346, 58: 0.00162647715179, 59: 0.003106788107798, 60: 0.00162647715179, 61: 0.003106788107798, 62: 0.012974637725561, 63: 0.014552821559116},\n",
            "    'eigenvalue': -13.781006868337206,\n",
            "    'optimal_circuit': <qiskit.circuit.quantumcircuit.QuantumCircuit object at 0x000001C79BB16D90>,\n",
            "    'optimal_parameters': {   ParameterVectorElement(γ[1]): 5.231369256753765,\n",
            "                              ParameterVectorElement(γ[0]): -2.848716708365202,\n",
            "                              ParameterVectorElement(β[1]): 3.3365890620825205,\n",
            "                              ParameterVectorElement(β[0]): -2.7150243126796365},\n",
            "    'optimal_point': array([-2.71502431,  3.33658906, -2.84871671,  5.23136926]),\n",
            "    'optimal_value': -13.781006868337206,\n",
            "    'optimizer_evals': None,\n",
            "    'optimizer_result': <qiskit_algorithms.optimizers.optimizer.OptimizerResult object at 0x000001C79A72C610>,\n",
            "    'optimizer_time': 77.15424847602844}\n"
          ]
        }
      ],
      "source": [
        "print(qaoa_result.min_eigen_solver_result)"
      ]
    },
    {
      "cell_type": "code",
      "execution_count": 16,
      "id": "71ec14f0",
      "metadata": {
        "colab": {
          "base_uri": "https://localhost:8080/"
        },
        "id": "71ec14f0",
        "outputId": "2117e13d-ee13-4e36-c124-154a613f5475"
      },
      "outputs": [
        {
          "name": "stdout",
          "output_type": "stream",
          "text": [
            "[1. 1. 1.] 4.0 0.11199453053165581\n",
            "[1. 1. 0.] 3.0 0.10951988582042539\n",
            "[1. 0. 1.] 3.0 0.10951988582042539\n",
            "[0. 1. 1.] 2.0 0.22624557583561128\n",
            "[1. 0. 0.] 2.0 0.12067487558375438\n",
            "[0. 1. 0.] 1.0 0.1044927406988336\n",
            "[0. 0. 1.] 1.0 0.1044927406988337\n",
            "[0. 0. 0.] 0.0 0.11305976501046008\n"
          ]
        }
      ],
      "source": [
        "for s in qaoa_result.samples:\n",
        "    print(s.x, s.fval, s.probability)"
      ]
    },
    {
      "cell_type": "markdown",
      "id": "7c8fe13c",
      "metadata": {
        "id": "7c8fe13c"
      },
      "source": [
        "## Exercise: MAXCUT"
      ]
    },
    {
      "cell_type": "code",
      "execution_count": 27,
      "id": "974d5ef4",
      "metadata": {},
      "outputs": [
        {
          "data": {
            "image/png": "[encoded data removed]",
            "text/plain": [
              "<Figure size 640x480 with 1 Axes>"
            ]
          },
          "metadata": {},
          "output_type": "display_data"
        }
      ],
      "source": [
        "from qiskit_optimization import QuadraticProgram\n",
        "from qiskit_optimization.applications.max_cut import Maxcut\n",
        "\n",
        "G = nx.Graph()\n",
        "G.add_nodes_from([0, 1, 2, 3, 4])\n",
        "G.add_edges_from(\n",
        "    [\n",
        "        (0, 1, {\"weight\": 1}),\n",
        "        (0, 2, {\"weight\": 1}),\n",
        "        (0, 3, {\"weight\": 1}),\n",
        "        (0, 4, {\"weight\": 1}),\n",
        "        (1, 4, {\"weight\": 1}),\n",
        "        (2, 3, {\"weight\": 1}),\n",
        "        (3, 4, {\"weight\": 1}),\n",
        "    ]\n",
        ")\n",
        "\n",
        "colors = [\"r\" for node in G.nodes()]\n",
        "pos = nx.spring_layout(G)\n",
        "\n",
        "\n",
        "def draw_graph(G, colors, pos):\n",
        "    default_axes = plt.axes(frameon=True)\n",
        "    nx.draw_networkx(\n",
        "        G, node_color=colors, node_size=600, alpha=0.8, ax=default_axes, pos=pos\n",
        "    )\n",
        "    edge_labels = nx.get_edge_attributes(G, \"weight\")\n",
        "    nx.draw_networkx_edge_labels(G, pos=pos, edge_labels=edge_labels)\n",
        "\n",
        "\n",
        "draw_graph(G, colors, pos)"
      ]
    },
    {
      "cell_type": "code",
      "execution_count": 28,
      "id": "3efd384d",
      "metadata": {},
      "outputs": [
        {
          "name": "stdout",
          "output_type": "stream",
          "text": [
            "Problem name: Max-cut\n",
            "\n",
            "Maximize\n",
            "  -2*x_0*x_1 - 2*x_0*x_2 - 2*x_0*x_3 - 2*x_0*x_4 - 2*x_1*x_4 - 2*x_2*x_3\n",
            "  - 2*x_3*x_4 + 4*x_0 + 2*x_1 + 2*x_2 + 3*x_3 + 3*x_4\n",
            "\n",
            "Subject to\n",
            "  No constraints\n",
            "\n",
            "  Binary variables (5)\n",
            "    x_0 x_1 x_2 x_3 x_4\n",
            "\n"
          ]
        }
      ],
      "source": [
        "vr = Maxcut(G)\n",
        "qp: QuadraticProgram = vr.to_quadratic_program()\n",
        "print(qp.prettyprint())"
      ]
    },
    {
      "cell_type": "code",
      "execution_count": 22,
      "id": "64918f11",
      "metadata": {},
      "outputs": [],
      "source": [
        "counts = []\n",
        "values = []"
      ]
    },
    {
      "cell_type": "code",
      "execution_count": 23,
      "id": "281f1e5f",
      "metadata": {},
      "outputs": [],
      "source": [
        "def store_intermediate_result(eval_count, parameters, mean, std):\n",
        "    counts.append(eval_count)\n",
        "    values.append(mean)"
      ]
    },
    {
      "cell_type": "code",
      "execution_count": 24,
      "id": "dacd4312",
      "metadata": {},
      "outputs": [
        {
          "name": "stdout",
          "output_type": "stream",
          "text": [
            "fval=5.0, x_0=1.0, x_1=0.0, x_2=0.0, x_3=1.0, x_4=0.0, status=SUCCESS\n"
          ]
        }
      ],
      "source": [
        "from qiskit_aer import AerSimulator\n",
        "\n",
        "backend = AerSimulator(method=\"statevector\")\n",
        "from qiskit.primitives import Sampler\n",
        "\n",
        "optimizer = COBYLA()\n",
        "# optimizer = SPSA()\n",
        "\n",
        "qaoa_mes = QAOA(\n",
        "    optimizer=optimizer, sampler=Sampler(), reps=2, callback=store_intermediate_result\n",
        ")\n",
        "\n",
        "qaoa = MinimumEigenOptimizer(qaoa_mes)\n",
        "qaoa_result = qaoa.solve(qp)\n",
        "\n",
        "print(qaoa_result)"
      ]
    },
    {
      "cell_type": "code",
      "execution_count": 25,
      "id": "cac3ace6",
      "metadata": {},
      "outputs": [
        {
          "name": "stderr",
          "output_type": "stream",
          "text": [
            "C:\\Users\\alaga\\AppData\\Local\\Packages\\PythonSoftwareFoundation.Python.3.11_qbz5n2kfra8p0\\LocalCache\\local-packages\\Python311\\site-packages\\matplotlib\\cbook\\__init__.py:1369: ComplexWarning: Casting complex values to real discards the imaginary part\n",
            "  return np.asarray(x, float)\n"
          ]
        },
        {
          "data": {
            "text/plain": [
              "[<matplotlib.lines.Line2D at 0x1c79cde2a10>]"
            ]
          },
          "execution_count": 25,
          "metadata": {},
          "output_type": "execute_result"
        },
        {
          "data": {
            "image/png": "[encoded data removed]",
            "text/plain": [
              "<Figure size 640x480 with 1 Axes>"
            ]
          },
          "metadata": {},
          "output_type": "display_data"
        }
      ],
      "source": [
        "plt.plot(counts, values)"
      ]
    },
    {
      "cell_type": "code",
      "execution_count": 26,
      "id": "0ed77a2d",
      "metadata": {},
      "outputs": [
        {
          "name": "stdout",
          "output_type": "stream",
          "text": [
            "[1. 0. 0. 1. 0.]\n",
            "5.0\n",
            "OptimizationResultStatus.SUCCESS\n",
            "{   'aux_operators_evaluated': None,\n",
            "    'best_measurement': {   'bitstring': '01001',\n",
            "                            'probability': 0.0364352856911234,\n",
            "                            'state': 9,\n",
            "                            'value': (-1.5+0j)},\n",
            "    'cost_function_evals': 102,\n",
            "    'eigenstate': {0: 0.000286803071699, 1: 0.083448989548997, 2: 0.005437116193333, 3: 0.034328002963388, 4: 0.005437116193333, 5: 0.034328002963388, 6: 0.146479214449532, 7: 0.014573593714448, 8: 0.004107016913449, 9: 0.033811020964649, 10: 0.031072160136335, 11: 0.031072160136335, 12: 0.018850382436507, 13: 0.018850382436507, 14: 0.033811020964649, 15: 0.004107016913449, 16: 0.004107016913449, 17: 0.033811020964649, 18: 0.018850382436507, 19: 0.018850382436507, 20: 0.031072160136335, 21: 0.031072160136335, 22: 0.033811020964649, 23: 0.004107016913449, 24: 0.014573593714448, 25: 0.146479214449532, 26: 0.034328002963388, 27: 0.005437116193333, 28: 0.034328002963388, 29: 0.005437116193333, 30: 0.083448989548997, 31: 0.000286803071699},\n",
            "    'eigenvalue': -0.6219117728838505,\n",
            "    'optimal_circuit': <qiskit.circuit.quantumcircuit.QuantumCircuit object at 0x000001C79CDC5F10>,\n",
            "    'optimal_parameters': {   ParameterVectorElement(γ[0]): -2.2959421463324268,\n",
            "                              ParameterVectorElement(γ[1]): 5.092441783434931,\n",
            "                              ParameterVectorElement(β[1]): 1.9376334663431292,\n",
            "                              ParameterVectorElement(β[0]): -3.5278331200128736},\n",
            "    'optimal_point': array([-3.52783312,  1.93763347, -2.29594215,  5.09244178]),\n",
            "    'optimal_value': -0.6219117728838505,\n",
            "    'optimizer_evals': None,\n",
            "    'optimizer_result': <qiskit_algorithms.optimizers.optimizer.OptimizerResult object at 0x000001C79BC33AD0>,\n",
            "    'optimizer_time': 4.756348133087158}\n",
            "[1. 0. 0. 1. 0.] 5.0 0.0338110209646491\n",
            "[0. 1. 0. 1. 0.] 5.0 0.0310721601363349\n",
            "[1. 1. 0. 1. 0.] 5.0 0.0310721601363349\n",
            "[0. 1. 1. 1. 0.] 5.0 0.0338110209646491\n",
            "[1. 0. 0. 0. 1.] 5.0 0.0338110209646491\n",
            "[0. 0. 1. 0. 1.] 5.0 0.0310721601363349\n",
            "[1. 0. 1. 0. 1.] 5.0 0.0310721601363349\n",
            "[0. 1. 1. 0. 1.] 5.0 0.0338110209646491\n",
            "[1. 0. 0. 0. 0.] 4.0 0.0834489895489972\n",
            "[1. 1. 0. 0. 0.] 4.0 0.0343280029633878\n",
            "[1. 0. 1. 0. 0.] 4.0 0.0343280029633878\n",
            "[0. 1. 1. 0. 0.] 4.0 0.1464792144495325\n",
            "[1. 1. 1. 0. 0.] 4.0 0.0145735937144484\n",
            "[0. 0. 0. 1. 1.] 4.0 0.0145735937144484\n",
            "[1. 0. 0. 1. 1.] 4.0 0.1464792144495325\n",
            "[0. 1. 0. 1. 1.] 4.0 0.0343280029633878\n",
            "[0. 0. 1. 1. 1.] 4.0 0.0343280029633878\n",
            "[0. 1. 1. 1. 1.] 4.0 0.0834489895489972\n",
            "[0. 0. 0. 1. 0.] 3.0 0.0041070169134493\n",
            "[0. 0. 1. 1. 0.] 3.0 0.0188503824365069\n",
            "[1. 0. 1. 1. 0.] 3.0 0.0188503824365069\n",
            "[1. 1. 1. 1. 0.] 3.0 0.0041070169134493\n",
            "[0. 0. 0. 0. 1.] 3.0 0.0041070169134493\n",
            "[0. 1. 0. 0. 1.] 3.0 0.0188503824365069\n",
            "[1. 1. 0. 0. 1.] 3.0 0.0188503824365069\n",
            "[1. 1. 1. 0. 1.] 3.0 0.0041070169134493\n",
            "[0. 1. 0. 0. 0.] 2.0 0.0054371161933334\n",
            "[0. 0. 1. 0. 0.] 2.0 0.0054371161933334\n",
            "[1. 1. 0. 1. 1.] 2.0 0.0054371161933334\n",
            "[1. 0. 1. 1. 1.] 2.0 0.0054371161933334\n",
            "[0. 0. 0. 0. 0.] 0.0 0.0002868030716992\n",
            "[1. 1. 1. 1. 1.] 0.0 0.0002868030716992\n"
          ]
        }
      ],
      "source": [
        "# [var.name for var in qaoa_result.variables]\n",
        "print(qaoa_result.x)\n",
        "print(qaoa_result.fval)\n",
        "print(qaoa_result.status)\n",
        "print(qaoa_result.min_eigen_solver_result)\n",
        "for s in qaoa_result.samples:\n",
        "    print(s.x, s.fval, s.probability)"
      ]
    },
    {
      "cell_type": "markdown",
      "id": "3b68251e",
      "metadata": {},
      "source": [
        "# Find closer distance to one of the points"
      ]
    },
    {
      "cell_type": "code",
      "execution_count": 46,
      "id": "946ce309",
      "metadata": {},
      "outputs": [
        {
          "name": "stdout",
          "output_type": "stream",
          "text": [
            "\\ This file has been generated by DOcplex\n",
            "\\ ENCODING=ISO-8859-1\n",
            "\\Problem name: CPLEX\n",
            "\n",
            "Minimize\n",
            " obj: 3.162277660168 a + 3.605551275464 b\n",
            "Subject To\n",
            " ab_eq: a + b = 1\n",
            "\n",
            "Bounds\n",
            " 0 <= a <= 1\n",
            " 0 <= b <= 1\n",
            "\n",
            "Binaries\n",
            " a b\n",
            "End\n",
            "\n"
          ]
        }
      ],
      "source": [
        "# from qiskit_optimization.applications.vehicle_routing import VehicleRouting\n",
        "\n",
        "# G = nx.Graph()\n",
        "# G.add_nodes_from([0, 1, 2])\n",
        "# G.add_edges_from(\n",
        "#     [\n",
        "#         (0, 1, {\"weight\": 0.1}),\n",
        "#         (0, 2, {\"weight\": 0.9}),\n",
        "#     ]\n",
        "# )\n",
        "\n",
        "# vr = VehicleRouting(graph=G, num_vehicles=1, depot=0)\n",
        "# qp: QuadraticProgram = vr.to_quadratic_program()\n",
        "# print(qp.prettyprint())\n",
        "\n",
        "##########################\n",
        "\n",
        "A = [1, 3]\n",
        "B = [4, 9]\n",
        "P = [2, 6]\n",
        "\n",
        "\n",
        "def dist(a, b):\n",
        "    return np.sqrt((a[0] - b[0]) ** 2 + (a[1] - b[1]) ** 2)\n",
        "\n",
        "\n",
        "qp = QuadraticProgram()\n",
        "qp.binary_var(\"a\")\n",
        "qp.binary_var(\"b\")\n",
        "qp.continuous_var(\"x\")\n",
        "\n",
        "\n",
        "qp.minimize(linear={\"a\": dist(A, P), \"b\": dist(B, P)})\n",
        "qp.linear_constraint(linear={\"a\": 1, \"b\": 1}, sense=\"E\", rhs=1, name=\"ab_eq\")\n",
        "print(qp.export_as_lp_string())"
      ]
    },
    {
      "cell_type": "code",
      "execution_count": 47,
      "id": "d8d8a712",
      "metadata": {},
      "outputs": [],
      "source": [
        "counts = []\n",
        "values = []"
      ]
    },
    {
      "cell_type": "code",
      "execution_count": 48,
      "id": "0174d07e",
      "metadata": {},
      "outputs": [],
      "source": [
        "def store_intermediate_result(eval_count, parameters, mean, std):\n",
        "    counts.append(eval_count)\n",
        "    values.append(mean)"
      ]
    },
    {
      "cell_type": "code",
      "execution_count": 49,
      "id": "6317adb1",
      "metadata": {},
      "outputs": [
        {
          "name": "stdout",
          "output_type": "stream",
          "text": [
            "fval=3.1622776601683795, a=1.0, b=0.0, status=SUCCESS\n"
          ]
        }
      ],
      "source": [
        "from qiskit_aer import AerSimulator\n",
        "\n",
        "backend = AerSimulator(method=\"statevector\")\n",
        "from qiskit.primitives import Sampler\n",
        "\n",
        "optimizer = COBYLA()\n",
        "# optimizer = SPSA()\n",
        "\n",
        "qaoa_mes = QAOA(\n",
        "    optimizer=optimizer, sampler=Sampler(), reps=2, callback=store_intermediate_result\n",
        ")\n",
        "\n",
        "qaoa = MinimumEigenOptimizer(qaoa_mes)\n",
        "qaoa_result = qaoa.solve(qp)\n",
        "\n",
        "print(qaoa_result)"
      ]
    },
    {
      "cell_type": "code",
      "execution_count": 50,
      "id": "e2c7d156",
      "metadata": {},
      "outputs": [
        {
          "name": "stderr",
          "output_type": "stream",
          "text": [
            "C:\\Users\\alaga\\AppData\\Local\\Packages\\PythonSoftwareFoundation.Python.3.11_qbz5n2kfra8p0\\LocalCache\\local-packages\\Python311\\site-packages\\matplotlib\\cbook\\__init__.py:1369: ComplexWarning: Casting complex values to real discards the imaginary part\n",
            "  return np.asarray(x, float)\n"
          ]
        },
        {
          "data": {
            "text/plain": [
              "[<matplotlib.lines.Line2D at 0x1c79e5fcb90>]"
            ]
          },
          "execution_count": 50,
          "metadata": {},
          "output_type": "execute_result"
        },
        {
          "data": {
            "image/png": "[encoded data removed]",
            "text/plain": [
              "<Figure size 640x480 with 1 Axes>"
            ]
          },
          "metadata": {},
          "output_type": "display_data"
        }
      ],
      "source": [
        "plt.plot(counts, values)"
      ]
    },
    {
      "cell_type": "code",
      "execution_count": 51,
      "id": "12585cc2",
      "metadata": {},
      "outputs": [
        {
          "name": "stdout",
          "output_type": "stream",
          "text": [
            "[1. 0.]\n",
            "3.1622776601683795\n",
            "OptimizationResultStatus.SUCCESS\n",
            "{   'aux_operators_evaluated': None,\n",
            "    'best_measurement': {   'bitstring': '01',\n",
            "                            'probability': 0.8997295012057666,\n",
            "                            'state': 1,\n",
            "                            'value': (-4.105551275463989+0j)},\n",
            "    'cost_function_evals': 326,\n",
            "    'eigenstate': {0: 0.006777592663401, 1: 0.688238390630932, 2: 0.304366493688909, 3: 0.000617523016757},\n",
            "    'eigenvalue': -3.9323957648374677,\n",
            "    'optimal_circuit': <qiskit.circuit.quantumcircuit.QuantumCircuit object at 0x000001C79CE6A3D0>,\n",
            "    'optimal_parameters': {   ParameterVectorElement(β[1]): 5.403478886170408,\n",
            "                              ParameterVectorElement(β[0]): 6.446335573165146,\n",
            "                              ParameterVectorElement(γ[0]): 0.6075486502711857,\n",
            "                              ParameterVectorElement(γ[1]): 4.911104407967329},\n",
            "    'optimal_point': array([6.44633557, 5.40347889, 0.60754865, 4.91110441]),\n",
            "    'optimal_value': -3.9323957648374677,\n",
            "    'optimizer_evals': None,\n",
            "    'optimizer_result': <qiskit_algorithms.optimizers.optimizer.OptimizerResult object at 0x000001C79E30C7D0>,\n",
            "    'optimizer_time': 2.570249080657959}\n",
            "[1. 0.] 3.1622776601683795 0.6882383906309316\n",
            "[0. 1.] 3.605551275463989 0.3043664936889093\n",
            "[0. 0.] 0.0 0.0067775926634012\n",
            "[1. 1.] 6.767828935632369 0.0006175230167574\n"
          ]
        }
      ],
      "source": [
        "# [var.name for var in qaoa_result.variables]\n",
        "print(qaoa_result.x)\n",
        "print(qaoa_result.fval)\n",
        "print(qaoa_result.status)\n",
        "print(qaoa_result.min_eigen_solver_result)\n",
        "for s in qaoa_result.samples:\n",
        "    print(s.x, s.fval, s.probability)"
      ]
    }
  ],
  "metadata": {
    "colab": {
      "provenance": []
    },
    "kernelspec": {
      "display_name": "Python 3 (ipykernel)",
      "language": "python",
      "name": "python3"
    },
    "language_info": {
      "codemirror_mode": {
        "name": "ipython",
        "version": 3
      },
      "file_extension": ".py",
      "mimetype": "text/x-python",
      "name": "python",
      "nbconvert_exporter": "python",
      "pygments_lexer": "ipython3",
      "version": "3.11.3"
    }
  },
  "nbformat": 4,
  "nbformat_minor": 5
}
