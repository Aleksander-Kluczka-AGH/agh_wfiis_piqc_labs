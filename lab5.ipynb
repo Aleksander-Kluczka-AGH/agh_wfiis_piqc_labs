{
 "cells": [
  {
   "cell_type": "markdown",
   "metadata": {},
   "source": [
    "# Grover's algorithm"
   ]
  },
  {
   "cell_type": "markdown",
   "metadata": {},
   "source": [
    "References for Grover algorithm:\n",
    "    \n",
    "[Qiskit text book on Grover algorithm](https://learn.qiskit.org/course/introduction/grovers-search-algorithm)"
   ]
  },
  {
   "cell_type": "markdown",
   "metadata": {},
   "source": [
    "* analogy of phone book and looking for name having phone number - unstructured search (for structured/sorted databased binary search has logaritmic complexity, so good enough)\n",
    "* $\\sqrt{N}$ complexity so **quadratic improvement** over classical algorithm (simply going one by one and checking)\n",
    "* If we can make a problem look like a database search problem, then we can use Grover algorithm to solve it => quite generic algorithm.\n",
    "* Examples:\n",
    "    * looking for Sudoku solution\n",
    "    * Boolean satisfiability problem (known as 'SAT')"
   ]
  },
  {
   "cell_type": "markdown",
   "metadata": {},
   "source": [
    "### Let's explore a 3 qubit example (8 possible states) with our winner (searched item) being $|110>$ = $|6>$:"
   ]
  },
  {
   "cell_type": "code",
   "execution_count": 1,
   "metadata": {},
   "outputs": [
    {
     "data": {
      "text/html": [
       "<pre style=\"word-wrap: normal;white-space: pre;background: #fff0;line-height: 1.1;font-family: &quot;Courier New&quot;,Courier,monospace\">     ┌───┐     ┌───┐\n",
       "q_0: ┤ X ├──■──┤ X ├\n",
       "     └───┘  │  └───┘\n",
       "q_1: ───────■───────\n",
       "     ┌───┐┌─┴─┐┌───┐\n",
       "q_2: ┤ H ├┤ X ├┤ H ├\n",
       "     └───┘└───┘└───┘</pre>"
      ],
      "text/plain": [
       "     ┌───┐     ┌───┐\n",
       "q_0: ┤ X ├──■──┤ X ├\n",
       "     └───┘  │  └───┘\n",
       "q_1: ───────■───────\n",
       "     ┌───┐┌─┴─┐┌───┐\n",
       "q_2: ┤ H ├┤ X ├┤ H ├\n",
       "     └───┘└───┘└───┘"
      ]
     },
     "execution_count": 1,
     "metadata": {},
     "output_type": "execute_result"
    }
   ],
   "source": [
    "from qiskit import *\n",
    "\n",
    "oracle = QuantumCircuit(3, name=\"oracle\")\n",
    "oracle.x(0)\n",
    "oracle.h(2)\n",
    "oracle.ccx(0, 1, 2)\n",
    "oracle.x(0)\n",
    "oracle.h(2)\n",
    "\n",
    "oracle.draw()\n"
   ]
  },
  {
   "cell_type": "code",
   "execution_count": 2,
   "metadata": {},
   "outputs": [
    {
     "data": {
      "text/latex": [
       "$$ |111\\rangle$$"
      ],
      "text/plain": [
       "<IPython.core.display.Latex object>"
      ]
     },
     "execution_count": 2,
     "metadata": {},
     "output_type": "execute_result"
    }
   ],
   "source": [
    "from qiskit.quantum_info import Statevector\n",
    "\n",
    "state = Statevector.from_int(7, 2**3)\n",
    "state = state.evolve(oracle)\n",
    "state.draw(\"latex\")\n"
   ]
  },
  {
   "cell_type": "code",
   "execution_count": 9,
   "metadata": {},
   "outputs": [
    {
     "data": {
      "text/html": [
       "<pre style=\"word-wrap: normal;white-space: pre;background: #fff0;line-height: 1.1;font-family: &quot;Courier New&quot;,Courier,monospace\">                  \n",
       "q_0: ──────■──────\n",
       "     ┌───┐ │ ┌───┐\n",
       "q_1: ┤ X ├─■─┤ X ├\n",
       "     └───┘ │ └───┘\n",
       "q_2: ──────■──────\n",
       "                  </pre>"
      ],
      "text/plain": [
       "                  \n",
       "q_0: ──────■──────\n",
       "     ┌───┐ │ ┌───┐\n",
       "q_1: ┤ X ├─■─┤ X ├\n",
       "     └───┘ │ └───┘\n",
       "q_2: ──────■──────\n",
       "                  "
      ]
     },
     "execution_count": 9,
     "metadata": {},
     "output_type": "execute_result"
    }
   ],
   "source": [
    "from qiskit import *\n",
    "\n",
    "oracle = QuantumCircuit(3, name=\"oracle\")\n",
    "oracle.x(0)\n",
    "oracle.ccz(0, 1, 2)\n",
    "oracle.x(0)\n",
    "\n",
    "oracle.draw()\n"
   ]
  },
  {
   "cell_type": "code",
   "execution_count": 10,
   "metadata": {},
   "outputs": [
    {
     "data": {
      "text/latex": [
       "$$- |101\\rangle$$"
      ],
      "text/plain": [
       "<IPython.core.display.Latex object>"
      ]
     },
     "execution_count": 10,
     "metadata": {},
     "output_type": "execute_result"
    }
   ],
   "source": [
    "state = Statevector.from_int(5, 2**3)\n",
    "state = state.evolve(oracle)\n",
    "state.draw(\"latex\")\n"
   ]
  },
  {
   "cell_type": "code",
   "execution_count": 11,
   "metadata": {},
   "outputs": [
    {
     "data": {
      "text/html": [
       "<pre style=\"word-wrap: normal;white-space: pre;background: #fff0;line-height: 1.1;font-family: &quot;Courier New&quot;,Courier,monospace\">     ┌───┐┌───┐ ░                 ░ ┌───┐┌───┐\n",
       "q_0: ┤ H ├┤ X ├─░────────■────────░─┤ X ├┤ H ├\n",
       "     ├───┤├───┤ ░        │        ░ ├───┤├───┤\n",
       "q_1: ┤ H ├┤ X ├─░────────■────────░─┤ X ├┤ H ├\n",
       "     ├───┤├───┤ ░ ┌───┐┌─┴─┐┌───┐ ░ ├───┤├───┤\n",
       "q_2: ┤ H ├┤ X ├─░─┤ H ├┤ X ├┤ H ├─░─┤ X ├┤ H ├\n",
       "     └───┘└───┘ ░ └───┘└───┘└───┘ ░ └───┘└───┘</pre>"
      ],
      "text/plain": [
       "     ┌───┐┌───┐ ░                 ░ ┌───┐┌───┐\n",
       "q_0: ┤ H ├┤ X ├─░────────■────────░─┤ X ├┤ H ├\n",
       "     ├───┤├───┤ ░        │        ░ ├───┤├───┤\n",
       "q_1: ┤ H ├┤ X ├─░────────■────────░─┤ X ├┤ H ├\n",
       "     ├───┤├───┤ ░ ┌───┐┌─┴─┐┌───┐ ░ ├───┤├───┤\n",
       "q_2: ┤ H ├┤ X ├─░─┤ H ├┤ X ├┤ H ├─░─┤ X ├┤ H ├\n",
       "     └───┘└───┘ ░ └───┘└───┘└───┘ ░ └───┘└───┘"
      ]
     },
     "execution_count": 11,
     "metadata": {},
     "output_type": "execute_result"
    }
   ],
   "source": [
    "diffuser = QuantumCircuit(3, name=\"diffuser\")\n",
    "diffuser.h([0, 1, 2])\n",
    "diffuser.x([0, 1, 2])\n",
    "diffuser.barrier()\n",
    "diffuser.h(2)\n",
    "diffuser.ccx(0, 1, 2)\n",
    "diffuser.h(2)\n",
    "diffuser.barrier()\n",
    "diffuser.x([0, 1, 2])\n",
    "diffuser.h([0, 1, 2])\n",
    "diffuser.draw()\n"
   ]
  },
  {
   "cell_type": "code",
   "execution_count": 12,
   "metadata": {},
   "outputs": [
    {
     "data": {
      "text/html": [
       "<pre style=\"word-wrap: normal;white-space: pre;background: #fff0;line-height: 1.1;font-family: &quot;Courier New&quot;,Courier,monospace\">     ┌───┐┌─────────┐┌───────────┐┌─┐      \n",
       "q_0: ┤ H ├┤0        ├┤0          ├┤M├──────\n",
       "     ├───┤│         ││           │└╥┘┌─┐   \n",
       "q_1: ┤ H ├┤1 oracle ├┤1 diffuser ├─╫─┤M├───\n",
       "     ├───┤│         ││           │ ║ └╥┘┌─┐\n",
       "q_2: ┤ H ├┤2        ├┤2          ├─╫──╫─┤M├\n",
       "     └───┘└─────────┘└───────────┘ ║  ║ └╥┘\n",
       "c: 3/══════════════════════════════╩══╩══╩═\n",
       "                                   0  1  2 </pre>"
      ],
      "text/plain": [
       "     ┌───┐┌─────────┐┌───────────┐┌─┐      \n",
       "q_0: ┤ H ├┤0        ├┤0          ├┤M├──────\n",
       "     ├───┤│         ││           │└╥┘┌─┐   \n",
       "q_1: ┤ H ├┤1 oracle ├┤1 diffuser ├─╫─┤M├───\n",
       "     ├───┤│         ││           │ ║ └╥┘┌─┐\n",
       "q_2: ┤ H ├┤2        ├┤2          ├─╫──╫─┤M├\n",
       "     └───┘└─────────┘└───────────┘ ║  ║ └╥┘\n",
       "c: 3/══════════════════════════════╩══╩══╩═\n",
       "                                   0  1  2 "
      ]
     },
     "execution_count": 12,
     "metadata": {},
     "output_type": "execute_result"
    }
   ],
   "source": [
    "grover = QuantumCircuit(3, 3)\n",
    "grover.h([0, 1, 2])\n",
    "grover.append(oracle, [0, 1, 2])\n",
    "grover.append(diffuser, [0, 1, 2])\n",
    "grover.measure([0, 1, 2], [0, 1, 2])\n",
    "\n",
    "grover.draw()\n"
   ]
  },
  {
   "cell_type": "code",
   "execution_count": 13,
   "metadata": {},
   "outputs": [
    {
     "name": "stdout",
     "output_type": "stream",
     "text": [
      "2.221441469079183\n"
     ]
    }
   ],
   "source": [
    "import math\n",
    "\n",
    "num_iterations = math.pi * math.sqrt(8) / 4\n",
    "print(num_iterations)\n"
   ]
  },
  {
   "cell_type": "code",
   "execution_count": 14,
   "metadata": {},
   "outputs": [
    {
     "data": {
      "image/png": "[encoded data removed]",
      "text/plain": [
       "<Figure size 700x500 with 1 Axes>"
      ]
     },
     "execution_count": 14,
     "metadata": {},
     "output_type": "execute_result"
    }
   ],
   "source": [
    "from qiskit.visualization import plot_histogram\n",
    "\n",
    "grover = QuantumCircuit(3, 3)\n",
    "grover.h([0, 1, 2])\n",
    "\n",
    "for i in range(2):\n",
    "    grover.append(oracle, [0, 1, 2])\n",
    "    grover.append(diffuser, [0, 1, 2])\n",
    "\n",
    "grover.measure([0, 1, 2], [0, 1, 2])\n",
    "\n",
    "backend = Aer.get_backend(\"qasm_simulator\")\n",
    "job = execute(grover, backend, shots=1024)\n",
    "counts = job.result().get_counts()\n",
    "plot_histogram(counts)\n"
   ]
  },
  {
   "cell_type": "markdown",
   "metadata": {},
   "source": [
    "## Exercise:\n",
    "Construct analogical Grover circuit to look for state $|101>$"
   ]
  },
  {
   "cell_type": "markdown",
   "metadata": {},
   "source": [
    "## Exercise:\n",
    "* Construct Grover circuit looking for state |1001> out of 16 possible 4-qubit states.\n",
    "* Hint: to construct oracle and diffuser you can use mct() (multi-controlled-toffoli) gate in Qiskit.\n",
    "* What is the optimal number of Grover iterations?"
   ]
  },
  {
   "cell_type": "markdown",
   "metadata": {},
   "source": [
    "# Qiskit provides us a ready implementation of Grover algorithm, so you need only the oracle ;)\n",
    "More here: https://qiskit.org/ecosystem/algorithms/tutorials/06_grover.html"
   ]
  },
  {
   "cell_type": "code",
   "execution_count": 10,
   "metadata": {},
   "outputs": [],
   "source": [
    "# Let's use the first example above with 3 qubits and looking for |110>\n",
    "\n",
    "oracle = QuantumCircuit(3, name=\"oracle\")\n",
    "oracle.x(0)\n",
    "oracle.h(2)\n",
    "oracle.ccx(0, 1, 2)\n",
    "oracle.x(0)\n",
    "oracle.h(2)\n",
    "\n",
    "good_state = [\"110\"]\n"
   ]
  },
  {
   "cell_type": "code",
   "execution_count": 23,
   "metadata": {},
   "outputs": [
    {
     "name": "stdout",
     "output_type": "stream",
     "text": [
      "Result type: <class 'qiskit_algorithms.amplitude_amplifiers.grover.GroverResult'>\n",
      "\n",
      "Success!\n",
      "Top measurement: 110\n",
      "Probability: 0.7812499999999987\n"
     ]
    }
   ],
   "source": [
    "from qiskit import BasicAer\n",
    "from qiskit.utils import QuantumInstance\n",
    "from qiskit_algorithms import Grover, AmplificationProblem\n",
    "from qiskit.primitives import Sampler\n",
    "\n",
    "problem = AmplificationProblem(oracle=oracle, is_good_state=good_state)\n",
    "\n",
    "grover = Grover(sampler=Sampler())\n",
    "result = grover.amplify(problem)\n",
    "print(\"Result type:\", type(result))\n",
    "print()\n",
    "print(\"Success!\" if result.oracle_evaluation else \"Failure!\")\n",
    "print(\"Top measurement:\", result.top_measurement)\n",
    "print(\"Probability:\", result.max_probability)\n"
   ]
  },
  {
   "cell_type": "code",
   "execution_count": 27,
   "metadata": {},
   "outputs": [
    {
     "data": {
      "image/png": "[encoded data removed]",
      "text/plain": [
       "<Figure size 700x500 with 1 Axes>"
      ]
     },
     "execution_count": 27,
     "metadata": {},
     "output_type": "execute_result"
    }
   ],
   "source": [
    "plot_histogram(result.circuit_results)\n"
   ]
  },
  {
   "cell_type": "markdown",
   "metadata": {},
   "source": [
    "The results obtained is of type `GroverResult`:"
   ]
  },
  {
   "cell_type": "code",
   "execution_count": 16,
   "metadata": {},
   "outputs": [
    {
     "name": "stdout",
     "output_type": "stream",
     "text": [
      "{   'assignment': '110',\n",
      "    'circuit_results': [   {   '000': 0.0312499999999999,\n",
      "                               '001': 0.0312499999999999,\n",
      "                               '010': 0.0312499999999999,\n",
      "                               '011': 0.0312499999999999,\n",
      "                               '100': 0.0312499999999999,\n",
      "                               '101': 0.0312499999999999,\n",
      "                               '110': 0.7812499999999983,\n",
      "                               '111': 0.0312499999999999}],\n",
      "    'iterations': [1],\n",
      "    'max_probability': 0.7812499999999983,\n",
      "    'oracle_evaluation': True,\n",
      "    'top_measurement': '110'}\n"
     ]
    }
   ],
   "source": [
    "print(result)\n"
   ]
  },
  {
   "cell_type": "markdown",
   "metadata": {},
   "source": [
    "* `oracle` can be a QuantumCircuit object is the oracle is provided in this form\n",
    "* then the `is_good_state` function needs to be implemented and provided "
   ]
  },
  {
   "cell_type": "markdown",
   "metadata": {},
   "source": [
    "And even simpler method using Statevector (no need to be able to construct the oracle)"
   ]
  },
  {
   "cell_type": "code",
   "execution_count": 24,
   "metadata": {},
   "outputs": [
    {
     "name": "stdout",
     "output_type": "stream",
     "text": [
      "Top measurement: 110\n",
      "Probability: 0.7812499999999987\n"
     ]
    }
   ],
   "source": [
    "oracle = Statevector.from_label(\"110\")\n",
    "problem = AmplificationProblem(oracle, is_good_state=[\"110\"])\n",
    "grover = Grover(sampler=Sampler())\n",
    "result = grover.amplify(problem)\n",
    "print(\"Top measurement:\", result.top_measurement)\n",
    "print(\"Probability:\", result.max_probability)\n"
   ]
  },
  {
   "cell_type": "markdown",
   "metadata": {},
   "source": [
    "## Exercise\n",
    "\n",
    "Learn about the DIMACS-CNF format representation for SAT (satisfability) problems: https://qiskit.org/ecosystem/algorithms/tutorials/07_grover_examples.html\n",
    "\n",
    "Write a DIMACS-CNF file, construct oracle from it and use Grover algorithm to find solution to the following real life problem:\n",
    "\n",
    "There are 5 friends: Alice, Bob, Charlie, Dave and Eve\n",
    "Each friend can either come to the party or not come to the party\n",
    "The problem is to decide which friends to invite such that:\n",
    "- Alice and Bob must come to the party together or not at all\n",
    "- Charlie must come to the party only if Dave comes to the party\n",
    "- Eve cannot come to the party if Alice or Bob come to the party\n",
    "- At least one of them come to the party\n",
    "\n"
   ]
  }
 ],
 "metadata": {
  "kernelspec": {
   "display_name": "Python 3 (ipykernel)",
   "language": "python",
   "name": "python3"
  },
  "language_info": {
   "codemirror_mode": {
    "name": "ipython",
    "version": 3
   },
   "file_extension": ".py",
   "mimetype": "text/x-python",
   "name": "python",
   "nbconvert_exporter": "python",
   "pygments_lexer": "ipython3",
   "version": "3.11.3"
  }
 },
 "nbformat": 4,
 "nbformat_minor": 2
}
