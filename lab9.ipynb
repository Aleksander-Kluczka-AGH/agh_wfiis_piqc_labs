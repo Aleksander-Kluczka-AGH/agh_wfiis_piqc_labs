{
  "cells": [
    {
      "cell_type": "markdown",
      "metadata": {
        "id": "SsiY5DzEcGd_"
      },
      "source": [
        "VQE and Quantum Chemistry\n",
        "Author: Tomasz Stopa\n",
        "Modified by: Gregoire Cattan"
      ]
    },
    {
      "cell_type": "code",
      "execution_count": 1,
      "metadata": {
        "colab": {
          "base_uri": "https://localhost:8080/"
        },
        "id": "f6UggVXPjQVF",
        "outputId": "3eb30424-9498-4b41-b41c-9709862eb7e8"
      },
      "outputs": [
        {
          "name": "stdout",
          "output_type": "stream",
          "text": [
            "Requirement already satisfied: qiskit==0.45.1 in c:\\users\\alaga\\appdata\\local\\packages\\pythonsoftwarefoundation.python.3.11_qbz5n2kfra8p0\\localcache\\local-packages\\python311\\site-packages (0.45.1)\n",
            "Requirement already satisfied: qiskit-terra==0.45.1 in c:\\users\\alaga\\appdata\\local\\packages\\pythonsoftwarefoundation.python.3.11_qbz5n2kfra8p0\\localcache\\local-packages\\python311\\site-packages (from qiskit==0.45.1) (0.45.1)\n",
            "Requirement already satisfied: rustworkx>=0.13.0 in c:\\users\\alaga\\appdata\\local\\packages\\pythonsoftwarefoundation.python.3.11_qbz5n2kfra8p0\\localcache\\local-packages\\python311\\site-packages (from qiskit-terra==0.45.1->qiskit==0.45.1) (0.13.2)\n",
            "Requirement already satisfied: numpy<2,>=1.17 in c:\\users\\alaga\\appdata\\local\\packages\\pythonsoftwarefoundation.python.3.11_qbz5n2kfra8p0\\localcache\\local-packages\\python311\\site-packages (from qiskit-terra==0.45.1->qiskit==0.45.1) (1.23.5)\n",
            "Requirement already satisfied: ply>=3.10 in c:\\users\\alaga\\appdata\\local\\packages\\pythonsoftwarefoundation.python.3.11_qbz5n2kfra8p0\\localcache\\local-packages\\python311\\site-packages (from qiskit-terra==0.45.1->qiskit==0.45.1) (3.11)\n",
            "Requirement already satisfied: psutil>=5 in c:\\users\\alaga\\appdata\\local\\packages\\pythonsoftwarefoundation.python.3.11_qbz5n2kfra8p0\\localcache\\local-packages\\python311\\site-packages (from qiskit-terra==0.45.1->qiskit==0.45.1) (5.9.4)\n",
            "Requirement already satisfied: scipy>=1.5 in c:\\users\\alaga\\appdata\\local\\packages\\pythonsoftwarefoundation.python.3.11_qbz5n2kfra8p0\\localcache\\local-packages\\python311\\site-packages (from qiskit-terra==0.45.1->qiskit==0.45.1) (1.10.1)\n",
            "Requirement already satisfied: sympy>=1.3 in c:\\users\\alaga\\appdata\\local\\packages\\pythonsoftwarefoundation.python.3.11_qbz5n2kfra8p0\\localcache\\local-packages\\python311\\site-packages (from qiskit-terra==0.45.1->qiskit==0.45.1) (1.12)\n",
            "Requirement already satisfied: dill>=0.3 in c:\\users\\alaga\\appdata\\local\\packages\\pythonsoftwarefoundation.python.3.11_qbz5n2kfra8p0\\localcache\\local-packages\\python311\\site-packages (from qiskit-terra==0.45.1->qiskit==0.45.1) (0.3.6)\n",
            "Requirement already satisfied: python-dateutil>=2.8.0 in c:\\users\\alaga\\appdata\\local\\packages\\pythonsoftwarefoundation.python.3.11_qbz5n2kfra8p0\\localcache\\local-packages\\python311\\site-packages (from qiskit-terra==0.45.1->qiskit==0.45.1) (2.8.2)\n",
            "Requirement already satisfied: stevedore>=3.0.0 in c:\\users\\alaga\\appdata\\local\\packages\\pythonsoftwarefoundation.python.3.11_qbz5n2kfra8p0\\localcache\\local-packages\\python311\\site-packages (from qiskit-terra==0.45.1->qiskit==0.45.1) (5.1.0)\n",
            "Requirement already satisfied: six>=1.5 in c:\\users\\alaga\\appdata\\local\\packages\\pythonsoftwarefoundation.python.3.11_qbz5n2kfra8p0\\localcache\\local-packages\\python311\\site-packages (from python-dateutil>=2.8.0->qiskit-terra==0.45.1->qiskit==0.45.1) (1.16.0)\n",
            "Requirement already satisfied: pbr!=2.1.0,>=2.0.0 in c:\\users\\alaga\\appdata\\local\\packages\\pythonsoftwarefoundation.python.3.11_qbz5n2kfra8p0\\localcache\\local-packages\\python311\\site-packages (from stevedore>=3.0.0->qiskit-terra==0.45.1->qiskit==0.45.1) (6.0.0)\n",
            "Requirement already satisfied: mpmath>=0.19 in c:\\users\\alaga\\appdata\\local\\packages\\pythonsoftwarefoundation.python.3.11_qbz5n2kfra8p0\\localcache\\local-packages\\python311\\site-packages (from sympy>=1.3->qiskit-terra==0.45.1->qiskit==0.45.1) (1.3.0)\n"
          ]
        },
        {
          "name": "stderr",
          "output_type": "stream",
          "text": [
            "\n",
            "[notice] A new release of pip is available: 23.2.1 -> 23.3.2\n",
            "[notice] To update, run: C:\\Users\\alaga\\AppData\\Local\\Microsoft\\WindowsApps\\PythonSoftwareFoundation.Python.3.11_qbz5n2kfra8p0\\python.exe -m pip install --upgrade pip\n"
          ]
        },
        {
          "name": "stdout",
          "output_type": "stream",
          "text": [
            "Collecting qiskit_nature==0.5\n",
            "  Downloading qiskit_nature-0.5.0-py3-none-any.whl (2.3 MB)\n",
            "     ---------------------------------------- 0.0/2.3 MB ? eta -:--:--\n",
            "     - -------------------------------------- 0.1/2.3 MB 1.3 MB/s eta 0:00:02\n",
            "     ---- ----------------------------------- 0.3/2.3 MB 3.2 MB/s eta 0:00:01\n",
            "     ------- -------------------------------- 0.5/2.3 MB 3.2 MB/s eta 0:00:01\n",
            "     ---------- ----------------------------- 0.6/2.3 MB 3.2 MB/s eta 0:00:01\n",
            "     ----------- ---------------------------- 0.7/2.3 MB 3.3 MB/s eta 0:00:01\n",
            "     ------------- -------------------------- 0.8/2.3 MB 3.0 MB/s eta 0:00:01\n",
            "     ---------------- ----------------------- 1.0/2.3 MB 3.1 MB/s eta 0:00:01\n",
            "     ------------------ --------------------- 1.1/2.3 MB 2.9 MB/s eta 0:00:01\n",
            "     -------------------- ------------------- 1.2/2.3 MB 3.0 MB/s eta 0:00:01\n",
            "     ---------------------- ----------------- 1.3/2.3 MB 3.0 MB/s eta 0:00:01\n",
            "     ------------------------ --------------- 1.4/2.3 MB 2.8 MB/s eta 0:00:01\n",
            "     -------------------------- ------------- 1.6/2.3 MB 2.9 MB/s eta 0:00:01\n",
            "     ----------------------------- ---------- 1.7/2.3 MB 2.8 MB/s eta 0:00:01\n",
            "     ------------------------------- -------- 1.8/2.3 MB 2.8 MB/s eta 0:00:01\n",
            "     ---------------------------------- ----- 2.0/2.3 MB 2.9 MB/s eta 0:00:01\n",
            "     ------------------------------------ --- 2.1/2.3 MB 2.9 MB/s eta 0:00:01\n",
            "     ---------------------------------------  2.3/2.3 MB 2.9 MB/s eta 0:00:01\n",
            "     ---------------------------------------- 2.3/2.3 MB 2.9 MB/s eta 0:00:00\n",
            "Requirement already satisfied: qiskit-terra>=0.22.* in c:\\users\\alaga\\appdata\\local\\packages\\pythonsoftwarefoundation.python.3.11_qbz5n2kfra8p0\\localcache\\local-packages\\python311\\site-packages (from qiskit_nature==0.5) (0.45.1)\n",
            "Requirement already satisfied: scipy>=1.4 in c:\\users\\alaga\\appdata\\local\\packages\\pythonsoftwarefoundation.python.3.11_qbz5n2kfra8p0\\localcache\\local-packages\\python311\\site-packages (from qiskit_nature==0.5) (1.10.1)\n",
            "Requirement already satisfied: numpy>=1.17 in c:\\users\\alaga\\appdata\\local\\packages\\pythonsoftwarefoundation.python.3.11_qbz5n2kfra8p0\\localcache\\local-packages\\python311\\site-packages (from qiskit_nature==0.5) (1.23.5)\n",
            "Requirement already satisfied: psutil>=5 in c:\\users\\alaga\\appdata\\local\\packages\\pythonsoftwarefoundation.python.3.11_qbz5n2kfra8p0\\localcache\\local-packages\\python311\\site-packages (from qiskit_nature==0.5) (5.9.4)\n",
            "Requirement already satisfied: scikit-learn>=0.20.0 in c:\\users\\alaga\\appdata\\local\\packages\\pythonsoftwarefoundation.python.3.11_qbz5n2kfra8p0\\localcache\\local-packages\\python311\\site-packages (from qiskit_nature==0.5) (1.2.2)\n",
            "Requirement already satisfied: setuptools>=40.1.0 in c:\\program files\\windowsapps\\pythonsoftwarefoundation.python.3.11_3.11.1008.0_x64__qbz5n2kfra8p0\\lib\\site-packages (from qiskit_nature==0.5) (65.5.0)\n",
            "Requirement already satisfied: typing-extensions in c:\\users\\alaga\\appdata\\local\\packages\\pythonsoftwarefoundation.python.3.11_qbz5n2kfra8p0\\localcache\\local-packages\\python311\\site-packages (from qiskit_nature==0.5) (4.4.0)\n",
            "Requirement already satisfied: h5py in c:\\users\\alaga\\appdata\\local\\packages\\pythonsoftwarefoundation.python.3.11_qbz5n2kfra8p0\\localcache\\local-packages\\python311\\site-packages (from qiskit_nature==0.5) (3.8.0)\n",
            "Requirement already satisfied: rustworkx in c:\\users\\alaga\\appdata\\local\\packages\\pythonsoftwarefoundation.python.3.11_qbz5n2kfra8p0\\localcache\\local-packages\\python311\\site-packages (from qiskit_nature==0.5) (0.13.2)\n",
            "Requirement already satisfied: ply>=3.10 in c:\\users\\alaga\\appdata\\local\\packages\\pythonsoftwarefoundation.python.3.11_qbz5n2kfra8p0\\localcache\\local-packages\\python311\\site-packages (from qiskit-terra>=0.22.*->qiskit_nature==0.5) (3.11)\n",
            "Requirement already satisfied: sympy>=1.3 in c:\\users\\alaga\\appdata\\local\\packages\\pythonsoftwarefoundation.python.3.11_qbz5n2kfra8p0\\localcache\\local-packages\\python311\\site-packages (from qiskit-terra>=0.22.*->qiskit_nature==0.5) (1.12)\n",
            "Requirement already satisfied: dill>=0.3 in c:\\users\\alaga\\appdata\\local\\packages\\pythonsoftwarefoundation.python.3.11_qbz5n2kfra8p0\\localcache\\local-packages\\python311\\site-packages (from qiskit-terra>=0.22.*->qiskit_nature==0.5) (0.3.6)\n",
            "Requirement already satisfied: python-dateutil>=2.8.0 in c:\\users\\alaga\\appdata\\local\\packages\\pythonsoftwarefoundation.python.3.11_qbz5n2kfra8p0\\localcache\\local-packages\\python311\\site-packages (from qiskit-terra>=0.22.*->qiskit_nature==0.5) (2.8.2)\n",
            "Requirement already satisfied: stevedore>=3.0.0 in c:\\users\\alaga\\appdata\\local\\packages\\pythonsoftwarefoundation.python.3.11_qbz5n2kfra8p0\\localcache\\local-packages\\python311\\site-packages (from qiskit-terra>=0.22.*->qiskit_nature==0.5) (5.1.0)\n",
            "Requirement already satisfied: joblib>=1.1.1 in c:\\users\\alaga\\appdata\\local\\packages\\pythonsoftwarefoundation.python.3.11_qbz5n2kfra8p0\\localcache\\local-packages\\python311\\site-packages (from scikit-learn>=0.20.0->qiskit_nature==0.5) (1.2.0)\n",
            "Requirement already satisfied: threadpoolctl>=2.0.0 in c:\\users\\alaga\\appdata\\local\\packages\\pythonsoftwarefoundation.python.3.11_qbz5n2kfra8p0\\localcache\\local-packages\\python311\\site-packages (from scikit-learn>=0.20.0->qiskit_nature==0.5) (3.1.0)\n",
            "Requirement already satisfied: six>=1.5 in c:\\users\\alaga\\appdata\\local\\packages\\pythonsoftwarefoundation.python.3.11_qbz5n2kfra8p0\\localcache\\local-packages\\python311\\site-packages (from python-dateutil>=2.8.0->qiskit-terra>=0.22.*->qiskit_nature==0.5) (1.16.0)\n",
            "Requirement already satisfied: pbr!=2.1.0,>=2.0.0 in c:\\users\\alaga\\appdata\\local\\packages\\pythonsoftwarefoundation.python.3.11_qbz5n2kfra8p0\\localcache\\local-packages\\python311\\site-packages (from stevedore>=3.0.0->qiskit-terra>=0.22.*->qiskit_nature==0.5) (6.0.0)\n",
            "Requirement already satisfied: mpmath>=0.19 in c:\\users\\alaga\\appdata\\local\\packages\\pythonsoftwarefoundation.python.3.11_qbz5n2kfra8p0\\localcache\\local-packages\\python311\\site-packages (from sympy>=1.3->qiskit-terra>=0.22.*->qiskit_nature==0.5) (1.3.0)\n",
            "Installing collected packages: qiskit_nature\n",
            "Successfully installed qiskit_nature-0.5.0\n"
          ]
        },
        {
          "name": "stderr",
          "output_type": "stream",
          "text": [
            "DEPRECATION: qiskit-nature 0.5.0 has a non-standard dependency specifier qiskit-terra>=0.22.*. pip 23.3 will enforce this behaviour change. A possible replacement is to upgrade to a newer version of qiskit-nature or contact the author to suggest that they release a version with a conforming dependency specifiers. Discussion can be found at https://github.com/pypa/pip/issues/12063\n",
            "\n",
            "[notice] A new release of pip is available: 23.2.1 -> 23.3.2\n",
            "[notice] To update, run: C:\\Users\\alaga\\AppData\\Local\\Microsoft\\WindowsApps\\PythonSoftwareFoundation.Python.3.11_qbz5n2kfra8p0\\python.exe -m pip install --upgrade pip\n"
          ]
        },
        {
          "name": "stdout",
          "output_type": "stream",
          "text": [
            "Requirement already satisfied: qiskit_aer in c:\\users\\alaga\\appdata\\local\\packages\\pythonsoftwarefoundation.python.3.11_qbz5n2kfra8p0\\localcache\\local-packages\\python311\\site-packages (0.13.0)\n",
            "Requirement already satisfied: qiskit>=0.44.0 in c:\\users\\alaga\\appdata\\local\\packages\\pythonsoftwarefoundation.python.3.11_qbz5n2kfra8p0\\localcache\\local-packages\\python311\\site-packages (from qiskit_aer) (0.45.1)\n",
            "Requirement already satisfied: numpy>=1.16.3 in c:\\users\\alaga\\appdata\\local\\packages\\pythonsoftwarefoundation.python.3.11_qbz5n2kfra8p0\\localcache\\local-packages\\python311\\site-packages (from qiskit_aer) (1.23.5)\n",
            "Requirement already satisfied: scipy>=1.0 in c:\\users\\alaga\\appdata\\local\\packages\\pythonsoftwarefoundation.python.3.11_qbz5n2kfra8p0\\localcache\\local-packages\\python311\\site-packages (from qiskit_aer) (1.10.1)\n",
            "Requirement already satisfied: qiskit-terra==0.45.1 in c:\\users\\alaga\\appdata\\local\\packages\\pythonsoftwarefoundation.python.3.11_qbz5n2kfra8p0\\localcache\\local-packages\\python311\\site-packages (from qiskit>=0.44.0->qiskit_aer) (0.45.1)\n",
            "Requirement already satisfied: rustworkx>=0.13.0 in c:\\users\\alaga\\appdata\\local\\packages\\pythonsoftwarefoundation.python.3.11_qbz5n2kfra8p0\\localcache\\local-packages\\python311\\site-packages (from qiskit-terra==0.45.1->qiskit>=0.44.0->qiskit_aer) (0.13.2)\n",
            "Requirement already satisfied: ply>=3.10 in c:\\users\\alaga\\appdata\\local\\packages\\pythonsoftwarefoundation.python.3.11_qbz5n2kfra8p0\\localcache\\local-packages\\python311\\site-packages (from qiskit-terra==0.45.1->qiskit>=0.44.0->qiskit_aer) (3.11)\n",
            "Requirement already satisfied: psutil>=5 in c:\\users\\alaga\\appdata\\local\\packages\\pythonsoftwarefoundation.python.3.11_qbz5n2kfra8p0\\localcache\\local-packages\\python311\\site-packages (from qiskit-terra==0.45.1->qiskit>=0.44.0->qiskit_aer) (5.9.4)\n",
            "Requirement already satisfied: sympy>=1.3 in c:\\users\\alaga\\appdata\\local\\packages\\pythonsoftwarefoundation.python.3.11_qbz5n2kfra8p0\\localcache\\local-packages\\python311\\site-packages (from qiskit-terra==0.45.1->qiskit>=0.44.0->qiskit_aer) (1.12)\n",
            "Requirement already satisfied: dill>=0.3 in c:\\users\\alaga\\appdata\\local\\packages\\pythonsoftwarefoundation.python.3.11_qbz5n2kfra8p0\\localcache\\local-packages\\python311\\site-packages (from qiskit-terra==0.45.1->qiskit>=0.44.0->qiskit_aer) (0.3.6)\n",
            "Requirement already satisfied: python-dateutil>=2.8.0 in c:\\users\\alaga\\appdata\\local\\packages\\pythonsoftwarefoundation.python.3.11_qbz5n2kfra8p0\\localcache\\local-packages\\python311\\site-packages (from qiskit-terra==0.45.1->qiskit>=0.44.0->qiskit_aer) (2.8.2)\n",
            "Requirement already satisfied: stevedore>=3.0.0 in c:\\users\\alaga\\appdata\\local\\packages\\pythonsoftwarefoundation.python.3.11_qbz5n2kfra8p0\\localcache\\local-packages\\python311\\site-packages (from qiskit-terra==0.45.1->qiskit>=0.44.0->qiskit_aer) (5.1.0)\n",
            "Requirement already satisfied: six>=1.5 in c:\\users\\alaga\\appdata\\local\\packages\\pythonsoftwarefoundation.python.3.11_qbz5n2kfra8p0\\localcache\\local-packages\\python311\\site-packages (from python-dateutil>=2.8.0->qiskit-terra==0.45.1->qiskit>=0.44.0->qiskit_aer) (1.16.0)\n",
            "Requirement already satisfied: pbr!=2.1.0,>=2.0.0 in c:\\users\\alaga\\appdata\\local\\packages\\pythonsoftwarefoundation.python.3.11_qbz5n2kfra8p0\\localcache\\local-packages\\python311\\site-packages (from stevedore>=3.0.0->qiskit-terra==0.45.1->qiskit>=0.44.0->qiskit_aer) (6.0.0)\n",
            "Requirement already satisfied: mpmath>=0.19 in c:\\users\\alaga\\appdata\\local\\packages\\pythonsoftwarefoundation.python.3.11_qbz5n2kfra8p0\\localcache\\local-packages\\python311\\site-packages (from sympy>=1.3->qiskit-terra==0.45.1->qiskit>=0.44.0->qiskit_aer) (1.3.0)\n"
          ]
        },
        {
          "name": "stderr",
          "output_type": "stream",
          "text": [
            "DEPRECATION: qiskit-nature 0.5.0 has a non-standard dependency specifier qiskit-terra>=0.22.*. pip 23.3 will enforce this behaviour change. A possible replacement is to upgrade to a newer version of qiskit-nature or contact the author to suggest that they release a version with a conforming dependency specifiers. Discussion can be found at https://github.com/pypa/pip/issues/12063\n",
            "\n",
            "[notice] A new release of pip is available: 23.2.1 -> 23.3.2\n",
            "[notice] To update, run: C:\\Users\\alaga\\AppData\\Local\\Microsoft\\WindowsApps\\PythonSoftwareFoundation.Python.3.11_qbz5n2kfra8p0\\python.exe -m pip install --upgrade pip\n"
          ]
        },
        {
          "name": "stdout",
          "output_type": "stream",
          "text": [
            "Collecting pyscf\n",
            "  Downloading pyscf-2.4.0.tar.gz (8.7 MB)\n",
            "     ---------------------------------------- 0.0/8.7 MB ? eta -:--:--\n",
            "     ---------------------------------------- 0.1/8.7 MB 1.7 MB/s eta 0:00:06\n",
            "      --------------------------------------- 0.2/8.7 MB 2.1 MB/s eta 0:00:05\n",
            "     - -------------------------------------- 0.3/8.7 MB 1.7 MB/s eta 0:00:05\n",
            "     - -------------------------------------- 0.4/8.7 MB 2.3 MB/s eta 0:00:04\n",
            "     -- ------------------------------------- 0.6/8.7 MB 2.5 MB/s eta 0:00:04\n",
            "     -- ------------------------------------- 0.6/8.7 MB 2.3 MB/s eta 0:00:04\n",
            "     --- ------------------------------------ 0.7/8.7 MB 2.3 MB/s eta 0:00:04\n",
            "     --- ------------------------------------ 0.8/8.7 MB 2.3 MB/s eta 0:00:04\n",
            "     ---- ----------------------------------- 1.0/8.7 MB 2.3 MB/s eta 0:00:04\n",
            "     ----- ---------------------------------- 1.1/8.7 MB 2.4 MB/s eta 0:00:04\n",
            "     ----- ---------------------------------- 1.3/8.7 MB 2.5 MB/s eta 0:00:03\n",
            "     ------ --------------------------------- 1.4/8.7 MB 2.6 MB/s eta 0:00:03\n",
            "     ------- -------------------------------- 1.6/8.7 MB 2.6 MB/s eta 0:00:03\n",
            "     ------- -------------------------------- 1.7/8.7 MB 2.7 MB/s eta 0:00:03\n",
            "     -------- ------------------------------- 1.8/8.7 MB 2.7 MB/s eta 0:00:03\n",
            "     --------- ------------------------------ 2.0/8.7 MB 2.8 MB/s eta 0:00:03\n",
            "     --------- ------------------------------ 2.1/8.7 MB 2.8 MB/s eta 0:00:03\n",
            "     ---------- ----------------------------- 2.4/8.7 MB 2.8 MB/s eta 0:00:03\n",
            "     ----------- ---------------------------- 2.5/8.7 MB 2.9 MB/s eta 0:00:03\n",
            "     ----------- ---------------------------- 2.6/8.7 MB 2.9 MB/s eta 0:00:03\n",
            "     ----------- ---------------------------- 2.6/8.7 MB 2.9 MB/s eta 0:00:03\n",
            "     ----------- ---------------------------- 2.6/8.7 MB 2.9 MB/s eta 0:00:03\n",
            "     ----------- ---------------------------- 2.6/8.7 MB 2.9 MB/s eta 0:00:03\n",
            "     ----------- ---------------------------- 2.6/8.7 MB 2.9 MB/s eta 0:00:03\n",
            "     ----------- ---------------------------- 2.6/8.7 MB 2.9 MB/s eta 0:00:03\n",
            "     ----------- ---------------------------- 2.6/8.7 MB 2.9 MB/s eta 0:00:03\n",
            "     ----------- ---------------------------- 2.6/8.7 MB 2.9 MB/s eta 0:00:03\n",
            "     ----------- ---------------------------- 2.6/8.7 MB 2.9 MB/s eta 0:00:03\n",
            "     ----------- ---------------------------- 2.6/8.7 MB 2.9 MB/s eta 0:00:03\n",
            "     ----------- ---------------------------- 2.6/8.7 MB 2.9 MB/s eta 0:00:03\n",
            "     ----------- ---------------------------- 2.6/8.7 MB 1.8 MB/s eta 0:00:04\n",
            "     ----------- ---------------------------- 2.6/8.7 MB 1.8 MB/s eta 0:00:04\n",
            "     ------------ --------------------------- 2.7/8.7 MB 1.7 MB/s eta 0:00:04\n",
            "     ------------ --------------------------- 2.7/8.7 MB 1.7 MB/s eta 0:00:04\n",
            "     ------------- -------------------------- 2.9/8.7 MB 1.8 MB/s eta 0:00:04\n",
            "     -------------- ------------------------- 3.0/8.7 MB 1.8 MB/s eta 0:00:04\n",
            "     -------------- ------------------------- 3.2/8.7 MB 1.9 MB/s eta 0:00:03\n",
            "     --------------- ------------------------ 3.3/8.7 MB 1.9 MB/s eta 0:00:03\n",
            "     --------------- ------------------------ 3.5/8.7 MB 1.9 MB/s eta 0:00:03\n",
            "     ----------------- ---------------------- 3.7/8.7 MB 2.0 MB/s eta 0:00:03\n",
            "     ------------------ --------------------- 3.9/8.7 MB 2.0 MB/s eta 0:00:03\n",
            "     ------------------ --------------------- 4.1/8.7 MB 2.1 MB/s eta 0:00:03\n",
            "     ------------------- -------------------- 4.3/8.7 MB 2.2 MB/s eta 0:00:03\n",
            "     -------------------- ------------------- 4.4/8.7 MB 2.2 MB/s eta 0:00:02\n",
            "     -------------------- ------------------- 4.5/8.7 MB 2.2 MB/s eta 0:00:02\n",
            "     -------------------- ------------------- 4.5/8.7 MB 2.2 MB/s eta 0:00:02\n",
            "     -------------------- ------------------- 4.5/8.7 MB 2.2 MB/s eta 0:00:02\n",
            "     -------------------- ------------------- 4.5/8.7 MB 2.2 MB/s eta 0:00:02\n",
            "     -------------------- ------------------- 4.5/8.7 MB 2.2 MB/s eta 0:00:02\n",
            "     -------------------- ------------------- 4.5/8.7 MB 2.2 MB/s eta 0:00:02\n",
            "     -------------------- ------------------- 4.5/8.7 MB 1.9 MB/s eta 0:00:03\n",
            "     -------------------- ------------------- 4.5/8.7 MB 1.9 MB/s eta 0:00:03\n",
            "     -------------------- ------------------- 4.5/8.7 MB 1.8 MB/s eta 0:00:03\n",
            "     -------------------- ------------------- 4.5/8.7 MB 1.8 MB/s eta 0:00:03\n",
            "     -------------------- ------------------- 4.5/8.7 MB 1.8 MB/s eta 0:00:03\n",
            "     --------------------- ------------------ 4.6/8.7 MB 1.8 MB/s eta 0:00:03\n",
            "     --------------------- ------------------ 4.6/8.7 MB 1.8 MB/s eta 0:00:03\n",
            "     --------------------- ------------------ 4.7/8.7 MB 1.7 MB/s eta 0:00:03\n",
            "     ---------------------- ----------------- 4.9/8.7 MB 1.8 MB/s eta 0:00:03\n",
            "     ----------------------- ---------------- 5.0/8.7 MB 1.8 MB/s eta 0:00:02\n",
            "     ------------------------ --------------- 5.2/8.7 MB 1.9 MB/s eta 0:00:02\n",
            "     ------------------------ --------------- 5.4/8.7 MB 1.9 MB/s eta 0:00:02\n",
            "     ------------------------- -------------- 5.6/8.7 MB 1.9 MB/s eta 0:00:02\n",
            "     -------------------------- ------------- 5.8/8.7 MB 2.0 MB/s eta 0:00:02\n",
            "     --------------------------- ------------ 6.0/8.7 MB 2.0 MB/s eta 0:00:02\n",
            "     ---------------------------- ----------- 6.1/8.7 MB 2.0 MB/s eta 0:00:02\n",
            "     ----------------------------- ---------- 6.3/8.7 MB 2.0 MB/s eta 0:00:02\n",
            "     ----------------------------- ---------- 6.3/8.7 MB 2.0 MB/s eta 0:00:02\n",
            "     ----------------------------- ---------- 6.4/8.7 MB 2.0 MB/s eta 0:00:02\n",
            "     ----------------------------- ---------- 6.4/8.7 MB 2.0 MB/s eta 0:00:02\n",
            "     ------------------------------ --------- 6.5/8.7 MB 2.0 MB/s eta 0:00:02\n",
            "     ------------------------------ --------- 6.7/8.7 MB 2.0 MB/s eta 0:00:02\n",
            "     ------------------------------- -------- 6.8/8.7 MB 2.0 MB/s eta 0:00:01\n",
            "     -------------------------------- ------- 7.0/8.7 MB 2.0 MB/s eta 0:00:01\n",
            "     -------------------------------- ------- 7.1/8.7 MB 2.1 MB/s eta 0:00:01\n",
            "     --------------------------------- ------ 7.2/8.7 MB 2.1 MB/s eta 0:00:01\n",
            "     ---------------------------------- ----- 7.4/8.7 MB 2.1 MB/s eta 0:00:01\n",
            "     ---------------------------------- ----- 7.5/8.7 MB 2.1 MB/s eta 0:00:01\n",
            "     ----------------------------------- ---- 7.6/8.7 MB 2.1 MB/s eta 0:00:01\n",
            "     ----------------------------------- ---- 7.8/8.7 MB 2.1 MB/s eta 0:00:01\n",
            "     ------------------------------------ --- 7.8/8.7 MB 2.1 MB/s eta 0:00:01\n",
            "     ------------------------------------ --- 7.9/8.7 MB 2.1 MB/s eta 0:00:01\n",
            "     ------------------------------------ --- 8.0/8.7 MB 2.1 MB/s eta 0:00:01\n",
            "     ------------------------------------- -- 8.1/8.7 MB 2.1 MB/s eta 0:00:01\n",
            "     ------------------------------------- -- 8.2/8.7 MB 2.1 MB/s eta 0:00:01\n",
            "     ------------------------------------- -- 8.2/8.7 MB 2.1 MB/s eta 0:00:01\n",
            "     ------------------------------------- -- 8.2/8.7 MB 2.1 MB/s eta 0:00:01\n",
            "     ------------------------------------- -- 8.2/8.7 MB 2.1 MB/s eta 0:00:01\n",
            "     ------------------------------------- -- 8.2/8.7 MB 2.1 MB/s eta 0:00:01\n",
            "     ------------------------------------- -- 8.2/8.7 MB 2.1 MB/s eta 0:00:01\n",
            "     ------------------------------------- -- 8.2/8.7 MB 2.1 MB/s eta 0:00:01\n",
            "     ------------------------------------- -- 8.2/8.7 MB 2.1 MB/s eta 0:00:01\n",
            "     ------------------------------------- -- 8.2/8.7 MB 2.1 MB/s eta 0:00:01\n",
            "     ------------------------------------- -- 8.2/8.7 MB 2.1 MB/s eta 0:00:01\n",
            "     ------------------------------------- -- 8.2/8.7 MB 2.1 MB/s eta 0:00:01\n",
            "     ------------------------------------- -- 8.2/8.7 MB 2.1 MB/s eta 0:00:01\n",
            "     ------------------------------------- -- 8.2/8.7 MB 1.8 MB/s eta 0:00:01\n",
            "     -------------------------------------- - 8.3/8.7 MB 1.8 MB/s eta 0:00:01\n",
            "     -------------------------------------- - 8.3/8.7 MB 1.8 MB/s eta 0:00:01\n",
            "     -------------------------------------- - 8.4/8.7 MB 1.8 MB/s eta 0:00:01\n",
            "     ---------------------------------------  8.5/8.7 MB 1.8 MB/s eta 0:00:01\n",
            "     ---------------------------------------  8.6/8.7 MB 1.8 MB/s eta 0:00:01\n",
            "     ---------------------------------------  8.7/8.7 MB 1.8 MB/s eta 0:00:01\n",
            "     ---------------------------------------- 8.7/8.7 MB 1.8 MB/s eta 0:00:00\n",
            "  Preparing metadata (setup.py): started\n",
            "  Preparing metadata (setup.py): finished with status 'done'\n",
            "Requirement already satisfied: numpy!=1.16,!=1.17,>=1.13 in c:\\users\\alaga\\appdata\\local\\packages\\pythonsoftwarefoundation.python.3.11_qbz5n2kfra8p0\\localcache\\local-packages\\python311\\site-packages (from pyscf) (1.23.5)\n",
            "Requirement already satisfied: scipy!=1.5.0,!=1.5.1 in c:\\users\\alaga\\appdata\\local\\packages\\pythonsoftwarefoundation.python.3.11_qbz5n2kfra8p0\\localcache\\local-packages\\python311\\site-packages (from pyscf) (1.10.1)\n",
            "Requirement already satisfied: h5py>=2.7 in c:\\users\\alaga\\appdata\\local\\packages\\pythonsoftwarefoundation.python.3.11_qbz5n2kfra8p0\\localcache\\local-packages\\python311\\site-packages (from pyscf) (3.8.0)\n",
            "Requirement already satisfied: setuptools in c:\\program files\\windowsapps\\pythonsoftwarefoundation.python.3.11_3.11.1008.0_x64__qbz5n2kfra8p0\\lib\\site-packages (from pyscf) (65.5.0)\n",
            "Building wheels for collected packages: pyscf\n",
            "  Building wheel for pyscf (setup.py): started\n",
            "  Building wheel for pyscf (setup.py): finished with status 'error'\n",
            "  Running setup.py clean for pyscf\n",
            "Failed to build pyscf\n"
          ]
        },
        {
          "name": "stderr",
          "output_type": "stream",
          "text": [
            "  error: subprocess-exited-with-error\n",
            "  \n",
            "  × python setup.py bdist_wheel did not run successfully.\n",
            "  │ exit code: 1\n",
            "  ╰─> [20 lines of output]\n",
            "      running bdist_wheel\n",
            "      running build\n",
            "      running build_py\n",
            "      Configuring extensions\n",
            "      cmake -SC:\\Users\\alaga\\AppData\\Local\\Temp\\pip-install-jcauq753\\pyscf_4a8448697e8d45e8b5cd8476d260c7ad\\pyscf\\lib -Bbuild\\temp.win-amd64\n",
            "      -- Building for: NMake Makefiles\n",
            "      CMake Error at CMakeLists.txt:16 (project):\n",
            "        Running\n",
            "      \n",
            "         'nmake' '-?'\n",
            "      \n",
            "        failed with:\n",
            "      \n",
            "         The system cannot find the file specified\n",
            "      \n",
            "      \n",
            "      CMake Error: CMAKE_C_COMPILER not set, after EnableLanguage\n",
            "      CMake Error: CMAKE_CXX_COMPILER not set, after EnableLanguage\n",
            "      -- Configuring incomplete, errors occurred!\n",
            "      error: command 'C:\\\\Environment\\\\mingw64-11.0.0-ucrt-llvm-16\\\\bin\\\\cmake.exe' failed with exit code 1\n",
            "      [end of output]\n",
            "  \n",
            "  note: This error originates from a subprocess, and is likely not a problem with pip.\n",
            "  ERROR: Failed building wheel for pyscf\n",
            "ERROR: Could not build wheels for pyscf, which is required to install pyproject.toml-based projects\n",
            "\n",
            "[notice] A new release of pip is available: 23.2.1 -> 23.3.2\n",
            "[notice] To update, run: C:\\Users\\alaga\\AppData\\Local\\Microsoft\\WindowsApps\\PythonSoftwareFoundation.Python.3.11_qbz5n2kfra8p0\\python.exe -m pip install --upgrade pip\n"
          ]
        }
      ],
      "source": [
        "!pip install qiskit==0.45.1\n",
        "!pip install qiskit_nature==0.5\n",
        "!pip install qiskit_aer\n",
        "!pip install pyscf"
      ]
    },
    {
      "cell_type": "code",
      "execution_count": 3,
      "metadata": {
        "colab": {
          "base_uri": "https://localhost:8080/"
        },
        "id": "E4upl477F9aP",
        "outputId": "5b826390-8dae-439d-c15d-e901fc18623c"
      },
      "outputs": [
        {
          "name": "stderr",
          "output_type": "stream",
          "text": [
            "C:\\Users\\alaga\\AppData\\Local\\Temp\\ipykernel_18516\\216707918.py:8: NatureDeprecationWarning: The qiskit_nature.algorithms.excited_state_solvers package is deprecated as of version 0.5.0 and will be removed no sooner than 3 months after the release. Instead use the qiskit_nature.second_q.algorithms.excited_state_solvers package.\n",
            "  from qiskit_nature.algorithms.ground_state_solvers.minimum_eigensolver_factories import VQEUCCFactory\n",
            "C:\\Users\\alaga\\AppData\\Local\\Temp\\ipykernel_18516\\216707918.py:8: NatureDeprecationWarning: The qiskit_nature.algorithms.pes_sampler package is deprecated as of version 0.5.0 and will be removed no sooner than 3 months after the release . Please refer to 'https://github.com/Qiskit/qiskit-nature/issues/750' for additional information regarding 'extrapolators'.\n",
            "  from qiskit_nature.algorithms.ground_state_solvers.minimum_eigensolver_factories import VQEUCCFactory\n",
            "C:\\Users\\alaga\\AppData\\Local\\Temp\\ipykernel_18516\\216707918.py:39: NatureDeprecationWarning: The qiskit_nature.algorithms.ground_state_solvers.GroundStateEigensolver class is deprecated as of version 0.5.0 and will be removed no sooner than 3 months after the release. Instead use the qiskit_nature.second_q.algorithms.ground_state_solvers.GroundStateEigensolver class.\n",
            "  solver = GroundStateEigensolver(jw_converter, vqe_factory)\n"
          ]
        },
        {
          "ename": "MissingOptionalLibraryError",
          "evalue": "\"The 'pyscf' library is required to use 'PySCFDriver'.  See https://pyscf.org/install.html.\"",
          "output_type": "error",
          "traceback": [
            "\u001b[1;31m---------------------------------------------------------------------------\u001b[0m",
            "\u001b[1;31mMissingOptionalLibraryError\u001b[0m               Traceback (most recent call last)",
            "Cell \u001b[1;32mIn[3], line 40\u001b[0m\n\u001b[0;32m     34\u001b[0m vqe_factory \u001b[39m=\u001b[39m VQEUCCFactory(\n\u001b[0;32m     35\u001b[0m     quantum_instance\u001b[39m=\u001b[39mStatevectorSimulator(),\n\u001b[0;32m     36\u001b[0m     optimizer\u001b[39m=\u001b[39mSLSQP(),\n\u001b[0;32m     37\u001b[0m )\n\u001b[0;32m     39\u001b[0m solver \u001b[39m=\u001b[39m GroundStateEigensolver(jw_converter, vqe_factory)\n\u001b[1;32m---> 40\u001b[0m result \u001b[39m=\u001b[39m solver\u001b[39m.\u001b[39;49msolve(problem)\n\u001b[0;32m     41\u001b[0m \u001b[39mprint\u001b[39m(result\u001b[39m.\u001b[39mtotal_energies[\u001b[39m0\u001b[39m])\n",
            "File \u001b[1;32m~\\AppData\\Local\\Packages\\PythonSoftwareFoundation.Python.3.11_qbz5n2kfra8p0\\LocalCache\\local-packages\\Python311\\site-packages\\qiskit_nature\\algorithms\\ground_state_solvers\\ground_state_eigensolver.py:99\u001b[0m, in \u001b[0;36mGroundStateEigensolver.solve\u001b[1;34m(self, problem, aux_operators)\u001b[0m\n\u001b[0;32m     76\u001b[0m \u001b[39mdef\u001b[39;00m \u001b[39msolve\u001b[39m(\n\u001b[0;32m     77\u001b[0m     \u001b[39mself\u001b[39m,\n\u001b[0;32m     78\u001b[0m     problem: BaseProblem,\n\u001b[0;32m     79\u001b[0m     aux_operators: Optional[ListOrDictType[Union[SecondQuantizedOp, PauliSumOp]]] \u001b[39m=\u001b[39m \u001b[39mNone\u001b[39;00m,\n\u001b[0;32m     80\u001b[0m ) \u001b[39m-\u001b[39m\u001b[39m>\u001b[39m EigenstateResult:\n\u001b[0;32m     81\u001b[0m \u001b[39m    \u001b[39m\u001b[39m\"\"\"Compute Ground State properties.\u001b[39;00m\n\u001b[0;32m     82\u001b[0m \n\u001b[0;32m     83\u001b[0m \u001b[39m    Args:\u001b[39;00m\n\u001b[1;32m   (...)\u001b[0m\n\u001b[0;32m     97\u001b[0m \u001b[39m        :meth:`~.BaseProblem.interpret`.\u001b[39;00m\n\u001b[0;32m     98\u001b[0m \u001b[39m    \"\"\"\u001b[39;00m\n\u001b[1;32m---> 99\u001b[0m     main_operator, aux_ops \u001b[39m=\u001b[39m \u001b[39mself\u001b[39;49m\u001b[39m.\u001b[39;49mget_qubit_operators(problem, aux_operators)\n\u001b[0;32m    100\u001b[0m     raw_mes_result \u001b[39m=\u001b[39m \u001b[39mself\u001b[39m\u001b[39m.\u001b[39m_solver\u001b[39m.\u001b[39mcompute_minimum_eigenvalue(main_operator, aux_ops)  \u001b[39m# type: ignore\u001b[39;00m\n\u001b[0;32m    102\u001b[0m     result \u001b[39m=\u001b[39m problem\u001b[39m.\u001b[39minterpret(raw_mes_result)\n",
            "File \u001b[1;32m~\\AppData\\Local\\Packages\\PythonSoftwareFoundation.Python.3.11_qbz5n2kfra8p0\\LocalCache\\local-packages\\Python311\\site-packages\\qiskit_nature\\algorithms\\ground_state_solvers\\ground_state_eigensolver.py:113\u001b[0m, in \u001b[0;36mGroundStateEigensolver.get_qubit_operators\u001b[1;34m(self, problem, aux_operators)\u001b[0m\n\u001b[0;32m    110\u001b[0m \u001b[39m\u001b[39m\u001b[39m\"\"\"Gets the operator and auxiliary operators, and transforms the provided auxiliary operators\"\"\"\u001b[39;00m\n\u001b[0;32m    111\u001b[0m \u001b[39m# Note that ``aux_ops`` contains not only the transformed ``aux_operators`` passed by the\u001b[39;00m\n\u001b[0;32m    112\u001b[0m \u001b[39m# user but also additional ones from the transformation\u001b[39;00m\n\u001b[1;32m--> 113\u001b[0m second_q_ops \u001b[39m=\u001b[39m problem\u001b[39m.\u001b[39;49msecond_q_ops()\n\u001b[0;32m    114\u001b[0m aux_second_q_ops: ListOrDictType[SecondQuantizedOp]\n\u001b[0;32m    115\u001b[0m \u001b[39mif\u001b[39;00m \u001b[39misinstance\u001b[39m(second_q_ops, \u001b[39mlist\u001b[39m):\n",
            "File \u001b[1;32m~\\AppData\\Local\\Packages\\PythonSoftwareFoundation.Python.3.11_qbz5n2kfra8p0\\LocalCache\\local-packages\\Python311\\site-packages\\qiskit_nature\\problems\\second_quantization\\electronic\\electronic_structure_problem.py:98\u001b[0m, in \u001b[0;36mElectronicStructureProblem.second_q_ops\u001b[1;34m(self)\u001b[0m\n\u001b[0;32m     86\u001b[0m \u001b[39mdef\u001b[39;00m \u001b[39msecond_q_ops\u001b[39m(\u001b[39mself\u001b[39m) \u001b[39m-\u001b[39m\u001b[39m>\u001b[39m ListOrDictType[SecondQuantizedOp]:\n\u001b[0;32m     87\u001b[0m \u001b[39m    \u001b[39m\u001b[39m\"\"\"Returns the second quantized operators associated with this Property.\u001b[39;00m\n\u001b[0;32m     88\u001b[0m \n\u001b[0;32m     89\u001b[0m \u001b[39m    If the arguments are returned as a `list`, the operators are in the following order: the\u001b[39;00m\n\u001b[1;32m   (...)\u001b[0m\n\u001b[0;32m     96\u001b[0m \u001b[39m        A `list` or `dict` of `SecondQuantizedOp` objects.\u001b[39;00m\n\u001b[0;32m     97\u001b[0m \u001b[39m    \"\"\"\u001b[39;00m\n\u001b[1;32m---> 98\u001b[0m     driver_result \u001b[39m=\u001b[39m \u001b[39mself\u001b[39;49m\u001b[39m.\u001b[39;49mdriver\u001b[39m.\u001b[39;49mrun()\n\u001b[0;32m    100\u001b[0m     \u001b[39mself\u001b[39m\u001b[39m.\u001b[39m_grouped_property \u001b[39m=\u001b[39m driver_result\n\u001b[0;32m    101\u001b[0m     \u001b[39mself\u001b[39m\u001b[39m.\u001b[39m_grouped_property_transformed \u001b[39m=\u001b[39m \u001b[39mself\u001b[39m\u001b[39m.\u001b[39m_transform(\u001b[39mself\u001b[39m\u001b[39m.\u001b[39m_grouped_property)\n",
            "File \u001b[1;32m~\\AppData\\Local\\Packages\\PythonSoftwareFoundation.Python.3.11_qbz5n2kfra8p0\\LocalCache\\local-packages\\Python311\\site-packages\\qiskit_nature\\drivers\\second_quantization\\electronic_structure_molecule_driver.py:174\u001b[0m, in \u001b[0;36mElectronicStructureMoleculeDriver.run\u001b[1;34m(self)\u001b[0m\n\u001b[0;32m    173\u001b[0m \u001b[39mdef\u001b[39;00m \u001b[39mrun\u001b[39m(\u001b[39mself\u001b[39m) \u001b[39m-\u001b[39m\u001b[39m>\u001b[39m ElectronicStructureDriverResult:\n\u001b[1;32m--> 174\u001b[0m     driver_class \u001b[39m=\u001b[39m ElectronicStructureDriverType\u001b[39m.\u001b[39;49mdriver_class_from_type(\n\u001b[0;32m    175\u001b[0m         \u001b[39mself\u001b[39;49m\u001b[39m.\u001b[39;49mdriver_type, \u001b[39mself\u001b[39;49m\u001b[39m.\u001b[39;49mmethod\n\u001b[0;32m    176\u001b[0m     )\n\u001b[0;32m    177\u001b[0m     driver \u001b[39m=\u001b[39m driver_class\u001b[39m.\u001b[39mfrom_molecule(  \u001b[39m# type: ignore\u001b[39;00m\n\u001b[0;32m    178\u001b[0m         \u001b[39mself\u001b[39m\u001b[39m.\u001b[39mmolecule, \u001b[39mself\u001b[39m\u001b[39m.\u001b[39mbasis, \u001b[39mself\u001b[39m\u001b[39m.\u001b[39mmethod, \u001b[39mself\u001b[39m\u001b[39m.\u001b[39mdriver_kwargs\n\u001b[0;32m    179\u001b[0m     )\n\u001b[0;32m    180\u001b[0m     \u001b[39mreturn\u001b[39;00m driver\u001b[39m.\u001b[39mrun()\n",
            "File \u001b[1;32m~\\AppData\\Local\\Packages\\PythonSoftwareFoundation.Python.3.11_qbz5n2kfra8p0\\LocalCache\\local-packages\\Python311\\site-packages\\qiskit_nature\\drivers\\second_quantization\\electronic_structure_molecule_driver.py:85\u001b[0m, in \u001b[0;36mElectronicStructureDriverType.driver_class_from_type\u001b[1;34m(driver_type, method)\u001b[0m\n\u001b[0;32m     81\u001b[0m     \u001b[39mraise\u001b[39;00m MissingOptionalLibraryError(\n\u001b[0;32m     82\u001b[0m         libname\u001b[39m=\u001b[39mdriver_type, name\u001b[39m=\u001b[39m\u001b[39m\"\u001b[39m\u001b[39mElectronicStructureDriverType\u001b[39m\u001b[39m\"\u001b[39m\n\u001b[0;32m     83\u001b[0m     )\n\u001b[0;32m     84\u001b[0m \u001b[39m# instantiating the object will check if the driver is installed\u001b[39;00m\n\u001b[1;32m---> 85\u001b[0m _ \u001b[39m=\u001b[39m class_obj()\n\u001b[0;32m     86\u001b[0m class_obj\u001b[39m.\u001b[39mcheck_method_supported(method)\n\u001b[0;32m     87\u001b[0m driver_class \u001b[39m=\u001b[39m class_obj\n",
            "File \u001b[1;32m~\\AppData\\Local\\Packages\\PythonSoftwareFoundation.Python.3.11_qbz5n2kfra8p0\\LocalCache\\local-packages\\Python311\\site-packages\\qiskit\\utils\\classtools.py:111\u001b[0m, in \u001b[0;36m_WrappedMethod.__get__.<locals>.out\u001b[1;34m(*args, **kwargs)\u001b[0m\n\u001b[0;32m    108\u001b[0m \u001b[39m@functools\u001b[39m\u001b[39m.\u001b[39mwraps(method)\n\u001b[0;32m    109\u001b[0m \u001b[39mdef\u001b[39;00m \u001b[39mout\u001b[39m(\u001b[39m*\u001b[39margs, \u001b[39m*\u001b[39m\u001b[39m*\u001b[39mkwargs):\n\u001b[0;32m    110\u001b[0m     \u001b[39mfor\u001b[39;00m callback \u001b[39min\u001b[39;00m \u001b[39mself\u001b[39m\u001b[39m.\u001b[39m_before:\n\u001b[1;32m--> 111\u001b[0m         callback\u001b[39m.\u001b[39;49m\u001b[39m__get__\u001b[39;49m(obj, objtype)(\u001b[39m*\u001b[39;49margs, \u001b[39m*\u001b[39;49m\u001b[39m*\u001b[39;49mkwargs)\n\u001b[0;32m    112\u001b[0m     retval \u001b[39m=\u001b[39m method(\u001b[39m*\u001b[39margs, \u001b[39m*\u001b[39m\u001b[39m*\u001b[39mkwargs)\n\u001b[0;32m    113\u001b[0m     \u001b[39mfor\u001b[39;00m callback \u001b[39min\u001b[39;00m \u001b[39mself\u001b[39m\u001b[39m.\u001b[39m_after:\n",
            "File \u001b[1;32m~\\AppData\\Local\\Packages\\PythonSoftwareFoundation.Python.3.11_qbz5n2kfra8p0\\LocalCache\\local-packages\\Python311\\site-packages\\qiskit\\utils\\lazy_tester.py:39\u001b[0m, in \u001b[0;36m_RequireNow.__call__\u001b[1;34m(self, *_args, **_kwargs)\u001b[0m\n\u001b[0;32m     38\u001b[0m \u001b[39mdef\u001b[39;00m \u001b[39m__call__\u001b[39m(\u001b[39mself\u001b[39m, \u001b[39m*\u001b[39m_args, \u001b[39m*\u001b[39m\u001b[39m*\u001b[39m_kwargs):\n\u001b[1;32m---> 39\u001b[0m     \u001b[39mself\u001b[39;49m\u001b[39m.\u001b[39;49m_tester\u001b[39m.\u001b[39;49mrequire_now(\u001b[39mself\u001b[39;49m\u001b[39m.\u001b[39;49m_feature)\n",
            "File \u001b[1;32m~\\AppData\\Local\\Packages\\PythonSoftwareFoundation.Python.3.11_qbz5n2kfra8p0\\LocalCache\\local-packages\\Python311\\site-packages\\qiskit\\utils\\lazy_tester.py:223\u001b[0m, in \u001b[0;36mLazyDependencyManager.require_now\u001b[1;34m(self, feature)\u001b[0m\n\u001b[0;32m    221\u001b[0m \u001b[39mif\u001b[39;00m \u001b[39mself\u001b[39m:\n\u001b[0;32m    222\u001b[0m     \u001b[39mreturn\u001b[39;00m\n\u001b[1;32m--> 223\u001b[0m \u001b[39mraise\u001b[39;00m MissingOptionalLibraryError(\n\u001b[0;32m    224\u001b[0m     libname\u001b[39m=\u001b[39m\u001b[39mself\u001b[39m\u001b[39m.\u001b[39m_name, name\u001b[39m=\u001b[39mfeature, pip_install\u001b[39m=\u001b[39m\u001b[39mself\u001b[39m\u001b[39m.\u001b[39m_install, msg\u001b[39m=\u001b[39m\u001b[39mself\u001b[39m\u001b[39m.\u001b[39m_msg\n\u001b[0;32m    225\u001b[0m )\n",
            "\u001b[1;31mMissingOptionalLibraryError\u001b[0m: \"The 'pyscf' library is required to use 'PySCFDriver'.  See https://pyscf.org/install.html.\""
          ]
        }
      ],
      "source": [
        "from qiskit_nature.drivers import Molecule\n",
        "from qiskit_nature.drivers.second_quantization import (\n",
        "    ElectronicStructureMoleculeDriver,\n",
        "    ElectronicStructureDriverType,\n",
        ")\n",
        "from qiskit_nature.problems.second_quantization.electronic import (\n",
        "    ElectronicStructureProblem,\n",
        ")\n",
        "from qiskit_nature.transformers.second_quantization.electronic import (\n",
        "    ActiveSpaceTransformer,\n",
        ")\n",
        "from qiskit_nature.mappers.second_quantization import JordanWignerMapper\n",
        "from qiskit.algorithms.optimizers import SLSQP\n",
        "from qiskit_aer import StatevectorSimulator, QasmSimulator\n",
        "from qiskit_nature.algorithms.ground_state_solvers.minimum_eigensolver_factories import (\n",
        "    VQEUCCFactory,\n",
        ")\n",
        "from qiskit_nature.algorithms.ground_state_solvers import GroundStateEigensolver\n",
        "from qiskit_nature.converters.second_quantization import QubitConverter\n",
        "from qiskit_nature.mappers.second_quantization import JordanWignerMapper\n",
        "\n",
        "molecule = Molecule(\n",
        "    # coordinates are given in Angstrom\n",
        "    geometry=[\n",
        "        [\"H\", [0.0, 0.0, 0.0]],\n",
        "        [\"H\", [0.0, 0.0, 0.5]],\n",
        "    ],\n",
        "    multiplicity=1,\n",
        "    charge=0,\n",
        ")\n",
        "\n",
        "driver = ElectronicStructureMoleculeDriver(\n",
        "    molecule=molecule,\n",
        "    basis=\"sto3g\",\n",
        "    driver_type=ElectronicStructureDriverType.PYSCF,\n",
        ")\n",
        "\n",
        "problem = ElectronicStructureProblem(driver)\n",
        "\n",
        "jw_mapper = JordanWignerMapper()\n",
        "jw_converter = QubitConverter(jw_mapper)\n",
        "\n",
        "vqe_factory = VQEUCCFactory(\n",
        "    quantum_instance=StatevectorSimulator(),\n",
        "    optimizer=SLSQP(),\n",
        ")\n",
        "\n",
        "solver = GroundStateEigensolver(jw_converter, vqe_factory)\n",
        "result = solver.solve(problem)\n",
        "print(result.total_energies[0])"
      ]
    },
    {
      "cell_type": "markdown",
      "metadata": {
        "id": "gMiFpQhHF9aY"
      },
      "source": [
        "# Exercise:\n",
        "Using above VQE energy calculation, calculate what is the distance between hydrogen atoms in H2 molecule."
      ]
    },
    {
      "cell_type": "code",
      "execution_count": null,
      "metadata": {
        "id": "ZeIrVildF9aa"
      },
      "outputs": [],
      "source": [
        "molecule = Molecule(\n",
        "    # coordinates are given in Angstrom\n",
        "    geometry=[\n",
        "        [\"O\", [0.0, 0.0, 0.115]],\n",
        "        [\"H\", [0.0, 0.754, -0.459]],\n",
        "        [\"H\", [0.0, -0.754, -0.459]],\n",
        "    ],\n",
        "    multiplicity=1,  # = 2*spin + 1\n",
        "    charge=0,\n",
        ")"
      ]
    },
    {
      "cell_type": "code",
      "execution_count": null,
      "metadata": {
        "id": "qM1nxm3OF9ab"
      },
      "outputs": [],
      "source": [
        "driver = ElectronicStructureMoleculeDriver(\n",
        "    molecule=molecule,\n",
        "    basis=\"sto3g\",\n",
        "    driver_type=ElectronicStructureDriverType.PYSCF,\n",
        ")"
      ]
    },
    {
      "cell_type": "code",
      "execution_count": null,
      "metadata": {
        "id": "Y2lsaFyyF9ac"
      },
      "outputs": [],
      "source": [
        "problem = ElectronicStructureProblem(driver)"
      ]
    },
    {
      "cell_type": "markdown",
      "metadata": {
        "id": "ekbgQeJPF9ak"
      },
      "source": [
        "Molecular orbital = linear combination of all atomic orbitals. We get the same number of MOs as we have atomic orbitals (SOs).\n",
        "\n",
        "Now, we must map our second-quantized Hamiltonian into a qubit operator.\n",
        "\n",
        "This is done with the QubitConverter in combination with a QubitMapper of your choice.\n",
        "\n",
        "Possible mappings:\n",
        "* Jordan-Wigner (stores the occupation information of one spin orbital in one qubit)\n",
        "* parity mapping\n"
      ]
    },
    {
      "cell_type": "code",
      "execution_count": null,
      "metadata": {
        "id": "EJAHM2vjF9al"
      },
      "outputs": [],
      "source": [
        "# Now let's check parity mapping, which uses qubits more effectively:\n",
        "\n",
        "from qiskit_nature.mappers.second_quantization import ParityMapper\n",
        "\n",
        "parity_mapper = ParityMapper()\n",
        "parity_converter = QubitConverter(parity_mapper, two_qubit_reduction=True)"
      ]
    },
    {
      "cell_type": "markdown",
      "metadata": {
        "id": "GLGxYKVQF9an"
      },
      "source": [
        "Now we need to use  VQE algorithm:"
      ]
    },
    {
      "cell_type": "code",
      "execution_count": null,
      "metadata": {
        "id": "rOlSRv-cF9an"
      },
      "outputs": [],
      "source": [
        "from qiskit.algorithms.optimizers import SLSQP\n",
        "from qiskit_nature.algorithms.ground_state_solvers.minimum_eigensolver_factories import (\n",
        "    VQEUCCFactory,\n",
        ")\n",
        "\n",
        "vqe_factory = VQEUCCFactory(\n",
        "    quantum_instance=StatevectorSimulator(),\n",
        "    # quantum_instance=QasmSimulator(),\n",
        "    optimizer=SLSQP(),\n",
        ")\n",
        "\n",
        "# We use UCC Ansatz (which is conserving particles)"
      ]
    },
    {
      "cell_type": "code",
      "execution_count": null,
      "metadata": {
        "id": "X7_pHEVQF9co"
      },
      "outputs": [],
      "source": [
        "from qiskit_nature.algorithms.ground_state_solvers import GroundStateEigensolver\n",
        "\n",
        "solver = GroundStateEigensolver(parity_converter, vqe_factory)"
      ]
    },
    {
      "cell_type": "code",
      "execution_count": null,
      "metadata": {
        "colab": {
          "background_save": true
        },
        "id": "VyOyrfiWF9co"
      },
      "outputs": [],
      "source": [
        "solver.solve(problem)"
      ]
    }
  ],
  "metadata": {
    "colab": {
      "provenance": []
    },
    "kernelspec": {
      "display_name": "Python 3 (ipykernel)",
      "language": "python",
      "name": "python3"
    },
    "language_info": {
      "codemirror_mode": {
        "name": "ipython",
        "version": 3
      },
      "file_extension": ".py",
      "mimetype": "text/x-python",
      "name": "python",
      "nbconvert_exporter": "python",
      "pygments_lexer": "ipython3",
      "version": "3.11.3"
    }
  },
  "nbformat": 4,
  "nbformat_minor": 0
}
